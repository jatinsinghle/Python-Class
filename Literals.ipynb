{
 "cells": [
  {
   "cell_type": "markdown",
   "id": "02c45202-f4ee-48dc-97b0-84f8363c0cb4",
   "metadata": {},
   "source": [
    "Literals"
   ]
  },
  {
   "cell_type": "code",
   "execution_count": 2,
   "id": "dc611b2f-8884-4eb2-8707-ee7e7f9c11c0",
   "metadata": {},
   "outputs": [],
   "source": [
    "a=10\n",
    "#int literal"
   ]
  },
  {
   "cell_type": "code",
   "execution_count": 4,
   "id": "5e114f00-ac28-4c9e-8e66-c3352cb0a395",
   "metadata": {},
   "outputs": [],
   "source": [
    "b=2.6\n",
    "#float literal"
   ]
  },
  {
   "cell_type": "code",
   "execution_count": 6,
   "id": "4eda400f-5ca7-4c4d-a128-d847f564480d",
   "metadata": {},
   "outputs": [],
   "source": [
    "c=True\n",
    "#boolean literal"
   ]
  },
  {
   "cell_type": "code",
   "execution_count": 8,
   "id": "699409a9-ff35-4f53-a5d2-561574d323d8",
   "metadata": {},
   "outputs": [],
   "source": [
    "d=5+3j\n",
    "#complex literal"
   ]
  },
  {
   "cell_type": "code",
   "execution_count": 10,
   "id": "dc98c053-1302-4a43-9579-b525c6e293d0",
   "metadata": {},
   "outputs": [],
   "source": [
    "e=None\n",
    "#special Literal"
   ]
  },
  {
   "cell_type": "code",
   "execution_count": 12,
   "id": "66696a6d-38c6-4c08-86d5-09d5143984ad",
   "metadata": {},
   "outputs": [
    {
     "name": "stdout",
     "output_type": "stream",
     "text": [
      "None\n"
     ]
    }
   ],
   "source": [
    "print(e)"
   ]
  },
  {
   "cell_type": "code",
   "execution_count": 14,
   "id": "b2c83174-9ba6-479b-b0f3-5616e8c1ba1f",
   "metadata": {},
   "outputs": [],
   "source": [
    "e='Jatin'\n",
    "#String Literal"
   ]
  },
  {
   "cell_type": "code",
   "execution_count": 16,
   "id": "bca25da3-105b-4fa9-882e-39df33cac20e",
   "metadata": {},
   "outputs": [
    {
     "name": "stdout",
     "output_type": "stream",
     "text": [
      "Jatin\n"
     ]
    }
   ],
   "source": [
    "print(e)"
   ]
  },
  {
   "cell_type": "code",
   "execution_count": null,
   "id": "e2990270-3e7f-4d36-bf76-e81619028c62",
   "metadata": {},
   "outputs": [],
   "source": [
    "#keywords-\n",
    "#There are 35 keywords.\n",
    "#identifiers-\n",
    "#identifiers are the special characters and numerical numbers(not use as a variable)\n",
    "#len- it is use to measure the length\n",
    "#user input-\n",
    "#user input use to enter data and display it.\n",
    "\n"
   ]
  }
 ],
 "metadata": {
  "kernelspec": {
   "display_name": "Python [conda env:base] *",
   "language": "python",
   "name": "conda-base-py"
  },
  "language_info": {
   "codemirror_mode": {
    "name": "ipython",
    "version": 3
   },
   "file_extension": ".py",
   "mimetype": "text/x-python",
   "name": "python",
   "nbconvert_exporter": "python",
   "pygments_lexer": "ipython3",
   "version": "3.12.7"
  }
 },
 "nbformat": 4,
 "nbformat_minor": 5
}

{
 "cells": [
  {
   "cell_type": "markdown",
   "id": "55a921a2-f8f2-406c-96c7-49ad34cab4df",
   "metadata": {},
   "source": [
    "Sets"
   ]
  },
  {
   "cell_type": "markdown",
   "id": "93ec5dce-3106-4b95-89d3-a982e6825e29",
   "metadata": {},
   "source": [
    "Sets\n",
    "\n",
    "Unordered, unique elements.\n",
    "\n",
    "Set is mutable; elements are immutable.\n",
    "\n",
    "Operations: Union, intersection, symmetric difference, etc.\n",
    "\n",
    "Characteristics:\n",
    "\n",
    "Unordered\n",
    "\n",
    "Mutable\n",
    "\n",
    "Unique Elements\n",
    "\n",
    "No Mutable Data Types\n",
    "\n",
    "Important Rules about Sets\n",
    "\n",
    "No Duplicates\n",
    "No Indexing/Slicing\n",
    "\n",
    "No Mutable Elements\n",
    "\n",
    "Set is Mutable\n",
    "\n",
    "Create\n",
    "\n",
    "Access\n",
    "\n",
    "Edit\n",
    "\n",
    "Add\n",
    "\n",
    "Delete\n",
    "\n",
    "Operations\n",
    "\n",
    "Functions\n"
   ]
  },
  {
   "cell_type": "markdown",
   "id": "dbbad18d-757a-49e2-a028-ad52210fbbbf",
   "metadata": {},
   "source": [
    "1. Create"
   ]
  },
  {
   "cell_type": "code",
   "execution_count": 12,
   "id": "5838fce2-9d25-46a3-9be6-571049cbde32",
   "metadata": {},
   "outputs": [
    {
     "data": {
      "text/plain": [
       "{}"
      ]
     },
     "execution_count": 12,
     "metadata": {},
     "output_type": "execute_result"
    }
   ],
   "source": [
    "#empty\n",
    "S1={}\n",
    "S1"
   ]
  },
  {
   "cell_type": "code",
   "execution_count": 14,
   "id": "9ba5f362-1a0e-4ca4-95ad-121418293e77",
   "metadata": {},
   "outputs": [
    {
     "data": {
      "text/plain": [
       "dict"
      ]
     },
     "execution_count": 14,
     "metadata": {},
     "output_type": "execute_result"
    }
   ],
   "source": [
    "type(S1)"
   ]
  },
  {
   "cell_type": "code",
   "execution_count": 16,
   "id": "3d446c4a-d5ee-4fc9-a7fe-f0a1abd5cd66",
   "metadata": {},
   "outputs": [],
   "source": [
    "S1=set()"
   ]
  },
  {
   "cell_type": "code",
   "execution_count": 20,
   "id": "7405339c-655c-4d2e-a380-4268695f3ed6",
   "metadata": {},
   "outputs": [
    {
     "data": {
      "text/plain": [
       "set"
      ]
     },
     "execution_count": 20,
     "metadata": {},
     "output_type": "execute_result"
    }
   ],
   "source": [
    "type(S1)"
   ]
  },
  {
   "cell_type": "code",
   "execution_count": 28,
   "id": "f2996317-c9a1-45e5-929c-2f314f5bf1f2",
   "metadata": {},
   "outputs": [
    {
     "data": {
      "text/plain": [
       "{1, 2, 3, 4, 5}"
      ]
     },
     "execution_count": 28,
     "metadata": {},
     "output_type": "execute_result"
    }
   ],
   "source": [
    "#1D and 2D sets\n",
    "S1={1,2,3,4,5} #1D\n",
    "S1"
   ]
  },
  {
   "cell_type": "code",
   "execution_count": 32,
   "id": "fc8b1e36-0890-49f9-8d54-ae391b98c75a",
   "metadata": {},
   "outputs": [
    {
     "ename": "TypeError",
     "evalue": "unhashable type: 'set'",
     "output_type": "error",
     "traceback": [
      "\u001b[1;31m---------------------------------------------------------------------------\u001b[0m",
      "\u001b[1;31mTypeError\u001b[0m                                 Traceback (most recent call last)",
      "Cell \u001b[1;32mIn[32], line 1\u001b[0m\n\u001b[1;32m----> 1\u001b[0m S2 \u001b[38;5;241m=\u001b[39m {\u001b[38;5;241m1\u001b[39m, \u001b[38;5;241m2\u001b[39m, \u001b[38;5;241m3\u001b[39m, {\u001b[38;5;241m4\u001b[39m, \u001b[38;5;241m5\u001b[39m}} \u001b[38;5;66;03m# 2D Set\u001b[39;00m\n\u001b[0;32m      2\u001b[0m S2\n",
      "\u001b[1;31mTypeError\u001b[0m: unhashable type: 'set'"
     ]
    }
   ],
   "source": [
    "S2 = {1, 2, 3, {4, 5}} # 2D Set\n",
    "S2\n",
    "#a set doesn't support imutable datatypes"
   ]
  },
  {
   "cell_type": "code",
   "execution_count": 34,
   "id": "ad09498d-16e8-45fd-b646-26efa79f2d72",
   "metadata": {},
   "outputs": [
    {
     "data": {
      "text/plain": [
       "{1, 2, 3, 4, 5}"
      ]
     },
     "execution_count": 34,
     "metadata": {},
     "output_type": "execute_result"
    }
   ],
   "source": [
    "#homogenous\n",
    "a={1,2,3,4,5}\n",
    "a"
   ]
  },
  {
   "cell_type": "code",
   "execution_count": 36,
   "id": "f6f37497-dae9-4a2e-9d47-fda1e392be76",
   "metadata": {},
   "outputs": [
    {
     "data": {
      "text/plain": [
       "{4.5, False, 'Jatin'}"
      ]
     },
     "execution_count": 36,
     "metadata": {},
     "output_type": "execute_result"
    }
   ],
   "source": [
    "#hetrogenous\n",
    "b={\"Jatin\", 4.5, False}\n",
    "b"
   ]
  },
  {
   "cell_type": "code",
   "execution_count": 38,
   "id": "8f517700-5efe-49db-b9dc-3267bdd04934",
   "metadata": {},
   "outputs": [
    {
     "data": {
      "text/plain": [
       "{1, 2, 3, 45}"
      ]
     },
     "execution_count": 38,
     "metadata": {},
     "output_type": "execute_result"
    }
   ],
   "source": [
    "#type conversion\n",
    "S3=set([1,2,3,45,])\n",
    "S3"
   ]
  },
  {
   "cell_type": "code",
   "execution_count": 40,
   "id": "bb37e2ba-f877-4a5f-a2e6-befc2c459354",
   "metadata": {},
   "outputs": [
    {
     "data": {
      "text/plain": [
       "set"
      ]
     },
     "execution_count": 40,
     "metadata": {},
     "output_type": "execute_result"
    }
   ],
   "source": [
    "type(S3)"
   ]
  },
  {
   "cell_type": "code",
   "execution_count": 46,
   "id": "c0194839-0c78-4751-a59b-3330a25cc36b",
   "metadata": {},
   "outputs": [
    {
     "data": {
      "text/plain": [
       "{1, 2, 3, 4}"
      ]
     },
     "execution_count": 46,
     "metadata": {},
     "output_type": "execute_result"
    }
   ],
   "source": [
    "#duplication not allowed\n",
    "S4={1,2,3,1,2,3,4,4}\n",
    "S4"
   ]
  },
  {
   "cell_type": "code",
   "execution_count": 48,
   "id": "cff82e83-5590-45d7-8da4-f09686691d34",
   "metadata": {},
   "outputs": [
    {
     "ename": "TypeError",
     "evalue": "unhashable type: 'list'",
     "output_type": "error",
     "traceback": [
      "\u001b[1;31m---------------------------------------------------------------------------\u001b[0m",
      "\u001b[1;31mTypeError\u001b[0m                                 Traceback (most recent call last)",
      "Cell \u001b[1;32mIn[48], line 2\u001b[0m\n\u001b[0;32m      1\u001b[0m \u001b[38;5;66;03m#set can't have mutable datatypes\u001b[39;00m\n\u001b[1;32m----> 2\u001b[0m S5\u001b[38;5;241m=\u001b[39m{[\u001b[38;5;241m1\u001b[39m,\u001b[38;5;241m3\u001b[39m,\u001b[38;5;241m6\u001b[39m], \u001b[38;5;124m'\u001b[39m\u001b[38;5;124mhello\u001b[39m\u001b[38;5;124m'\u001b[39m, \u001b[38;5;241m66.7\u001b[39m}\n",
      "\u001b[1;31mTypeError\u001b[0m: unhashable type: 'list'"
     ]
    }
   ],
   "source": [
    "#set can't have mutable datatypes\n",
    "S5={[1,3,6], 'hello', 66.7}"
   ]
  },
  {
   "cell_type": "code",
   "execution_count": 50,
   "id": "7c66dc83-3f81-48f2-b7a6-bb6dcdc0e48c",
   "metadata": {},
   "outputs": [
    {
     "data": {
      "text/plain": [
       "{(1, 3, 6), 66.7, 'hello'}"
      ]
     },
     "execution_count": 50,
     "metadata": {},
     "output_type": "execute_result"
    }
   ],
   "source": [
    "S5={(1,3,6), 'hello', 66.7}\n",
    "S5"
   ]
  },
  {
   "cell_type": "code",
   "execution_count": 52,
   "id": "bef19672-4abd-4762-9413-903487cbfb10",
   "metadata": {},
   "outputs": [],
   "source": [
    "# Sets have no indexing\n",
    "# Hashing"
   ]
  },
  {
   "cell_type": "code",
   "execution_count": 54,
   "id": "8399dea3-4c9f-4fc5-ab2b-8ecfb80408f4",
   "metadata": {},
   "outputs": [],
   "source": [
    "a={1,2,3}\n",
    "b={3,2,1}"
   ]
  },
  {
   "cell_type": "code",
   "execution_count": 56,
   "id": "4e7d2596-d06f-476f-abc0-9defca979216",
   "metadata": {},
   "outputs": [
    {
     "name": "stdout",
     "output_type": "stream",
     "text": [
      "True\n"
     ]
    }
   ],
   "source": [
    "print(a==b)"
   ]
  },
  {
   "cell_type": "markdown",
   "id": "185e9bff-344a-4647-9909-6bc8bc31ff22",
   "metadata": {},
   "source": [
    "2. Access"
   ]
  },
  {
   "cell_type": "code",
   "execution_count": 61,
   "id": "a25ff37c-08f2-4b4d-940a-2f7f69be6037",
   "metadata": {},
   "outputs": [
    {
     "data": {
      "text/plain": [
       "{1, 2, 3, 4, 5}"
      ]
     },
     "execution_count": 61,
     "metadata": {},
     "output_type": "execute_result"
    }
   ],
   "source": [
    "S1"
   ]
  },
  {
   "cell_type": "code",
   "execution_count": 63,
   "id": "3f928866-0d3b-4a0e-8302-36907e19a6d0",
   "metadata": {},
   "outputs": [
    {
     "ename": "TypeError",
     "evalue": "'set' object is not subscriptable",
     "output_type": "error",
     "traceback": [
      "\u001b[1;31m---------------------------------------------------------------------------\u001b[0m",
      "\u001b[1;31mTypeError\u001b[0m                                 Traceback (most recent call last)",
      "Cell \u001b[1;32mIn[63], line 1\u001b[0m\n\u001b[1;32m----> 1\u001b[0m S1[\u001b[38;5;241m0\u001b[39m]\n",
      "\u001b[1;31mTypeError\u001b[0m: 'set' object is not subscriptable"
     ]
    }
   ],
   "source": [
    "S1[0]"
   ]
  },
  {
   "cell_type": "code",
   "execution_count": 65,
   "id": "47ba8b9a-9ebc-4552-806c-4e2c4b9a27a2",
   "metadata": {},
   "outputs": [
    {
     "ename": "TypeError",
     "evalue": "'set' object is not subscriptable",
     "output_type": "error",
     "traceback": [
      "\u001b[1;31m---------------------------------------------------------------------------\u001b[0m",
      "\u001b[1;31mTypeError\u001b[0m                                 Traceback (most recent call last)",
      "Cell \u001b[1;32mIn[65], line 1\u001b[0m\n\u001b[1;32m----> 1\u001b[0m S1[\u001b[38;5;241m-\u001b[39m\u001b[38;5;241m4\u001b[39m]\n",
      "\u001b[1;31mTypeError\u001b[0m: 'set' object is not subscriptable"
     ]
    }
   ],
   "source": [
    "S1[-4]"
   ]
  },
  {
   "cell_type": "code",
   "execution_count": 69,
   "id": "2feadfd1-0c82-4861-af47-115aa55842cb",
   "metadata": {},
   "outputs": [
    {
     "ename": "TypeError",
     "evalue": "'set' object is not subscriptable",
     "output_type": "error",
     "traceback": [
      "\u001b[1;31m---------------------------------------------------------------------------\u001b[0m",
      "\u001b[1;31mTypeError\u001b[0m                                 Traceback (most recent call last)",
      "Cell \u001b[1;32mIn[69], line 1\u001b[0m\n\u001b[1;32m----> 1\u001b[0m S1[\u001b[38;5;241m0\u001b[39m:\u001b[38;5;241m3\u001b[39m]\n",
      "\u001b[1;31mTypeError\u001b[0m: 'set' object is not subscriptable"
     ]
    }
   ],
   "source": [
    "S1[0:3]\n",
    "#we can't access a set"
   ]
  },
  {
   "cell_type": "markdown",
   "id": "fc6919ac-b786-4f45-8430-73b5d3ec1d9f",
   "metadata": {},
   "source": [
    "3. Edit"
   ]
  },
  {
   "cell_type": "code",
   "execution_count": 72,
   "id": "c9b4bd93-edb3-459b-b482-cb57f8284a04",
   "metadata": {},
   "outputs": [
    {
     "ename": "TypeError",
     "evalue": "'set' object does not support item assignment",
     "output_type": "error",
     "traceback": [
      "\u001b[1;31m---------------------------------------------------------------------------\u001b[0m",
      "\u001b[1;31mTypeError\u001b[0m                                 Traceback (most recent call last)",
      "Cell \u001b[1;32mIn[72], line 1\u001b[0m\n\u001b[1;32m----> 1\u001b[0m S1[\u001b[38;5;241m2\u001b[39m]\u001b[38;5;241m=\u001b[39m\u001b[38;5;241m20\u001b[39m\n",
      "\u001b[1;31mTypeError\u001b[0m: 'set' object does not support item assignment"
     ]
    }
   ],
   "source": [
    "S1[2]=20"
   ]
  },
  {
   "cell_type": "code",
   "execution_count": 74,
   "id": "cfdcefaf-8d5f-45fd-9ab9-a9dbdb4bebe1",
   "metadata": {},
   "outputs": [
    {
     "data": {
      "text/plain": [
       "2563209030208"
      ]
     },
     "execution_count": 74,
     "metadata": {},
     "output_type": "execute_result"
    }
   ],
   "source": [
    "id(S1)"
   ]
  },
  {
   "cell_type": "code",
   "execution_count": 82,
   "id": "316cc901-da28-49c5-b2bf-30825df1cf9f",
   "metadata": {},
   "outputs": [
    {
     "data": {
      "text/plain": [
       "[1, 2, 3, 4, 5]"
      ]
     },
     "execution_count": 82,
     "metadata": {},
     "output_type": "execute_result"
    }
   ],
   "source": [
    "L=list(S1)\n",
    "L"
   ]
  },
  {
   "cell_type": "code",
   "execution_count": 84,
   "id": "f7dc6eb6-e377-4884-af9c-50d3c717c6a5",
   "metadata": {},
   "outputs": [
    {
     "data": {
      "text/plain": [
       "list"
      ]
     },
     "execution_count": 84,
     "metadata": {},
     "output_type": "execute_result"
    }
   ],
   "source": [
    "type(L)"
   ]
  },
  {
   "cell_type": "code",
   "execution_count": 88,
   "id": "863db7d1-e070-4039-ae76-7840f901afe5",
   "metadata": {},
   "outputs": [
    {
     "data": {
      "text/plain": [
       "[1, 2, 20, 4, 5]"
      ]
     },
     "execution_count": 88,
     "metadata": {},
     "output_type": "execute_result"
    }
   ],
   "source": [
    "L[2]=20\n",
    "L"
   ]
  },
  {
   "cell_type": "code",
   "execution_count": 90,
   "id": "030e35be-2fb9-4dbe-a1f8-06404878e680",
   "metadata": {},
   "outputs": [
    {
     "data": {
      "text/plain": [
       "{1, 2, 4, 5, 20}"
      ]
     },
     "execution_count": 90,
     "metadata": {},
     "output_type": "execute_result"
    }
   ],
   "source": [
    "S1=set(L)\n",
    "S1"
   ]
  },
  {
   "cell_type": "code",
   "execution_count": 92,
   "id": "0031f423-0157-4ca3-a406-d56b44740c39",
   "metadata": {},
   "outputs": [
    {
     "data": {
      "text/plain": [
       "2563233134208"
      ]
     },
     "execution_count": 92,
     "metadata": {},
     "output_type": "execute_result"
    }
   ],
   "source": [
    "id(S1)"
   ]
  },
  {
   "cell_type": "markdown",
   "id": "61652b50-f2a5-4275-a279-c59bce851a6f",
   "metadata": {},
   "source": [
    "4.Add"
   ]
  },
  {
   "cell_type": "code",
   "execution_count": 95,
   "id": "9af79748-963a-4c01-9081-190d35e55175",
   "metadata": {},
   "outputs": [
    {
     "data": {
      "text/plain": [
       "{1, 2, 4, 5, 20}"
      ]
     },
     "execution_count": 95,
     "metadata": {},
     "output_type": "execute_result"
    }
   ],
   "source": [
    "S1.add(5)\n",
    "S1\n"
   ]
  },
  {
   "cell_type": "code",
   "execution_count": 99,
   "id": "b5691256-4083-460e-a269-f23c2737f40b",
   "metadata": {},
   "outputs": [
    {
     "data": {
      "text/plain": [
       "{1, 2, 4, 5, 8, 20}"
      ]
     },
     "execution_count": 99,
     "metadata": {},
     "output_type": "execute_result"
    }
   ],
   "source": [
    "S1.add(8)\n",
    "S1"
   ]
  },
  {
   "cell_type": "code",
   "execution_count": 103,
   "id": "d5842ef7-3918-4cb5-9415-fe93df51e9af",
   "metadata": {},
   "outputs": [
    {
     "data": {
      "text/plain": [
       "{1, 2, 4, 5, 6, 7, 8, 20}"
      ]
     },
     "execution_count": 103,
     "metadata": {},
     "output_type": "execute_result"
    }
   ],
   "source": [
    "S1.update([5,6,7])\n",
    "S1"
   ]
  },
  {
   "cell_type": "markdown",
   "id": "05780586-0bb5-4e49-bf1c-18f9f1387315",
   "metadata": {},
   "source": [
    "5. Delete\n",
    "\n",
    "del\n",
    "\n",
    "remove()\n",
    "\n",
    "pop()\n",
    "\n",
    "discard()\n",
    "\n",
    "clear()"
   ]
  },
  {
   "cell_type": "code",
   "execution_count": 125,
   "id": "f7c06ff6-b874-4f95-b486-8087324c40c0",
   "metadata": {},
   "outputs": [
    {
     "ename": "NameError",
     "evalue": "name 'S1' is not defined",
     "output_type": "error",
     "traceback": [
      "\u001b[1;31m---------------------------------------------------------------------------\u001b[0m",
      "\u001b[1;31mNameError\u001b[0m                                 Traceback (most recent call last)",
      "Cell \u001b[1;32mIn[125], line 1\u001b[0m\n\u001b[1;32m----> 1\u001b[0m \u001b[38;5;28;01mdel\u001b[39;00m S1\n\u001b[0;32m      2\u001b[0m S1\n",
      "\u001b[1;31mNameError\u001b[0m: name 'S1' is not defined"
     ]
    }
   ],
   "source": [
    "del S1\n",
    "S1"
   ]
  },
  {
   "cell_type": "code",
   "execution_count": 129,
   "id": "eb6ae547-e4ce-4f66-b356-3945fc52154e",
   "metadata": {},
   "outputs": [
    {
     "data": {
      "text/plain": [
       "{1, 2, 3, 45}"
      ]
     },
     "execution_count": 129,
     "metadata": {},
     "output_type": "execute_result"
    }
   ],
   "source": [
    "S3"
   ]
  },
  {
   "cell_type": "code",
   "execution_count": 131,
   "id": "f91392b9-be6b-44a9-bf48-de01fea6ce30",
   "metadata": {},
   "outputs": [
    {
     "ename": "TypeError",
     "evalue": "'set' object doesn't support item deletion",
     "output_type": "error",
     "traceback": [
      "\u001b[1;31m---------------------------------------------------------------------------\u001b[0m",
      "\u001b[1;31mTypeError\u001b[0m                                 Traceback (most recent call last)",
      "Cell \u001b[1;32mIn[131], line 1\u001b[0m\n\u001b[1;32m----> 1\u001b[0m \u001b[38;5;28;01mdel\u001b[39;00m S3[\u001b[38;5;241m0\u001b[39m]\n\u001b[0;32m      2\u001b[0m S3\n",
      "\u001b[1;31mTypeError\u001b[0m: 'set' object doesn't support item deletion"
     ]
    }
   ],
   "source": [
    "del S3[0]\n",
    "S3"
   ]
  },
  {
   "cell_type": "code",
   "execution_count": 21,
   "id": "d16688fc-eb9f-4377-963f-aa84fd2b9190",
   "metadata": {},
   "outputs": [],
   "source": [
    "S1={1,2,3,4,5,6}"
   ]
  },
  {
   "cell_type": "code",
   "execution_count": 96,
   "id": "44984d01-7538-45af-bcd6-2d8f644c86ef",
   "metadata": {},
   "outputs": [],
   "source": [
    "S1.remove(5)\n"
   ]
  },
  {
   "cell_type": "code",
   "execution_count": 25,
   "id": "4f52c31d-a3dd-4f4e-9bc0-2293fee79bd5",
   "metadata": {},
   "outputs": [
    {
     "name": "stdout",
     "output_type": "stream",
     "text": [
      "{1, 2, 3, 4, 6}\n"
     ]
    }
   ],
   "source": [
    "print(S1)"
   ]
  },
  {
   "cell_type": "code",
   "execution_count": 29,
   "id": "89f0479c-e423-4b92-a2f0-0eff965f1efc",
   "metadata": {},
   "outputs": [
    {
     "data": {
      "text/plain": [
       "{3, 4, 6}"
      ]
     },
     "execution_count": 29,
     "metadata": {},
     "output_type": "execute_result"
    }
   ],
   "source": [
    "S1.pop()\n",
    "S1"
   ]
  },
  {
   "cell_type": "code",
   "execution_count": 98,
   "id": "25961d5d-294f-4411-8363-cbb8e60a1858",
   "metadata": {},
   "outputs": [
    {
     "data": {
      "text/plain": [
       "{1, 2, 3}"
      ]
     },
     "execution_count": 98,
     "metadata": {},
     "output_type": "execute_result"
    }
   ],
   "source": [
    "S1.discard(4)\n",
    "S1\n"
   ]
  },
  {
   "cell_type": "markdown",
   "id": "e49214c9-e827-4633-b1c1-d7d0395b2fa1",
   "metadata": {},
   "source": [
    "# S1.clear()\n",
    "S1"
   ]
  },
  {
   "cell_type": "markdown",
   "id": "3a432773-4ac2-4983-b11f-af74c5922207",
   "metadata": {},
   "source": [
    "6. Operations"
   ]
  },
  {
   "cell_type": "code",
   "execution_count": 38,
   "id": "f256eeff-6cf6-489e-ac12-f590e2dd33ee",
   "metadata": {},
   "outputs": [],
   "source": [
    "S1 = {1, 2, 3, 4, 5}\n",
    "S2 = {3, 4, 5, 6, 7}"
   ]
  },
  {
   "cell_type": "code",
   "execution_count": 42,
   "id": "134951e8-73fc-4e2b-9cdc-d846ecaaf256",
   "metadata": {},
   "outputs": [
    {
     "ename": "TypeError",
     "evalue": "unsupported operand type(s) for +: 'set' and 'set'",
     "output_type": "error",
     "traceback": [
      "\u001b[1;31m---------------------------------------------------------------------------\u001b[0m",
      "\u001b[1;31mTypeError\u001b[0m                                 Traceback (most recent call last)",
      "Cell \u001b[1;32mIn[42], line 2\u001b[0m\n\u001b[0;32m      1\u001b[0m \u001b[38;5;66;03m#add\u001b[39;00m\n\u001b[1;32m----> 2\u001b[0m S1\u001b[38;5;241m+\u001b[39mS2\n",
      "\u001b[1;31mTypeError\u001b[0m: unsupported operand type(s) for +: 'set' and 'set'"
     ]
    }
   ],
   "source": [
    "#add\n",
    "S1+S2"
   ]
  },
  {
   "cell_type": "code",
   "execution_count": 44,
   "id": "425cab9f-4eb2-4c1b-9fb8-8847ed30c800",
   "metadata": {},
   "outputs": [
    {
     "ename": "TypeError",
     "evalue": "unsupported operand type(s) for *: 'set' and 'int'",
     "output_type": "error",
     "traceback": [
      "\u001b[1;31m---------------------------------------------------------------------------\u001b[0m",
      "\u001b[1;31mTypeError\u001b[0m                                 Traceback (most recent call last)",
      "Cell \u001b[1;32mIn[44], line 1\u001b[0m\n\u001b[1;32m----> 1\u001b[0m S1\u001b[38;5;241m*\u001b[39m\u001b[38;5;241m3\u001b[39m\n",
      "\u001b[1;31mTypeError\u001b[0m: unsupported operand type(s) for *: 'set' and 'int'"
     ]
    }
   ],
   "source": [
    "S1*3"
   ]
  },
  {
   "cell_type": "code",
   "execution_count": 48,
   "id": "f3597022-f0c0-453a-9ec6-bbfc62cde15f",
   "metadata": {},
   "outputs": [
    {
     "name": "stdout",
     "output_type": "stream",
     "text": [
      "1\n",
      "2\n",
      "3\n",
      "4\n",
      "5\n"
     ]
    }
   ],
   "source": [
    "#iteration\n",
    "for i in S1:\n",
    "     print(i)"
   ]
  },
  {
   "cell_type": "code",
   "execution_count": 50,
   "id": "311b69c3-3846-41a5-8d87-4a525936b2d5",
   "metadata": {},
   "outputs": [
    {
     "data": {
      "text/plain": [
       "True"
      ]
     },
     "execution_count": 50,
     "metadata": {},
     "output_type": "execute_result"
    }
   ],
   "source": [
    "# Membership Test\n",
    "1 in S1"
   ]
  },
  {
   "cell_type": "code",
   "execution_count": 54,
   "id": "68f30c7c-c08d-42e3-9398-e49dc738fd3a",
   "metadata": {},
   "outputs": [
    {
     "data": {
      "text/plain": [
       "False"
      ]
     },
     "execution_count": 54,
     "metadata": {},
     "output_type": "execute_result"
    }
   ],
   "source": [
    "5  not in S1"
   ]
  },
  {
   "cell_type": "code",
   "execution_count": 56,
   "id": "c2a91ab4-48b4-46f7-8ca7-f2f8e31039f5",
   "metadata": {},
   "outputs": [
    {
     "data": {
      "text/plain": [
       "{1, 2, 3, 4, 5, 6, 7}"
      ]
     },
     "execution_count": 56,
     "metadata": {},
     "output_type": "execute_result"
    }
   ],
   "source": [
    "#universal(|)\n",
    "S1 | S2"
   ]
  },
  {
   "cell_type": "code",
   "execution_count": 58,
   "id": "b038ff68-08e4-4b8a-a7d8-c623e4a5a8df",
   "metadata": {},
   "outputs": [
    {
     "data": {
      "text/plain": [
       "{3, 4, 5}"
      ]
     },
     "execution_count": 58,
     "metadata": {},
     "output_type": "execute_result"
    }
   ],
   "source": [
    "#intersection (&)\n",
    "S1 & S2"
   ]
  },
  {
   "cell_type": "code",
   "execution_count": 62,
   "id": "5490f512-de81-46f5-84b7-722df6f73a61",
   "metadata": {},
   "outputs": [
    {
     "data": {
      "text/plain": [
       "{6, 7}"
      ]
     },
     "execution_count": 62,
     "metadata": {},
     "output_type": "execute_result"
    }
   ],
   "source": [
    "#differemce\n",
    "S1-S2\n",
    "S2-S1"
   ]
  },
  {
   "cell_type": "code",
   "execution_count": 66,
   "id": "d15055a2-93b2-493e-af47-0b51fe9ca43c",
   "metadata": {},
   "outputs": [
    {
     "data": {
      "text/plain": [
       "{1, 2, 6, 7}"
      ]
     },
     "execution_count": 66,
     "metadata": {},
     "output_type": "execute_result"
    }
   ],
   "source": [
    "# Symmetric Difference(^)\n",
    "S1 ^ S2"
   ]
  },
  {
   "cell_type": "markdown",
   "id": "329f47ff-9cc8-4b98-a4d3-1a93be234a5c",
   "metadata": {},
   "source": [
    "7. Functions\n",
    "\n",
    "\n",
    "len()\n",
    "\n",
    "min()\n",
    "\n",
    "max()\n",
    "\n",
    "sorted()"
   ]
  },
  {
   "cell_type": "code",
   "execution_count": 88,
   "id": "a9fb54ab-2a36-44e0-b7f7-6b40ed878e94",
   "metadata": {},
   "outputs": [
    {
     "name": "stdout",
     "output_type": "stream",
     "text": [
      "{1, 2, 3, 4, 5}\n",
      "{3, 4, 5, 6, 7}\n"
     ]
    }
   ],
   "source": [
    "print(S1)\n",
    "print(S2)"
   ]
  },
  {
   "cell_type": "code",
   "execution_count": 90,
   "id": "5d231989-b564-477e-ace1-fbac7d9c3a2c",
   "metadata": {},
   "outputs": [
    {
     "data": {
      "text/plain": [
       "5"
      ]
     },
     "execution_count": 90,
     "metadata": {},
     "output_type": "execute_result"
    }
   ],
   "source": [
    "len(S1)"
   ]
  },
  {
   "cell_type": "code",
   "execution_count": 74,
   "id": "66093bec-e5e3-4a3c-a527-a37f8189eea8",
   "metadata": {},
   "outputs": [
    {
     "data": {
      "text/plain": [
       "1"
      ]
     },
     "execution_count": 74,
     "metadata": {},
     "output_type": "execute_result"
    }
   ],
   "source": [
    "min(S1)"
   ]
  },
  {
   "cell_type": "code",
   "execution_count": 76,
   "id": "393844d3-2eeb-471d-a8d0-ddcb27f089f3",
   "metadata": {},
   "outputs": [
    {
     "data": {
      "text/plain": [
       "7"
      ]
     },
     "execution_count": 76,
     "metadata": {},
     "output_type": "execute_result"
    }
   ],
   "source": [
    "max(S2)"
   ]
  },
  {
   "cell_type": "code",
   "execution_count": 80,
   "id": "f6755a46-e59c-4a70-bddd-251072ee4a0d",
   "metadata": {},
   "outputs": [
    {
     "data": {
      "text/plain": [
       "[5, 4, 3, 2, 1]"
      ]
     },
     "execution_count": 80,
     "metadata": {},
     "output_type": "execute_result"
    }
   ],
   "source": [
    "sorted(S1, reverse=True)"
   ]
  },
  {
   "cell_type": "code",
   "execution_count": 82,
   "id": "60e430a4-6e33-4c49-a230-085e7ac56a6c",
   "metadata": {},
   "outputs": [
    {
     "data": {
      "text/plain": [
       "{3, 4, 5}"
      ]
     },
     "execution_count": 82,
     "metadata": {},
     "output_type": "execute_result"
    }
   ],
   "source": [
    "S1.intersection(S2)"
   ]
  },
  {
   "cell_type": "code",
   "execution_count": 84,
   "id": "4ae0c429-6ba9-43ef-bbed-77484e52bde0",
   "metadata": {},
   "outputs": [
    {
     "data": {
      "text/plain": [
       "{1, 2, 3, 4, 5, 6, 7}"
      ]
     },
     "execution_count": 84,
     "metadata": {},
     "output_type": "execute_result"
    }
   ],
   "source": [
    "S1.union(S2)"
   ]
  },
  {
   "cell_type": "code",
   "execution_count": 86,
   "id": "38a88519-4a31-4eb1-bd61-938152af5a39",
   "metadata": {},
   "outputs": [
    {
     "data": {
      "text/plain": [
       "{1, 2}"
      ]
     },
     "execution_count": 86,
     "metadata": {},
     "output_type": "execute_result"
    }
   ],
   "source": [
    "S1.difference(S2)"
   ]
  },
  {
   "cell_type": "code",
   "execution_count": null,
   "id": "e0573c3a-204a-4bb0-8beb-ea39697371b5",
   "metadata": {},
   "outputs": [],
   "source": []
  }
 ],
 "metadata": {
  "kernelspec": {
   "display_name": "Python [conda env:base] *",
   "language": "python",
   "name": "conda-base-py"
  },
  "language_info": {
   "codemirror_mode": {
    "name": "ipython",
    "version": 3
   },
   "file_extension": ".py",
   "mimetype": "text/x-python",
   "name": "python",
   "nbconvert_exporter": "python",
   "pygments_lexer": "ipython3",
   "version": "3.12.7"
  }
 },
 "nbformat": 4,
 "nbformat_minor": 5
}

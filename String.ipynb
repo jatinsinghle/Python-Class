{
 "cells": [
  {
   "cell_type": "markdown",
   "id": "7a553456-ce37-4992-98d0-1c418f107b79",
   "metadata": {},
   "source": [
    "Strings"
   ]
  },
  {
   "cell_type": "markdown",
   "id": "a92542a8-d460-47b5-b691-1d338b8b1cea",
   "metadata": {},
   "source": [
    "Seq. of Chars\n",
    "\n",
    "In Python: Unicode Chars\n",
    "\n",
    "Ops:\n",
    "\n",
    "Create\n",
    "\n",
    "Access\n",
    "\n",
    "Add Chars\n",
    "\n",
    "Edit\n",
    "\n",
    "Delete\n",
    "\n",
    "Ops on Strings\n",
    "\n",
    "String Functions"
   ]
  },
  {
   "cell_type": "code",
   "execution_count": 5,
   "id": "07cb73a8-092b-4978-b2fc-e987f6d07f04",
   "metadata": {},
   "outputs": [],
   "source": [
    "a=(\"Hello\")"
   ]
  },
  {
   "cell_type": "code",
   "execution_count": 7,
   "id": "1e0ef759-763c-48ac-9a73-2e2629db5552",
   "metadata": {},
   "outputs": [
    {
     "name": "stdout",
     "output_type": "stream",
     "text": [
      "Hello\n"
     ]
    }
   ],
   "source": [
    "print(a)"
   ]
  },
  {
   "cell_type": "code",
   "execution_count": 9,
   "id": "38522605-3ba6-4d7d-8146-58ba8c7fdc2d",
   "metadata": {},
   "outputs": [],
   "source": [
    "a= (\"It's Raining outside\")"
   ]
  },
  {
   "cell_type": "code",
   "execution_count": 11,
   "id": "c924f0b7-1224-47cb-8c9b-a67063fddc73",
   "metadata": {},
   "outputs": [
    {
     "name": "stdout",
     "output_type": "stream",
     "text": [
      "It's Raining outside\n"
     ]
    }
   ],
   "source": [
    "print(a)"
   ]
  },
  {
   "cell_type": "code",
   "execution_count": 13,
   "id": "70d6aa14-2937-4d65-b30e-d90a5c562ba2",
   "metadata": {},
   "outputs": [],
   "source": [
    "#multi line String\n",
    "b='''Hello'''"
   ]
  },
  {
   "cell_type": "code",
   "execution_count": 15,
   "id": "549bb145-f7bc-42a5-aac6-2d39ed915e85",
   "metadata": {},
   "outputs": [
    {
     "name": "stdout",
     "output_type": "stream",
     "text": [
      "Hello\n"
     ]
    }
   ],
   "source": [
    "print(b)"
   ]
  },
  {
   "cell_type": "code",
   "execution_count": 17,
   "id": "54c943ac-24e5-40ab-9205-1a54934bf719",
   "metadata": {},
   "outputs": [],
   "source": [
    "c=str(\"Hello\")"
   ]
  },
  {
   "cell_type": "code",
   "execution_count": 19,
   "id": "0e16e595-1859-4380-9069-6bd22d324d74",
   "metadata": {},
   "outputs": [
    {
     "data": {
      "text/plain": [
       "'Hello'"
      ]
     },
     "execution_count": 19,
     "metadata": {},
     "output_type": "execute_result"
    }
   ],
   "source": [
    "c"
   ]
  },
  {
   "cell_type": "markdown",
   "id": "1504ae16-cf15-4c80-914a-79134b4b36e7",
   "metadata": {},
   "source": [
    "Access\n",
    "\n",
    "Accessing Substrings from a String"
   ]
  },
  {
   "cell_type": "code",
   "execution_count": 23,
   "id": "5d934261-d7c1-49ec-bbbb-148b0e3f832b",
   "metadata": {},
   "outputs": [],
   "source": [
    "a=(\"Jatin\")"
   ]
  },
  {
   "cell_type": "code",
   "execution_count": 25,
   "id": "0d29aed5-67eb-406a-9d8b-da82d47c3ed3",
   "metadata": {},
   "outputs": [
    {
     "data": {
      "text/plain": [
       "'Jatin'"
      ]
     },
     "execution_count": 25,
     "metadata": {},
     "output_type": "execute_result"
    }
   ],
   "source": [
    "a"
   ]
  },
  {
   "cell_type": "code",
   "execution_count": 29,
   "id": "0085a0f8-4ede-42a6-af98-0ba9166c2a5e",
   "metadata": {},
   "outputs": [
    {
     "name": "stdout",
     "output_type": "stream",
     "text": [
      "J\n"
     ]
    }
   ],
   "source": [
    "print(a[0])"
   ]
  },
  {
   "cell_type": "code",
   "execution_count": 31,
   "id": "9e54fe9b-11d0-48b4-9b82-36a6d4f14463",
   "metadata": {},
   "outputs": [
    {
     "name": "stdout",
     "output_type": "stream",
     "text": [
      "t\n"
     ]
    }
   ],
   "source": [
    "print(a[2])"
   ]
  },
  {
   "cell_type": "markdown",
   "id": "05856fb7-e1ef-4cf9-880a-0a65e4c0ec87",
   "metadata": {},
   "source": [
    "Indexing Types:\n",
    "\n",
    "Positive\n",
    "\n",
    "Negative"
   ]
  },
  {
   "cell_type": "code",
   "execution_count": 40,
   "id": "23f5b54d-45bb-4ca1-8188-9f12d32c9963",
   "metadata": {},
   "outputs": [
    {
     "name": "stdout",
     "output_type": "stream",
     "text": [
      "n\n"
     ]
    }
   ],
   "source": [
    "#negetive indexing\n",
    "print(a[-1])"
   ]
  },
  {
   "cell_type": "code",
   "execution_count": 42,
   "id": "7bfef836-cd3b-438a-b02a-5eff5617af7e",
   "metadata": {},
   "outputs": [],
   "source": [
    "#slicing\n",
    "b=(\"Rahul Raj\")"
   ]
  },
  {
   "cell_type": "code",
   "execution_count": 46,
   "id": "92f4f36b-47cd-4c84-aba3-d0e15b6d7a18",
   "metadata": {},
   "outputs": [
    {
     "name": "stdout",
     "output_type": "stream",
     "text": [
      "Rahul\n"
     ]
    }
   ],
   "source": [
    "print(b[0:5])"
   ]
  },
  {
   "cell_type": "code",
   "execution_count": 48,
   "id": "13e6e1e0-c202-43a3-8db7-0a17d92f0436",
   "metadata": {},
   "outputs": [
    {
     "name": "stdout",
     "output_type": "stream",
     "text": [
      "ul Raj\n"
     ]
    }
   ],
   "source": [
    "print(b[3:])"
   ]
  },
  {
   "cell_type": "code",
   "execution_count": 52,
   "id": "920c31b5-267f-4bb4-9363-c6d83646d95a",
   "metadata": {},
   "outputs": [
    {
     "name": "stdout",
     "output_type": "stream",
     "text": [
      "Rahu\n"
     ]
    }
   ],
   "source": [
    "print(b[:4])"
   ]
  },
  {
   "cell_type": "code",
   "execution_count": 54,
   "id": "600a3b9e-1d94-489f-9f4b-1342bc53ceb4",
   "metadata": {},
   "outputs": [
    {
     "name": "stdout",
     "output_type": "stream",
     "text": [
      "Rahul Raj\n"
     ]
    }
   ],
   "source": [
    "print(b[:])"
   ]
  },
  {
   "cell_type": "code",
   "execution_count": 58,
   "id": "739010ec-0264-480e-9d1d-ae0b14b648a5",
   "metadata": {},
   "outputs": [
    {
     "name": "stdout",
     "output_type": "stream",
     "text": [
      "Rhl\n"
     ]
    }
   ],
   "source": [
    "print(b[0:5:2])"
   ]
  },
  {
   "cell_type": "markdown",
   "id": "75b4649b-eb17-427f-818f-d303d0a9046c",
   "metadata": {},
   "source": [
    "Add Characters"
   ]
  },
  {
   "cell_type": "code",
   "execution_count": 79,
   "id": "00bb2ea7-de84-428e-a7f6-3ca6aa6bfac1",
   "metadata": {},
   "outputs": [],
   "source": [
    "string1= \"Hello\"\n",
    "string2= \"world\""
   ]
  },
  {
   "cell_type": "code",
   "execution_count": 81,
   "id": "1bdc387d-a29d-4fa6-8845-6850316f4eb4",
   "metadata": {},
   "outputs": [],
   "source": [
    "new_string= string1+string2"
   ]
  },
  {
   "cell_type": "code",
   "execution_count": 83,
   "id": "53334ec8-1b00-44e1-82e1-849f638f03d4",
   "metadata": {},
   "outputs": [
    {
     "name": "stdout",
     "output_type": "stream",
     "text": [
      "Helloworld\n"
     ]
    }
   ],
   "source": [
    "print(new_string)"
   ]
  },
  {
   "cell_type": "code",
   "execution_count": 103,
   "id": "142ba422-ba68-4679-9d7c-9c23272024bb",
   "metadata": {},
   "outputs": [],
   "source": [
    "new_string2= string1+ ' ' + string2"
   ]
  },
  {
   "cell_type": "code",
   "execution_count": 105,
   "id": "b013f0ab-64de-40b7-8af8-96fa6ecfb36f",
   "metadata": {},
   "outputs": [
    {
     "data": {
      "text/plain": [
       "'Hello world'"
      ]
     },
     "execution_count": 105,
     "metadata": {},
     "output_type": "execute_result"
    }
   ],
   "source": [
    "new_string2"
   ]
  },
  {
   "cell_type": "code",
   "execution_count": 111,
   "id": "eb273de5-7380-4c37-a4f8-2ace5f793fda",
   "metadata": {},
   "outputs": [],
   "source": [
    "string3= string1+ ', how are you'"
   ]
  },
  {
   "cell_type": "code",
   "execution_count": 113,
   "id": "2751111c-2334-46fb-9ef3-7aa61b50a36c",
   "metadata": {},
   "outputs": [
    {
     "data": {
      "text/plain": [
       "'Hello, how are you'"
      ]
     },
     "execution_count": 113,
     "metadata": {},
     "output_type": "execute_result"
    }
   ],
   "source": [
    "string3"
   ]
  },
  {
   "cell_type": "markdown",
   "id": "ab2c13d1-974d-4740-9d2f-ba350a6e7f73",
   "metadata": {},
   "source": [
    "Edit & Delete"
   ]
  },
  {
   "cell_type": "code",
   "execution_count": 3,
   "id": "a651aaa2-ed44-4896-9d9f-4d0ab01b8206",
   "metadata": {},
   "outputs": [],
   "source": [
    "a=\"Hello\""
   ]
  },
  {
   "cell_type": "code",
   "execution_count": 5,
   "id": "3dfc3640-2f28-4aa9-b843-4bc784e74753",
   "metadata": {},
   "outputs": [
    {
     "ename": "NameError",
     "evalue": "name 'x' is not defined",
     "output_type": "error",
     "traceback": [
      "\u001b[1;31m---------------------------------------------------------------------------\u001b[0m",
      "\u001b[1;31mNameError\u001b[0m                                 Traceback (most recent call last)",
      "Cell \u001b[1;32mIn[5], line 1\u001b[0m\n\u001b[1;32m----> 1\u001b[0m a[\u001b[38;5;241m5\u001b[39m]\u001b[38;5;241m=\u001b[39mx\n",
      "\u001b[1;31mNameError\u001b[0m: name 'x' is not defined"
     ]
    }
   ],
   "source": [
    "a[5]=x"
   ]
  },
  {
   "cell_type": "code",
   "execution_count": 7,
   "id": "7c85d66f-e4f6-47ef-a7cd-67d8afa27007",
   "metadata": {},
   "outputs": [
    {
     "data": {
      "text/plain": [
       "'Hello'"
      ]
     },
     "execution_count": 7,
     "metadata": {},
     "output_type": "execute_result"
    }
   ],
   "source": [
    "#Deletion\n",
    "a\n"
   ]
  },
  {
   "cell_type": "code",
   "execution_count": 11,
   "id": "42d5c990-a19f-4ddf-bbda-54299c939a74",
   "metadata": {},
   "outputs": [],
   "source": [
    "del a"
   ]
  },
  {
   "cell_type": "code",
   "execution_count": 15,
   "id": "36a05a9c-4521-4108-8edf-e1e6b1c1689e",
   "metadata": {},
   "outputs": [
    {
     "ename": "NameError",
     "evalue": "name 'a' is not defined",
     "output_type": "error",
     "traceback": [
      "\u001b[1;31m---------------------------------------------------------------------------\u001b[0m",
      "\u001b[1;31mNameError\u001b[0m                                 Traceback (most recent call last)",
      "Cell \u001b[1;32mIn[15], line 1\u001b[0m\n\u001b[1;32m----> 1\u001b[0m \u001b[38;5;28mprint\u001b[39m(a)\n",
      "\u001b[1;31mNameError\u001b[0m: name 'a' is not defined"
     ]
    }
   ],
   "source": [
    "print(a)"
   ]
  },
  {
   "cell_type": "code",
   "execution_count": 17,
   "id": "f7bb4af8-604e-4168-bb19-d205564345c3",
   "metadata": {},
   "outputs": [],
   "source": [
    "c='world'"
   ]
  },
  {
   "cell_type": "code",
   "execution_count": 19,
   "id": "5adcfeef-4185-4969-85e4-ee3c5d62afe2",
   "metadata": {},
   "outputs": [
    {
     "ename": "TypeError",
     "evalue": "'str' object doesn't support item deletion",
     "output_type": "error",
     "traceback": [
      "\u001b[1;31m---------------------------------------------------------------------------\u001b[0m",
      "\u001b[1;31mTypeError\u001b[0m                                 Traceback (most recent call last)",
      "Cell \u001b[1;32mIn[19], line 1\u001b[0m\n\u001b[1;32m----> 1\u001b[0m \u001b[38;5;28;01mdel\u001b[39;00m c[\u001b[38;5;241m4\u001b[39m]\n",
      "\u001b[1;31mTypeError\u001b[0m: 'str' object doesn't support item deletion"
     ]
    }
   ],
   "source": [
    "del c[4]"
   ]
  },
  {
   "cell_type": "code",
   "execution_count": 21,
   "id": "fc5f45f0-9e23-49be-a349-c19fae9af87f",
   "metadata": {},
   "outputs": [
    {
     "ename": "TypeError",
     "evalue": "'str' object does not support item deletion",
     "output_type": "error",
     "traceback": [
      "\u001b[1;31m---------------------------------------------------------------------------\u001b[0m",
      "\u001b[1;31mTypeError\u001b[0m                                 Traceback (most recent call last)",
      "Cell \u001b[1;32mIn[21], line 1\u001b[0m\n\u001b[1;32m----> 1\u001b[0m \u001b[38;5;28;01mdel\u001b[39;00m c[:\u001b[38;5;241m3\u001b[39m:\u001b[38;5;241m2\u001b[39m]\n",
      "\u001b[1;31mTypeError\u001b[0m: 'str' object does not support item deletion"
     ]
    }
   ],
   "source": [
    "del c[:3:2]"
   ]
  },
  {
   "cell_type": "markdown",
   "id": "9ff59cd7-f51e-4631-860f-c5464467984f",
   "metadata": {},
   "source": [
    "Ops on Strings\n",
    "\n",
    "Arithmetic: Concatenation (+), Repetition (*)\n",
    "\n",
    "Relational: Equality (==), Inequality (!=), Comparison (<, >, <=, >=)\n",
    "\n",
    "Logical: and, or, not\n",
    "\n",
    "Loops: for loop, while loop\n",
    "\n",
    "Membership: in, not in"
   ]
  },
  {
   "cell_type": "code",
   "execution_count": 25,
   "id": "57f2e7d7-9797-45fd-842d-abd69102a0e1",
   "metadata": {},
   "outputs": [
    {
     "data": {
      "text/plain": [
       "'Hello-World'"
      ]
     },
     "execution_count": 25,
     "metadata": {},
     "output_type": "execute_result"
    }
   ],
   "source": [
    "#Arithmetic\n",
    "\"Hello\" + '-' + \"World\""
   ]
  },
  {
   "cell_type": "code",
   "execution_count": 27,
   "id": "a3c17752-c563-440c-8546-b83f96b762b0",
   "metadata": {},
   "outputs": [
    {
     "name": "stdout",
     "output_type": "stream",
     "text": [
      "22222222222222222222\n"
     ]
    }
   ],
   "source": [
    "print(\"2\"*20)"
   ]
  },
  {
   "cell_type": "code",
   "execution_count": 29,
   "id": "bb87badb-c092-4c69-99de-805e3a03d336",
   "metadata": {},
   "outputs": [
    {
     "name": "stdout",
     "output_type": "stream",
     "text": [
      "JatinJatinJatinJatinJatin\n"
     ]
    }
   ],
   "source": [
    "print(\"Jatin\"*5)"
   ]
  },
  {
   "cell_type": "code",
   "execution_count": 31,
   "id": "2fc76943-a981-46e2-8b84-89bf472a39ef",
   "metadata": {},
   "outputs": [
    {
     "data": {
      "text/plain": [
       "False"
      ]
     },
     "execution_count": 31,
     "metadata": {},
     "output_type": "execute_result"
    }
   ],
   "source": [
    "#Relational\n",
    "\"Hello\"==\"World\""
   ]
  },
  {
   "cell_type": "code",
   "execution_count": 33,
   "id": "a62b1e12-b574-458d-b59b-c79f2371a409",
   "metadata": {},
   "outputs": [
    {
     "data": {
      "text/plain": [
       "True"
      ]
     },
     "execution_count": 33,
     "metadata": {},
     "output_type": "execute_result"
    }
   ],
   "source": [
    "\"Hello\"!=\"World\""
   ]
  },
  {
   "cell_type": "code",
   "execution_count": 35,
   "id": "1025eb86-5892-4af2-b63e-04673da73193",
   "metadata": {},
   "outputs": [
    {
     "data": {
      "text/plain": [
       "True"
      ]
     },
     "execution_count": 35,
     "metadata": {},
     "output_type": "execute_result"
    }
   ],
   "source": [
    "#lexiographically\n",
    "\"Mumbai\">\"Delhi\""
   ]
  },
  {
   "cell_type": "code",
   "execution_count": 39,
   "id": "5202aa91-effa-45d6-a9f1-70ecc55f081a",
   "metadata": {},
   "outputs": [
    {
     "data": {
      "text/plain": [
       "False"
      ]
     },
     "execution_count": 39,
     "metadata": {},
     "output_type": "execute_result"
    }
   ],
   "source": [
    "\"Goa\" > \"Kolkata\""
   ]
  },
  {
   "cell_type": "code",
   "execution_count": 41,
   "id": "81688c9a-bc60-45c4-b387-901b0a1b4cc0",
   "metadata": {},
   "outputs": [
    {
     "data": {
      "text/plain": [
       "'World'"
      ]
     },
     "execution_count": 41,
     "metadata": {},
     "output_type": "execute_result"
    }
   ],
   "source": [
    "#logical\n",
    "\"Hello\" and \"World\""
   ]
  },
  {
   "cell_type": "code",
   "execution_count": 43,
   "id": "78a82f80-c223-4f1c-86c0-4364879b01b6",
   "metadata": {},
   "outputs": [
    {
     "data": {
      "text/plain": [
       "'Hello'"
      ]
     },
     "execution_count": 43,
     "metadata": {},
     "output_type": "execute_result"
    }
   ],
   "source": [
    "\"Hello\" or \"World\""
   ]
  },
  {
   "cell_type": "code",
   "execution_count": 45,
   "id": "97f1b4d1-7aca-4a5b-8f4b-5f9d27f20028",
   "metadata": {},
   "outputs": [
    {
     "name": "stdout",
     "output_type": "stream",
     "text": [
      "False\n"
     ]
    }
   ],
   "source": [
    "print(not \"Hello\")"
   ]
  },
  {
   "cell_type": "markdown",
   "id": "d7d15444-9b51-4eca-8633-e1e69b6bcd34",
   "metadata": {},
   "source": [
    "Loops on String"
   ]
  },
  {
   "cell_type": "code",
   "execution_count": 48,
   "id": "e90f0e6c-7b92-4d07-9d66-d94527ce1d12",
   "metadata": {},
   "outputs": [],
   "source": [
    "c=\"Hello World\""
   ]
  },
  {
   "cell_type": "code",
   "execution_count": 50,
   "id": "7b9b085b-e8af-422e-86f4-f7aa32e82e90",
   "metadata": {},
   "outputs": [
    {
     "name": "stdout",
     "output_type": "stream",
     "text": [
      "H\n",
      "e\n",
      "l\n",
      "l\n",
      "o\n",
      " \n",
      "W\n",
      "o\n",
      "r\n",
      "l\n",
      "d\n"
     ]
    }
   ],
   "source": [
    "for i in c:\n",
    "    print(i)"
   ]
  },
  {
   "cell_type": "code",
   "execution_count": 56,
   "id": "f7bb46ec-79e0-41d7-a760-fd4d5f0b6d33",
   "metadata": {},
   "outputs": [
    {
     "name": "stdout",
     "output_type": "stream",
     "text": [
      "l\n",
      "l\n",
      "o\n",
      " \n",
      "W\n",
      "o\n"
     ]
    }
   ],
   "source": [
    "for i in c[2:8]:\n",
    "    print(i)"
   ]
  },
  {
   "cell_type": "code",
   "execution_count": 58,
   "id": "02d98df6-02d9-4fbf-8413-aafe0d4c6ef0",
   "metadata": {},
   "outputs": [
    {
     "data": {
      "text/plain": [
       "True"
      ]
     },
     "execution_count": 58,
     "metadata": {},
     "output_type": "execute_result"
    }
   ],
   "source": [
    "#Membership\n",
    "\"H\" in c"
   ]
  },
  {
   "cell_type": "code",
   "execution_count": 62,
   "id": "5e1535c7-64f3-4909-9d55-b9ccf7cd89f5",
   "metadata": {},
   "outputs": [
    {
     "data": {
      "text/plain": [
       "False"
      ]
     },
     "execution_count": 62,
     "metadata": {},
     "output_type": "execute_result"
    }
   ],
   "source": [
    "\"World\" not in c"
   ]
  },
  {
   "cell_type": "code",
   "execution_count": 64,
   "id": "c20188d1-4117-4297-b417-9df01d1d7aef",
   "metadata": {},
   "outputs": [
    {
     "data": {
      "text/plain": [
       "False"
      ]
     },
     "execution_count": 64,
     "metadata": {},
     "output_type": "execute_result"
    }
   ],
   "source": [
    "\"w\" in c"
   ]
  },
  {
   "cell_type": "markdown",
   "id": "2948647e-637a-4f05-9593-1655c1ab1bbf",
   "metadata": {},
   "source": [
    "String Functions\n",
    "1. Common Functions-\n",
    "\n",
    "len()\n",
    "\n",
    "max()\n",
    "\n",
    "min()\n",
    "\n",
    "sorted()"
   ]
  },
  {
   "cell_type": "code",
   "execution_count": 69,
   "id": "97d68280-7c19-455d-8db1-2ac78f2d403e",
   "metadata": {},
   "outputs": [],
   "source": [
    "a=\"Student\""
   ]
  },
  {
   "cell_type": "code",
   "execution_count": 71,
   "id": "ece93953-4862-465f-a0a2-115e36126cc2",
   "metadata": {},
   "outputs": [
    {
     "data": {
      "text/plain": [
       "7"
      ]
     },
     "execution_count": 71,
     "metadata": {},
     "output_type": "execute_result"
    }
   ],
   "source": [
    "len(a)"
   ]
  },
  {
   "cell_type": "code",
   "execution_count": 73,
   "id": "6e26097b-844c-4588-8fd7-c08dd818571a",
   "metadata": {},
   "outputs": [
    {
     "data": {
      "text/plain": [
       "'u'"
      ]
     },
     "execution_count": 73,
     "metadata": {},
     "output_type": "execute_result"
    }
   ],
   "source": [
    "max(a)"
   ]
  },
  {
   "cell_type": "code",
   "execution_count": 75,
   "id": "5b2913e5-bb3a-4c3d-bcaa-d34d8ea6ba81",
   "metadata": {},
   "outputs": [
    {
     "data": {
      "text/plain": [
       "'S'"
      ]
     },
     "execution_count": 75,
     "metadata": {},
     "output_type": "execute_result"
    }
   ],
   "source": [
    "min(a)"
   ]
  },
  {
   "cell_type": "code",
   "execution_count": 77,
   "id": "787ab3dd-cb08-4cbe-8df8-f03227471851",
   "metadata": {},
   "outputs": [
    {
     "data": {
      "text/plain": [
       "['S', 'd', 'e', 'n', 't', 't', 'u']"
      ]
     },
     "execution_count": 77,
     "metadata": {},
     "output_type": "execute_result"
    }
   ],
   "source": [
    "sorted(a)"
   ]
  },
  {
   "cell_type": "markdown",
   "id": "3776dc6c-4c44-43a3-96b7-81d0c0fde9b5",
   "metadata": {},
   "source": [
    "2. Capitalize/Title/Upper/Lower/Swapcase"
   ]
  },
  {
   "cell_type": "code",
   "execution_count": 80,
   "id": "dedba342-e9b1-4dc1-9ee5-5f97b7a67f8b",
   "metadata": {},
   "outputs": [
    {
     "data": {
      "text/plain": [
       "'Student'"
      ]
     },
     "execution_count": 80,
     "metadata": {},
     "output_type": "execute_result"
    }
   ],
   "source": [
    "a"
   ]
  },
  {
   "cell_type": "code",
   "execution_count": 82,
   "id": "64a94e86-fcc8-4006-ae63-552abae3c95c",
   "metadata": {},
   "outputs": [
    {
     "data": {
      "text/plain": [
       "'Student'"
      ]
     },
     "execution_count": 82,
     "metadata": {},
     "output_type": "execute_result"
    }
   ],
   "source": [
    "a.capitalize()"
   ]
  },
  {
   "cell_type": "code",
   "execution_count": 84,
   "id": "c07cdf58-913d-49c8-a624-2b526bf4b9da",
   "metadata": {},
   "outputs": [
    {
     "data": {
      "text/plain": [
       "'It Is Raining Today'"
      ]
     },
     "execution_count": 84,
     "metadata": {},
     "output_type": "execute_result"
    }
   ],
   "source": [
    "'it is raining today'.title()"
   ]
  },
  {
   "cell_type": "code",
   "execution_count": 86,
   "id": "87bc15b3-d6f5-476d-ab0c-4a15764017c2",
   "metadata": {},
   "outputs": [
    {
     "data": {
      "text/plain": [
       "'STUDENT'"
      ]
     },
     "execution_count": 86,
     "metadata": {},
     "output_type": "execute_result"
    }
   ],
   "source": [
    "a.upper()"
   ]
  },
  {
   "cell_type": "code",
   "execution_count": 88,
   "id": "b7951fa2-bbc0-4947-9efa-f0856a3be091",
   "metadata": {},
   "outputs": [
    {
     "data": {
      "text/plain": [
       "'student'"
      ]
     },
     "execution_count": 88,
     "metadata": {},
     "output_type": "execute_result"
    }
   ],
   "source": [
    "a.lower()"
   ]
  },
  {
   "cell_type": "markdown",
   "id": "abb46b5f-cf8e-4aaa-9423-b572d415f682",
   "metadata": {},
   "source": [
    "3. count"
   ]
  },
  {
   "cell_type": "code",
   "execution_count": 93,
   "id": "af5c0f50-f944-4d41-935b-32ad574e2b2d",
   "metadata": {},
   "outputs": [
    {
     "data": {
      "text/plain": [
       "4"
      ]
     },
     "execution_count": 93,
     "metadata": {},
     "output_type": "execute_result"
    }
   ],
   "source": [
    "'it is raining today'.count(\"i\")"
   ]
  },
  {
   "cell_type": "code",
   "execution_count": 95,
   "id": "b1ee206b-c693-4ee5-bac4-1ea933aef529",
   "metadata": {},
   "outputs": [
    {
     "data": {
      "text/plain": [
       "1"
      ]
     },
     "execution_count": 95,
     "metadata": {},
     "output_type": "execute_result"
    }
   ],
   "source": [
    "'it is raining today'.count(\"ing\")"
   ]
  },
  {
   "cell_type": "code",
   "execution_count": 97,
   "id": "f124cc27-0543-4249-a7b8-a0d034ff1890",
   "metadata": {},
   "outputs": [
    {
     "data": {
      "text/plain": [
       "0"
      ]
     },
     "execution_count": 97,
     "metadata": {},
     "output_type": "execute_result"
    }
   ],
   "source": [
    "'it is raining today'.count(\"x\")"
   ]
  },
  {
   "cell_type": "markdown",
   "id": "e150d077-adcf-4cfd-80a1-8fb890c34de9",
   "metadata": {},
   "source": [
    "Find/Index"
   ]
  },
  {
   "cell_type": "code",
   "execution_count": 100,
   "id": "d75b40d7-d195-4c22-ab35-990935015de6",
   "metadata": {},
   "outputs": [
    {
     "data": {
      "text/plain": [
       "12"
      ]
     },
     "execution_count": 100,
     "metadata": {},
     "output_type": "execute_result"
    }
   ],
   "source": [
    "\"it is raining\".find(\"g\")\n"
   ]
  },
  {
   "cell_type": "code",
   "execution_count": 102,
   "id": "4b0690b2-eba0-4f86-bd54-b590a8ed0f2b",
   "metadata": {},
   "outputs": [
    {
     "data": {
      "text/plain": [
       "12"
      ]
     },
     "execution_count": 102,
     "metadata": {},
     "output_type": "execute_result"
    }
   ],
   "source": [
    "\"it is raining\".index(\"g\")"
   ]
  },
  {
   "cell_type": "code",
   "execution_count": 104,
   "id": "3f88021b-b86f-4dfd-8c4d-88c32a2af780",
   "metadata": {},
   "outputs": [
    {
     "data": {
      "text/plain": [
       "0"
      ]
     },
     "execution_count": 104,
     "metadata": {},
     "output_type": "execute_result"
    }
   ],
   "source": [
    "\"it is raining\".index(\"i\")"
   ]
  },
  {
   "cell_type": "code",
   "execution_count": 106,
   "id": "b151a02c-de0a-44b2-869b-14487ab06093",
   "metadata": {},
   "outputs": [
    {
     "ename": "ValueError",
     "evalue": "substring not found",
     "output_type": "error",
     "traceback": [
      "\u001b[1;31m---------------------------------------------------------------------------\u001b[0m",
      "\u001b[1;31mValueError\u001b[0m                                Traceback (most recent call last)",
      "Cell \u001b[1;32mIn[106], line 1\u001b[0m\n\u001b[1;32m----> 1\u001b[0m \u001b[38;5;124m\"\u001b[39m\u001b[38;5;124mit is raining\u001b[39m\u001b[38;5;124m\"\u001b[39m\u001b[38;5;241m.\u001b[39mindex(\u001b[38;5;124m\"\u001b[39m\u001b[38;5;124mz\u001b[39m\u001b[38;5;124m\"\u001b[39m)\n",
      "\u001b[1;31mValueError\u001b[0m: substring not found"
     ]
    }
   ],
   "source": [
    "\"it is raining\".index(\"z\")"
   ]
  },
  {
   "cell_type": "markdown",
   "id": "c05a7cf5-f763-4c83-ac84-f677eff7a51c",
   "metadata": {},
   "source": [
    "5. endswith/startswith"
   ]
  },
  {
   "cell_type": "code",
   "execution_count": 113,
   "id": "19f71022-6e13-44a4-9f49-009fdaa1026f",
   "metadata": {},
   "outputs": [],
   "source": [
    "c=\"it is raining\""
   ]
  },
  {
   "cell_type": "code",
   "execution_count": 119,
   "id": "3514ebbd-fc8a-4ecb-a2d4-a5d352caf4d5",
   "metadata": {},
   "outputs": [
    {
     "data": {
      "text/plain": [
       "True"
      ]
     },
     "execution_count": 119,
     "metadata": {},
     "output_type": "execute_result"
    }
   ],
   "source": [
    "c.endswith(\"ng\")"
   ]
  },
  {
   "cell_type": "code",
   "execution_count": 121,
   "id": "656cc472-f4bb-49ef-8c33-d37ec0b24e05",
   "metadata": {},
   "outputs": [
    {
     "data": {
      "text/plain": [
       "True"
      ]
     },
     "execution_count": 121,
     "metadata": {},
     "output_type": "execute_result"
    }
   ],
   "source": [
    "c.startswith(\"it\")"
   ]
  },
  {
   "cell_type": "markdown",
   "id": "c9218c9d-1eb4-46ee-861f-0ee289639986",
   "metadata": {},
   "source": [
    "Format"
   ]
  },
  {
   "cell_type": "code",
   "execution_count": 124,
   "id": "356d92c8-24f9-4612-bba1-1102b17c183a",
   "metadata": {},
   "outputs": [
    {
     "data": {
      "text/plain": [
       "'Hello my name is Jatin and I am 20'"
      ]
     },
     "execution_count": 124,
     "metadata": {},
     "output_type": "execute_result"
    }
   ],
   "source": [
    "\"Hello my {} is {} and I am {}\".format(\"name\", \"Jatin\", 20)"
   ]
  },
  {
   "cell_type": "code",
   "execution_count": 126,
   "id": "81b9ac62-60d8-4748-8d4e-a51f77ad2391",
   "metadata": {},
   "outputs": [
    {
     "data": {
      "text/plain": [
       "'Hello my name is 22 and I am Saurabh'"
      ]
     },
     "execution_count": 126,
     "metadata": {},
     "output_type": "execute_result"
    }
   ],
   "source": [
    "\"Hello my name is {1} and I am {0}\".format(\"Saurabh\", 22)"
   ]
  },
  {
   "cell_type": "code",
   "execution_count": 130,
   "id": "ad762182-47bf-4b57-a5a9-4b4d273d4ab6",
   "metadata": {},
   "outputs": [
    {
     "data": {
      "text/plain": [
       "'Hello my name is Saurabh and I am 22'"
      ]
     },
     "execution_count": 130,
     "metadata": {},
     "output_type": "execute_result"
    }
   ],
   "source": [
    "\"Hello my name is {name} and I am {age}\".format(name=\"Saurabh\", age=22)"
   ]
  },
  {
   "cell_type": "markdown",
   "id": "8cab167d-7d4e-4dd7-b075-c301a1ee5084",
   "metadata": {},
   "source": [
    "7. isalnum/isalpha/isdecimal/isdigit/isidentifier"
   ]
  },
  {
   "cell_type": "code",
   "execution_count": 135,
   "id": "e875acd5-86a5-4791-8ec4-31398cfabcfd",
   "metadata": {},
   "outputs": [
    {
     "data": {
      "text/plain": [
       "True"
      ]
     },
     "execution_count": 135,
     "metadata": {},
     "output_type": "execute_result"
    }
   ],
   "source": [
    "#Alphanumeruic\n",
    "\"FLAT30\".isalnum()"
   ]
  },
  {
   "cell_type": "code",
   "execution_count": 137,
   "id": "9eaf952d-b2ac-4950-9f35-60b3713f1f18",
   "metadata": {},
   "outputs": [
    {
     "data": {
      "text/plain": [
       "False"
      ]
     },
     "execution_count": 137,
     "metadata": {},
     "output_type": "execute_result"
    }
   ],
   "source": [
    "\"FLAT30@\".isalnum()"
   ]
  },
  {
   "cell_type": "code",
   "execution_count": 139,
   "id": "1629e7d6-4405-4335-8087-bd402edb720c",
   "metadata": {},
   "outputs": [
    {
     "data": {
      "text/plain": [
       "True"
      ]
     },
     "execution_count": 139,
     "metadata": {},
     "output_type": "execute_result"
    }
   ],
   "source": [
    "#Alphabetic\n",
    "\"Rahul\".isalpha()"
   ]
  },
  {
   "cell_type": "code",
   "execution_count": 141,
   "id": "b1bb7e76-db8a-484d-9d88-cfca435b8ceb",
   "metadata": {},
   "outputs": [
    {
     "data": {
      "text/plain": [
       "False"
      ]
     },
     "execution_count": 141,
     "metadata": {},
     "output_type": "execute_result"
    }
   ],
   "source": [
    "\"FLAT30\".isalpha()"
   ]
  },
  {
   "cell_type": "code",
   "execution_count": 143,
   "id": "167feb64-2eed-4525-b151-6ff1b59cc792",
   "metadata": {},
   "outputs": [
    {
     "data": {
      "text/plain": [
       "True"
      ]
     },
     "execution_count": 143,
     "metadata": {},
     "output_type": "execute_result"
    }
   ],
   "source": [
    "\"20\".isdigit()"
   ]
  },
  {
   "cell_type": "code",
   "execution_count": 145,
   "id": "d5d700d6-c3e7-43e2-81f3-71cd1f3672e1",
   "metadata": {},
   "outputs": [
    {
     "data": {
      "text/plain": [
       "False"
      ]
     },
     "execution_count": 145,
     "metadata": {},
     "output_type": "execute_result"
    }
   ],
   "source": [
    "\"20X\".isdigit()"
   ]
  },
  {
   "cell_type": "code",
   "execution_count": 147,
   "id": "f8131978-95a4-49b1-9f47-572fee7a3145",
   "metadata": {},
   "outputs": [
    {
     "data": {
      "text/plain": [
       "False"
      ]
     },
     "execution_count": 147,
     "metadata": {},
     "output_type": "execute_result"
    }
   ],
   "source": [
    "\"Hello World\".isidentifier()"
   ]
  },
  {
   "cell_type": "code",
   "execution_count": 149,
   "id": "1dc95872-4092-49b0-bc5f-07bfa82cadd3",
   "metadata": {},
   "outputs": [
    {
     "data": {
      "text/plain": [
       "True"
      ]
     },
     "execution_count": 149,
     "metadata": {},
     "output_type": "execute_result"
    }
   ],
   "source": [
    "\"Hello_World\".isidentifier()"
   ]
  },
  {
   "cell_type": "markdown",
   "id": "fafb0fb9-f41d-4196-8ed0-4f018dcc2b94",
   "metadata": {},
   "source": [
    "8. Spilit"
   ]
  },
  {
   "cell_type": "code",
   "execution_count": 157,
   "id": "44d5faf0-7599-4b91-a9a2-dfa0fd8d4ae7",
   "metadata": {},
   "outputs": [
    {
     "data": {
      "text/plain": [
       "['My', 'name', 'is', 'Jatin']"
      ]
     },
     "execution_count": 157,
     "metadata": {},
     "output_type": "execute_result"
    }
   ],
   "source": [
    "\"My name is Jatin\".split()"
   ]
  },
  {
   "cell_type": "code",
   "execution_count": 159,
   "id": "984254af-1601-4d40-aa0b-e83404e13e4a",
   "metadata": {},
   "outputs": [
    {
     "data": {
      "text/plain": [
       "['My name is ', '']"
      ]
     },
     "execution_count": 159,
     "metadata": {},
     "output_type": "execute_result"
    }
   ],
   "source": [
    "\"My name is Jatin\".split(\"Jatin\")"
   ]
  },
  {
   "cell_type": "code",
   "execution_count": 163,
   "id": "0b9d3a76-ca84-4f72-a111-4e58221cd0f4",
   "metadata": {},
   "outputs": [
    {
     "data": {
      "text/plain": [
       "['My name is Jatin']"
      ]
     },
     "execution_count": 163,
     "metadata": {},
     "output_type": "execute_result"
    }
   ],
   "source": [
    "\"My name is Jatin\".split(\"z\")"
   ]
  },
  {
   "cell_type": "markdown",
   "id": "68e6dc4b-0bfa-4bf0-a4f5-9277b6d1a645",
   "metadata": {},
   "source": [
    "9.Join"
   ]
  },
  {
   "cell_type": "code",
   "execution_count": 174,
   "id": "984357e3-3147-4976-a383-c4892f47dbaf",
   "metadata": {},
   "outputs": [
    {
     "data": {
      "text/plain": [
       "'My name is Jatin'"
      ]
     },
     "execution_count": 174,
     "metadata": {},
     "output_type": "execute_result"
    }
   ],
   "source": [
    "\" \".join(['My', 'name', 'is', 'Jatin'])"
   ]
  },
  {
   "cell_type": "code",
   "execution_count": 176,
   "id": "d0cb4e40-0b1d-4f90-b3de-f5019d698a88",
   "metadata": {},
   "outputs": [
    {
     "data": {
      "text/plain": [
       "'My_name_is_Jatin'"
      ]
     },
     "execution_count": 176,
     "metadata": {},
     "output_type": "execute_result"
    }
   ],
   "source": [
    "\"_\".join(['My', 'name', 'is', 'Jatin'])"
   ]
  },
  {
   "cell_type": "markdown",
   "id": "2f14ecb5-5e84-4912-83db-b4d9e83f6297",
   "metadata": {},
   "source": [
    "10. Replace"
   ]
  },
  {
   "cell_type": "code",
   "execution_count": 179,
   "id": "dc3b0792-5c0d-46e1-9377-4492bbe279f2",
   "metadata": {},
   "outputs": [
    {
     "data": {
      "text/plain": [
       "'My name is Rahul'"
      ]
     },
     "execution_count": 179,
     "metadata": {},
     "output_type": "execute_result"
    }
   ],
   "source": [
    "'My name is Jatin'.replace(\"Jatin\", \"Rahul\")"
   ]
  },
  {
   "cell_type": "markdown",
   "id": "ccc952f2-8a50-4726-a1c0-b4945ed91f2c",
   "metadata": {},
   "source": [
    "11. Strip\n"
   ]
  },
  {
   "cell_type": "code",
   "execution_count": 202,
   "id": "5435564c-c89c-45de-90c0-e7b77ab99667",
   "metadata": {},
   "outputs": [],
   "source": [
    "name=\"    Jatin   \""
   ]
  },
  {
   "cell_type": "code",
   "execution_count": 204,
   "id": "33cae64f-2b67-4037-91e3-112268083555",
   "metadata": {},
   "outputs": [
    {
     "name": "stdout",
     "output_type": "stream",
     "text": [
      "    Jatin   \n"
     ]
    }
   ],
   "source": [
    "print(name)"
   ]
  },
  {
   "cell_type": "code",
   "execution_count": 206,
   "id": "880d5761-fe94-462b-a173-9529e1936e3f",
   "metadata": {},
   "outputs": [
    {
     "data": {
      "text/plain": [
       "'Jatin'"
      ]
     },
     "execution_count": 206,
     "metadata": {},
     "output_type": "execute_result"
    }
   ],
   "source": [
    "name.strip()"
   ]
  },
  {
   "cell_type": "code",
   "execution_count": null,
   "id": "0e983548-1397-4642-b60d-8cd0b7f8b08e",
   "metadata": {},
   "outputs": [],
   "source": []
  }
 ],
 "metadata": {
  "kernelspec": {
   "display_name": "Python [conda env:base] *",
   "language": "python",
   "name": "conda-base-py"
  },
  "language_info": {
   "codemirror_mode": {
    "name": "ipython",
    "version": 3
   },
   "file_extension": ".py",
   "mimetype": "text/x-python",
   "name": "python",
   "nbconvert_exporter": "python",
   "pygments_lexer": "ipython3",
   "version": "3.12.7"
  }
 },
 "nbformat": 4,
 "nbformat_minor": 5
}

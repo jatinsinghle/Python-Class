{
 "cells": [
  {
   "cell_type": "markdown",
   "id": "37d54b1a-ed78-49ab-a39e-26e95e1876d4",
   "metadata": {},
   "source": [
    "List\n",
    "\n",
    "Collection in Python for sequences of diverse data types.\n",
    "\n",
    "List vs Array\n",
    "\n",
    "Array: Homogeneous; Contiguous memory; Fast; Numerical/Scientific use.\n",
    "\n",
    "List: Heterogeneous; Non-contiguous memory; Programmer-friendly; General-purpose.\n",
    "\n",
    "Create\n",
    "\n",
    "Access\n",
    "\n",
    "Edit\n",
    "\n",
    "Add\n",
    "\n",
    "Delete\n",
    "\n",
    "Operations\n",
    "\n",
    "Functions\n",
    "\n",
    "Arrays vs. Lists in Memory:\n",
    "\n",
    "Arrays:\n",
    "\n",
    "int arr[50]; ---> 50 contiguous memory blocks.\n",
    "\n",
    "Elements stored in binary form at consecutive addresses.\n",
    "\n",
    "Lists:\n",
    "\n",
    "list_example = [1, 2, 3] ---> Elements at different locations.\n",
    "\n",
    "Stores references/pointers to elements, not the values."
   ]
  },
  {
   "cell_type": "code",
   "execution_count": 4,
   "id": "839c1af4-6eb3-4d72-a18e-8f0905b991c6",
   "metadata": {},
   "outputs": [],
   "source": [
    "#proof...\n",
    "L=[1,2,3,4]"
   ]
  },
  {
   "cell_type": "code",
   "execution_count": 14,
   "id": "de37a1f5-26a9-4a69-9d04-86271dc8e885",
   "metadata": {},
   "outputs": [
    {
     "name": "stdout",
     "output_type": "stream",
     "text": [
      "2008320658176\n",
      "140730693724600\n",
      "140730693724632\n",
      "140730693724664\n",
      "140730693724696\n",
      "140730693724696\n"
     ]
    }
   ],
   "source": [
    "print(id(L))\n",
    "print(id(L[0]))\n",
    "print(id(L[1]))\n",
    "print(id(L[2]))\n",
    "print(id(L[3]))\n",
    "print(id(4))"
   ]
  },
  {
   "cell_type": "markdown",
   "id": "6df86aad-38ef-41b9-af65-147afa365676",
   "metadata": {},
   "source": [
    "List Characteristics-\n",
    "\n",
    "Ordered\n",
    "\n",
    "Mutable\n",
    "\n",
    "Heterogeneous\n",
    "\n",
    "Duplicates allowed\n",
    "\n",
    "Dynamic size\n",
    "\n",
    "Nesting supported\n",
    "\n",
    "Indexable\n",
    "\n",
    "Any object type"
   ]
  },
  {
   "cell_type": "code",
   "execution_count": 20,
   "id": "8599c8aa-957a-41ea-a4ba-b122a7808c7d",
   "metadata": {},
   "outputs": [
    {
     "data": {
      "text/plain": [
       "[1, 2, 3, 4, 5]"
      ]
     },
     "execution_count": 20,
     "metadata": {},
     "output_type": "execute_result"
    }
   ],
   "source": [
    "# 1D ---> Homo\n",
    "L1 = [1, 2, 3, 4, 5]\n",
    "L1"
   ]
  },
  {
   "cell_type": "code",
   "execution_count": 22,
   "id": "fcb5be16-4e3d-4ed5-93b3-c69e405a12f7",
   "metadata": {},
   "outputs": [
    {
     "data": {
      "text/plain": [
       "[1, 2, 3, 4, 5]"
      ]
     },
     "execution_count": 22,
     "metadata": {},
     "output_type": "execute_result"
    }
   ],
   "source": [
    "# 1D ---> Homo\n",
    "L1 = [1, 2, 3, 4, 5]\n",
    "L1"
   ]
  },
  {
   "cell_type": "code",
   "execution_count": 148,
   "id": "4a353de5-7b23-4f08-8d77-0b4ccd6a8230",
   "metadata": {},
   "outputs": [
    {
     "data": {
      "text/plain": [
       "['Hello', 4, 5, 6, True, (5+6j)]"
      ]
     },
     "execution_count": 148,
     "metadata": {},
     "output_type": "execute_result"
    }
   ],
   "source": [
    "# Hetrogenous\n",
    "L2 = [\"Hello\", 4, 5, 6, True, 5+6j]\n",
    "L2"
   ]
  },
  {
   "cell_type": "code",
   "execution_count": 28,
   "id": "0ca2955e-624d-483c-ae12-19e194c44b86",
   "metadata": {},
   "outputs": [
    {
     "data": {
      "text/plain": [
       "[1, 2, 3, [4, 5]]"
      ]
     },
     "execution_count": 28,
     "metadata": {},
     "output_type": "execute_result"
    }
   ],
   "source": [
    "#multidimentional list:\n",
    "#2D\n",
    "L3=[1,2,3,[4,5] ]\n",
    "L3"
   ]
  },
  {
   "cell_type": "code",
   "execution_count": 34,
   "id": "b18ca8d8-b275-4478-b6b1-3e4e39ef7f82",
   "metadata": {},
   "outputs": [
    {
     "data": {
      "text/plain": [
       "[[[1, 2], [3, 4]], [[5, 6], [7, 8]]]"
      ]
     },
     "execution_count": 34,
     "metadata": {},
     "output_type": "execute_result"
    }
   ],
   "source": [
    "#3D\n",
    "L4=[[[1,2],[3,4]],[[5,6],[7,8]]]\n",
    "L4"
   ]
  },
  {
   "cell_type": "code",
   "execution_count": 38,
   "id": "21da1112-c8a4-4c55-b0bf-5ae14360eb95",
   "metadata": {},
   "outputs": [
    {
     "data": {
      "text/plain": [
       "['j', 'a', 't', 'i', 'n']"
      ]
     },
     "execution_count": 38,
     "metadata": {},
     "output_type": "execute_result"
    }
   ],
   "source": [
    "#using type conversation\n",
    "L5=list('jatin')\n",
    "L5"
   ]
  },
  {
   "cell_type": "markdown",
   "id": "36510795-b7d8-4a53-9ef0-3bdd155cc6ce",
   "metadata": {},
   "source": [
    "2. Access"
   ]
  },
  {
   "cell_type": "code",
   "execution_count": 41,
   "id": "54beb642-8887-46bf-92d1-57edd568a513",
   "metadata": {},
   "outputs": [],
   "source": [
    "L1=[1,2,3,4]"
   ]
  },
  {
   "cell_type": "code",
   "execution_count": 43,
   "id": "61dff6a5-b524-4701-b6f0-af69cbe07552",
   "metadata": {},
   "outputs": [
    {
     "data": {
      "text/plain": [
       "1"
      ]
     },
     "execution_count": 43,
     "metadata": {},
     "output_type": "execute_result"
    }
   ],
   "source": [
    "L1[0]"
   ]
  },
  {
   "cell_type": "code",
   "execution_count": 45,
   "id": "2dacd0f8-c1dd-4efd-8b52-0ba181480031",
   "metadata": {},
   "outputs": [
    {
     "data": {
      "text/plain": [
       "3"
      ]
     },
     "execution_count": 45,
     "metadata": {},
     "output_type": "execute_result"
    }
   ],
   "source": [
    "L1[-2]"
   ]
  },
  {
   "cell_type": "code",
   "execution_count": 47,
   "id": "989e0357-7fd9-40ea-bc1a-297e157ef73b",
   "metadata": {},
   "outputs": [
    {
     "data": {
      "text/plain": [
       "[2, 3]"
      ]
     },
     "execution_count": 47,
     "metadata": {},
     "output_type": "execute_result"
    }
   ],
   "source": [
    "#slicing\n",
    "L1[1:3]"
   ]
  },
  {
   "cell_type": "code",
   "execution_count": 51,
   "id": "486265e0-1a02-42ff-bd85-926e93269678",
   "metadata": {},
   "outputs": [
    {
     "data": {
      "text/plain": [
       "[4, 3, 2, 1]"
      ]
     },
     "execution_count": 51,
     "metadata": {},
     "output_type": "execute_result"
    }
   ],
   "source": [
    "L1[::-1]"
   ]
  },
  {
   "cell_type": "code",
   "execution_count": 60,
   "id": "3c17c038-8268-422c-a1e4-cbfd5088fcbc",
   "metadata": {},
   "outputs": [
    {
     "data": {
      "text/plain": [
       "[1, 3]"
      ]
     },
     "execution_count": 60,
     "metadata": {},
     "output_type": "execute_result"
    }
   ],
   "source": [
    "L1[0:5:2]"
   ]
  },
  {
   "cell_type": "code",
   "execution_count": 64,
   "id": "f59fcf79-0e7b-4d48-abc9-eca3cbf57e2c",
   "metadata": {},
   "outputs": [
    {
     "data": {
      "text/plain": [
       "[1, 2, 3, [4, 5]]"
      ]
     },
     "execution_count": 64,
     "metadata": {},
     "output_type": "execute_result"
    }
   ],
   "source": [
    "L3\n"
   ]
  },
  {
   "cell_type": "code",
   "execution_count": 66,
   "id": "cc948fd8-05c8-455c-9825-5e99f301f9e6",
   "metadata": {},
   "outputs": [
    {
     "data": {
      "text/plain": [
       "[4, 5]"
      ]
     },
     "execution_count": 66,
     "metadata": {},
     "output_type": "execute_result"
    }
   ],
   "source": [
    "L3[3]"
   ]
  },
  {
   "cell_type": "code",
   "execution_count": 68,
   "id": "71284871-f8bc-43b9-855e-df72d49f3c27",
   "metadata": {},
   "outputs": [
    {
     "data": {
      "text/plain": [
       "4"
      ]
     },
     "execution_count": 68,
     "metadata": {},
     "output_type": "execute_result"
    }
   ],
   "source": [
    "L3[3][0]"
   ]
  },
  {
   "cell_type": "code",
   "execution_count": 70,
   "id": "6e824424-6187-41ed-94f5-1e9d4bc55e04",
   "metadata": {},
   "outputs": [
    {
     "data": {
      "text/plain": [
       "7"
      ]
     },
     "execution_count": 70,
     "metadata": {},
     "output_type": "execute_result"
    }
   ],
   "source": [
    "L4[1][-1][0]"
   ]
  },
  {
   "cell_type": "markdown",
   "id": "b382f7dd-4c17-4173-8f3c-c2c993ca360f",
   "metadata": {},
   "source": [
    "3. Edit"
   ]
  },
  {
   "cell_type": "code",
   "execution_count": 73,
   "id": "73c2e93b-2c1d-4af0-a25a-17d903619677",
   "metadata": {},
   "outputs": [
    {
     "data": {
      "text/plain": [
       "[1, 2, 3, 4]"
      ]
     },
     "execution_count": 73,
     "metadata": {},
     "output_type": "execute_result"
    }
   ],
   "source": [
    "L1"
   ]
  },
  {
   "cell_type": "code",
   "execution_count": 75,
   "id": "9e935edd-783f-4f7e-bdd2-ee4ce3aa14d7",
   "metadata": {},
   "outputs": [],
   "source": [
    "L1[1]=5"
   ]
  },
  {
   "cell_type": "code",
   "execution_count": 129,
   "id": "0230a87d-66dc-4579-8de4-ce46c99a6db4",
   "metadata": {},
   "outputs": [
    {
     "data": {
      "text/plain": [
       "[100, 200, 300, 400, 400, 500, 500, 500, 500]"
      ]
     },
     "execution_count": 129,
     "metadata": {},
     "output_type": "execute_result"
    }
   ],
   "source": [
    "L1"
   ]
  },
  {
   "cell_type": "code",
   "execution_count": 79,
   "id": "c3c7ab7a-d065-4c02-9ab0-554f2edd18b3",
   "metadata": {},
   "outputs": [],
   "source": [
    "L1[-1]=400"
   ]
  },
  {
   "cell_type": "code",
   "execution_count": 81,
   "id": "c936d2a1-93ae-467f-ac84-73f8e2000193",
   "metadata": {},
   "outputs": [
    {
     "data": {
      "text/plain": [
       "[1, 5, 3, 400]"
      ]
     },
     "execution_count": 81,
     "metadata": {},
     "output_type": "execute_result"
    }
   ],
   "source": [
    "L1"
   ]
  },
  {
   "cell_type": "code",
   "execution_count": 131,
   "id": "9bfa01e5-efcf-4466-b078-133d66b19a62",
   "metadata": {},
   "outputs": [
    {
     "data": {
      "text/plain": [
       "[100, 200, 300, 400, 400, 500, 500, 500, 500]"
      ]
     },
     "execution_count": 131,
     "metadata": {},
     "output_type": "execute_result"
    }
   ],
   "source": [
    "# Editing With Slicing\n",
    "L1[0:3] =[100,200,300]\n",
    "L1"
   ]
  },
  {
   "cell_type": "markdown",
   "id": "17116792-7ade-4f1d-96a6-c457eff74307",
   "metadata": {},
   "source": [
    "4. Add\n",
    "\n",
    "append()\n",
    "\n",
    "extend()\n",
    "\n",
    "insert()"
   ]
  },
  {
   "cell_type": "code",
   "execution_count": 133,
   "id": "6252e007-7a1e-4984-927f-634851b7f7fd",
   "metadata": {},
   "outputs": [
    {
     "data": {
      "text/plain": [
       "[100, 200, 300, 400, 400, 500, 500, 500, 500, 1000]"
      ]
     },
     "execution_count": 133,
     "metadata": {},
     "output_type": "execute_result"
    }
   ],
   "source": [
    "L1.append(1000)\n",
    "L1"
   ]
  },
  {
   "cell_type": "code",
   "execution_count": 135,
   "id": "d2ec45d2-749b-4ff3-b656-14bb368adc94",
   "metadata": {},
   "outputs": [
    {
     "data": {
      "text/plain": [
       "[100, 200, 300, 400, 400, 500, 500, 500, 500, 1000, 5000, 6000, 7000]"
      ]
     },
     "execution_count": 135,
     "metadata": {},
     "output_type": "execute_result"
    }
   ],
   "source": [
    "L1.extend([5000, 6000, 7000])\n",
    "L1"
   ]
  },
  {
   "cell_type": "code",
   "execution_count": 7,
   "id": "66bb75e6-e4cd-4dbb-a781-964a966143df",
   "metadata": {},
   "outputs": [],
   "source": [
    "L1=[100, 200, 300, 400, 400, 500, 500, 500, 500, 1000, 5000, 6000, 7000]"
   ]
  },
  {
   "cell_type": "code",
   "execution_count": 9,
   "id": "69970597-d65c-443d-993f-508d367be42e",
   "metadata": {},
   "outputs": [
    {
     "data": {
      "text/plain": [
       "[100, 200, 300, 400, 400, 500, 500, 500, 500, 1000, 5000, 6000, 7000, [5, 6]]"
      ]
     },
     "execution_count": 9,
     "metadata": {},
     "output_type": "execute_result"
    }
   ],
   "source": [
    "L1.append([5, 6])\n",
    "L1"
   ]
  },
  {
   "cell_type": "code",
   "execution_count": 11,
   "id": "900b9ba9-38bf-441e-889a-b50baeedd62d",
   "metadata": {},
   "outputs": [
    {
     "data": {
      "text/plain": [
       "[100,\n",
       " 'world',\n",
       " 200,\n",
       " 300,\n",
       " 400,\n",
       " 400,\n",
       " 500,\n",
       " 500,\n",
       " 500,\n",
       " 500,\n",
       " 1000,\n",
       " 5000,\n",
       " 6000,\n",
       " 7000,\n",
       " [5, 6]]"
      ]
     },
     "execution_count": 11,
     "metadata": {},
     "output_type": "execute_result"
    }
   ],
   "source": [
    "L1.insert(1, \"world\")\n",
    "L1"
   ]
  },
  {
   "cell_type": "markdown",
   "id": "df8ab3b8-fed6-4cfa-b429-4f171c0b7223",
   "metadata": {},
   "source": [
    "5. Delete\n",
    "\n",
    "del\n",
    "\n",
    ".remove()\n",
    "\n",
    ".pop()\n",
    "\n",
    ".clear()"
   ]
  },
  {
   "cell_type": "code",
   "execution_count": 14,
   "id": "189a1c43-f80c-4abe-8f51-c080287ee32b",
   "metadata": {},
   "outputs": [],
   "source": [
    "L2 = [\"Hello\", 4, 5, 6, True, 5+6j]"
   ]
  },
  {
   "cell_type": "code",
   "execution_count": 16,
   "id": "6ff22410-d322-4a73-931c-ec9e6c6c442c",
   "metadata": {},
   "outputs": [
    {
     "ename": "NameError",
     "evalue": "name 'L2' is not defined",
     "output_type": "error",
     "traceback": [
      "\u001b[1;31m---------------------------------------------------------------------------\u001b[0m",
      "\u001b[1;31mNameError\u001b[0m                                 Traceback (most recent call last)",
      "Cell \u001b[1;32mIn[16], line 2\u001b[0m\n\u001b[0;32m      1\u001b[0m \u001b[38;5;28;01mdel\u001b[39;00m L2\n\u001b[1;32m----> 2\u001b[0m L2\n",
      "\u001b[1;31mNameError\u001b[0m: name 'L2' is not defined"
     ]
    }
   ],
   "source": [
    "del L2\n",
    "L2"
   ]
  },
  {
   "cell_type": "code",
   "execution_count": 18,
   "id": "160d2855-74a7-451b-9c79-179b385599a0",
   "metadata": {},
   "outputs": [
    {
     "data": {
      "text/plain": [
       "['world',\n",
       " 200,\n",
       " 300,\n",
       " 400,\n",
       " 400,\n",
       " 500,\n",
       " 500,\n",
       " 500,\n",
       " 500,\n",
       " 1000,\n",
       " 5000,\n",
       " 6000,\n",
       " 7000,\n",
       " [5, 6]]"
      ]
     },
     "execution_count": 18,
     "metadata": {},
     "output_type": "execute_result"
    }
   ],
   "source": [
    "del L1[0]\n",
    "L1"
   ]
  },
  {
   "cell_type": "code",
   "execution_count": 20,
   "id": "bf5c4daf-26ff-4c47-8fe9-0e06ffc0acc0",
   "metadata": {},
   "outputs": [
    {
     "data": {
      "text/plain": [
       "[200, 300, 400, 400, 500, 500, 500, 500, 1000, 5000, 6000, 7000, [5, 6]]"
      ]
     },
     "execution_count": 20,
     "metadata": {},
     "output_type": "execute_result"
    }
   ],
   "source": [
    "L1.remove(\"world\")\n",
    "L1"
   ]
  },
  {
   "cell_type": "code",
   "execution_count": 22,
   "id": "59a796ce-1039-4a95-8b2d-4ce35903d7ed",
   "metadata": {},
   "outputs": [
    {
     "data": {
      "text/plain": [
       "[5, 6]"
      ]
     },
     "execution_count": 22,
     "metadata": {},
     "output_type": "execute_result"
    }
   ],
   "source": [
    "L1.pop()"
   ]
  },
  {
   "cell_type": "code",
   "execution_count": 24,
   "id": "16a97917-27b5-436b-8e10-7dfa0b7b73dc",
   "metadata": {},
   "outputs": [],
   "source": [
    "L1.clear()"
   ]
  },
  {
   "cell_type": "code",
   "execution_count": 26,
   "id": "e46acd25-8cc6-4769-8200-23e136a76f80",
   "metadata": {},
   "outputs": [
    {
     "data": {
      "text/plain": [
       "[]"
      ]
     },
     "execution_count": 26,
     "metadata": {},
     "output_type": "execute_result"
    }
   ],
   "source": [
    "L1"
   ]
  },
  {
   "cell_type": "markdown",
   "id": "19b9236a-0764-48f4-9e85-6066f05e388b",
   "metadata": {},
   "source": [
    "6. Operations\n",
    "\n",
    "Arithmetic\n",
    "\n",
    "Membership\n",
    "\n",
    "Loop"
   ]
  },
  {
   "cell_type": "code",
   "execution_count": 29,
   "id": "a9d77e70-6830-4a43-9125-ed2bca887b37",
   "metadata": {},
   "outputs": [],
   "source": [
    "L1=[1,2,3,4]\n",
    "L2=[5,6,7,8]"
   ]
  },
  {
   "cell_type": "code",
   "execution_count": 31,
   "id": "ea00c2f7-9de8-4384-a25d-63e7418630de",
   "metadata": {},
   "outputs": [
    {
     "data": {
      "text/plain": [
       "[1, 2, 3, 4, 5, 6, 7, 8]"
      ]
     },
     "execution_count": 31,
     "metadata": {},
     "output_type": "execute_result"
    }
   ],
   "source": [
    "# Concatenation/Merge\n",
    "L1+L2"
   ]
  },
  {
   "cell_type": "code",
   "execution_count": 35,
   "id": "eb8bd898-6556-4b5e-8167-0b178579d1be",
   "metadata": {},
   "outputs": [
    {
     "data": {
      "text/plain": [
       "[1, 2, 3, 4, 1, 2, 3, 4, 1, 2, 3, 4]"
      ]
     },
     "execution_count": 35,
     "metadata": {},
     "output_type": "execute_result"
    }
   ],
   "source": [
    "L1*3"
   ]
  },
  {
   "cell_type": "code",
   "execution_count": 37,
   "id": "f76b6406-57f4-48ef-a2ec-d8b1f8e14827",
   "metadata": {},
   "outputs": [
    {
     "name": "stdout",
     "output_type": "stream",
     "text": [
      "1\n",
      "2\n",
      "3\n",
      "4\n"
     ]
    }
   ],
   "source": [
    "#loops\n",
    "for i in L1:\n",
    "    print(i)"
   ]
  },
  {
   "cell_type": "code",
   "execution_count": 39,
   "id": "91249c07-90a7-42e5-ac9e-44625ad57e04",
   "metadata": {},
   "outputs": [
    {
     "data": {
      "text/plain": [
       "True"
      ]
     },
     "execution_count": 39,
     "metadata": {},
     "output_type": "execute_result"
    }
   ],
   "source": [
    "4 in L1"
   ]
  },
  {
   "cell_type": "code",
   "execution_count": 41,
   "id": "929d97ac-da42-4de6-8fb7-9b778f2c9aab",
   "metadata": {},
   "outputs": [
    {
     "data": {
      "text/plain": [
       "False"
      ]
     },
     "execution_count": 41,
     "metadata": {},
     "output_type": "execute_result"
    }
   ],
   "source": [
    "5 in L1"
   ]
  },
  {
   "cell_type": "markdown",
   "id": "0460dea1-954a-40b3-9d7c-ed2c0580211f",
   "metadata": {},
   "source": [
    "7. Functions\n",
    "\n",
    "len()\n",
    "\n",
    "min()\n",
    "\n",
    "max()\n",
    "\n",
    "sorted()"
   ]
  },
  {
   "cell_type": "code",
   "execution_count": 44,
   "id": "b08e448d-e665-4109-b108-23dae22e230a",
   "metadata": {},
   "outputs": [
    {
     "data": {
      "text/plain": [
       "4"
      ]
     },
     "execution_count": 44,
     "metadata": {},
     "output_type": "execute_result"
    }
   ],
   "source": [
    "len(L2)"
   ]
  },
  {
   "cell_type": "code",
   "execution_count": 46,
   "id": "045f50b5-d802-4bd1-b541-9d56aced9b5f",
   "metadata": {},
   "outputs": [
    {
     "data": {
      "text/plain": [
       "1"
      ]
     },
     "execution_count": 46,
     "metadata": {},
     "output_type": "execute_result"
    }
   ],
   "source": [
    "min(L1)"
   ]
  },
  {
   "cell_type": "code",
   "execution_count": 48,
   "id": "e206f71e-7d1c-41a1-a88e-11d6e4d0d00e",
   "metadata": {},
   "outputs": [
    {
     "data": {
      "text/plain": [
       "4"
      ]
     },
     "execution_count": 48,
     "metadata": {},
     "output_type": "execute_result"
    }
   ],
   "source": [
    "max(L1)"
   ]
  },
  {
   "cell_type": "code",
   "execution_count": 50,
   "id": "42fb56ba-3b5f-4355-a124-ee818e26fb59",
   "metadata": {},
   "outputs": [
    {
     "data": {
      "text/plain": [
       "8"
      ]
     },
     "execution_count": 50,
     "metadata": {},
     "output_type": "execute_result"
    }
   ],
   "source": [
    "max(L2)"
   ]
  },
  {
   "cell_type": "code",
   "execution_count": 54,
   "id": "56a3e294-cddc-4f22-b23e-9a9d99c0c040",
   "metadata": {},
   "outputs": [
    {
     "data": {
      "text/plain": [
       "[8, 7, 6, 5]"
      ]
     },
     "execution_count": 54,
     "metadata": {},
     "output_type": "execute_result"
    }
   ],
   "source": [
    "sorted(L2, reverse=True)"
   ]
  },
  {
   "cell_type": "code",
   "execution_count": 62,
   "id": "c3c594fd-38ab-4023-a89f-6594deae92e4",
   "metadata": {},
   "outputs": [
    {
     "data": {
      "text/plain": [
       "[4, 3, 2, 1]"
      ]
     },
     "execution_count": 62,
     "metadata": {},
     "output_type": "execute_result"
    }
   ],
   "source": [
    "L1.sort(reverse=True)\n",
    "L1"
   ]
  },
  {
   "cell_type": "code",
   "execution_count": 66,
   "id": "c721d727-41a8-45d1-a38f-63f13de213e9",
   "metadata": {},
   "outputs": [
    {
     "data": {
      "text/plain": [
       "[1, 2, 4, 5, 6, 7, 3, 3, 3, 4, 6]"
      ]
     },
     "execution_count": 66,
     "metadata": {},
     "output_type": "execute_result"
    }
   ],
   "source": [
    "#count\n",
    "L1=[1,2,4,5,6,7,3,3,3,4,6]\n",
    "L1"
   ]
  },
  {
   "cell_type": "code",
   "execution_count": 68,
   "id": "0c598a1a-a9cb-4ab5-ac4c-c62ec4e6ad7b",
   "metadata": {},
   "outputs": [
    {
     "data": {
      "text/plain": [
       "3"
      ]
     },
     "execution_count": 68,
     "metadata": {},
     "output_type": "execute_result"
    }
   ],
   "source": [
    "L1.count(3)"
   ]
  },
  {
   "cell_type": "code",
   "execution_count": 70,
   "id": "83534f85-af12-4376-83da-84d98bfbd74d",
   "metadata": {},
   "outputs": [
    {
     "data": {
      "text/plain": [
       "6"
      ]
     },
     "execution_count": 70,
     "metadata": {},
     "output_type": "execute_result"
    }
   ],
   "source": [
    "#index\n",
    "L1.index(3)"
   ]
  },
  {
   "cell_type": "code",
   "execution_count": null,
   "id": "6ef40fde-130c-4b1f-b0e3-a7e2822402be",
   "metadata": {},
   "outputs": [],
   "source": []
  }
 ],
 "metadata": {
  "kernelspec": {
   "display_name": "Python [conda env:base] *",
   "language": "python",
   "name": "conda-base-py"
  },
  "language_info": {
   "codemirror_mode": {
    "name": "ipython",
    "version": 3
   },
   "file_extension": ".py",
   "mimetype": "text/x-python",
   "name": "python",
   "nbconvert_exporter": "python",
   "pygments_lexer": "ipython3",
   "version": "3.12.7"
  }
 },
 "nbformat": 4,
 "nbformat_minor": 5
}

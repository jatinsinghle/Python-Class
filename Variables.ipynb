{
 "cells": [
  {
   "cell_type": "markdown",
   "id": "f090aad6-1b21-410b-8d7c-db8748ee1b0c",
   "metadata": {},
   "source": [
    "Variables"
   ]
  },
  {
   "cell_type": "code",
   "execution_count": 2,
   "id": "e46c5921-24fc-433c-978c-5c18f554d8ee",
   "metadata": {},
   "outputs": [],
   "source": [
    "name=4.5"
   ]
  },
  {
   "cell_type": "code",
   "execution_count": 4,
   "id": "6d7458d5-df0a-40db-b2ca-4bc49a91060e",
   "metadata": {},
   "outputs": [
    {
     "name": "stdout",
     "output_type": "stream",
     "text": [
      "4.5\n"
     ]
    }
   ],
   "source": [
    "print(name)"
   ]
  },
  {
   "cell_type": "code",
   "execution_count": 6,
   "id": "0ca04f68-9deb-4ef5-97d2-7cbd5d3a12d5",
   "metadata": {},
   "outputs": [
    {
     "name": "stdout",
     "output_type": "stream",
     "text": [
      "<class 'float'>\n"
     ]
    }
   ],
   "source": [
    "print(type(name))"
   ]
  },
  {
   "cell_type": "code",
   "execution_count": 8,
   "id": "e1f62ba7-ea4f-450e-a892-36f15e79d5b9",
   "metadata": {},
   "outputs": [],
   "source": [
    "c = (2,3, 2.5, True)"
   ]
  },
  {
   "cell_type": "code",
   "execution_count": 10,
   "id": "c99be418-e86c-46db-984d-2e7f4af35e2c",
   "metadata": {},
   "outputs": [
    {
     "name": "stdout",
     "output_type": "stream",
     "text": [
      "(2, 3, 2.5, True)\n"
     ]
    }
   ],
   "source": [
    "print(c)"
   ]
  },
  {
   "cell_type": "code",
   "execution_count": 12,
   "id": "9c142e99-37d3-49cd-9198-ee9cbe7952c5",
   "metadata": {},
   "outputs": [
    {
     "data": {
      "text/plain": [
       "tuple"
      ]
     },
     "execution_count": 12,
     "metadata": {},
     "output_type": "execute_result"
    }
   ],
   "source": [
    "type(c)"
   ]
  },
  {
   "cell_type": "code",
   "execution_count": 14,
   "id": "c6dd9a8d-1579-49e9-8112-d06df4d9e987",
   "metadata": {},
   "outputs": [],
   "source": [
    "name = ('Rahul', 'Jatin', 'Sachin', 'Rajat')"
   ]
  },
  {
   "cell_type": "code",
   "execution_count": 16,
   "id": "0661ff91-d015-4eb3-a5ba-9d674e798b34",
   "metadata": {},
   "outputs": [
    {
     "name": "stdout",
     "output_type": "stream",
     "text": [
      "('Rahul', 'Jatin', 'Sachin', 'Rajat')\n"
     ]
    }
   ],
   "source": [
    "print(name)"
   ]
  },
  {
   "cell_type": "code",
   "execution_count": 18,
   "id": "217baf0a-d071-456b-92fc-df4d5df58356",
   "metadata": {},
   "outputs": [
    {
     "data": {
      "text/plain": [
       "tuple"
      ]
     },
     "execution_count": 18,
     "metadata": {},
     "output_type": "execute_result"
    }
   ],
   "source": [
    "type(name)"
   ]
  },
  {
   "cell_type": "code",
   "execution_count": 22,
   "id": "69a29e08-f99b-4d79-93b3-bb3cc6bae1b1",
   "metadata": {},
   "outputs": [],
   "source": [
    "name='Jatin'"
   ]
  },
  {
   "cell_type": "code",
   "execution_count": 24,
   "id": "1394b68e-7a4b-40c5-98d3-112fb6ca3524",
   "metadata": {},
   "outputs": [
    {
     "name": "stdout",
     "output_type": "stream",
     "text": [
      "Jatin\n"
     ]
    }
   ],
   "source": [
    "print(name)"
   ]
  },
  {
   "cell_type": "code",
   "execution_count": 26,
   "id": "80aef9d1-8052-4a02-be4b-958524bf2194",
   "metadata": {},
   "outputs": [
    {
     "data": {
      "text/plain": [
       "str"
      ]
     },
     "execution_count": 26,
     "metadata": {},
     "output_type": "execute_result"
    }
   ],
   "source": [
    "type(name)"
   ]
  },
  {
   "cell_type": "code",
   "execution_count": 28,
   "id": "7277926c-75c6-413e-a6ac-f3b80c551c87",
   "metadata": {},
   "outputs": [],
   "source": [
    "a=1+5j"
   ]
  },
  {
   "cell_type": "code",
   "execution_count": 30,
   "id": "9e4f9ba1-9550-488d-9949-e06ab613cd95",
   "metadata": {},
   "outputs": [
    {
     "data": {
      "text/plain": [
       "complex"
      ]
     },
     "execution_count": 30,
     "metadata": {},
     "output_type": "execute_result"
    }
   ],
   "source": [
    "type(a)"
   ]
  },
  {
   "cell_type": "code",
   "execution_count": 32,
   "id": "af4add2b-706b-4c8e-9e89-2cf9909a7415",
   "metadata": {},
   "outputs": [],
   "source": [
    "b=True"
   ]
  },
  {
   "cell_type": "code",
   "execution_count": 44,
   "id": "ce60c6af-9064-4f5e-8061-e6dba4d30aaa",
   "metadata": {},
   "outputs": [
    {
     "data": {
      "text/plain": [
       "1"
      ]
     },
     "execution_count": 44,
     "metadata": {},
     "output_type": "execute_result"
    }
   ],
   "source": [
    "True+False #value of true=1 and value of false=0"
   ]
  },
  {
   "cell_type": "code",
   "execution_count": 54,
   "id": "636404bc-4d67-4e09-ba67-f5dd76c93759",
   "metadata": {},
   "outputs": [
    {
     "data": {
      "text/plain": [
       "bool"
      ]
     },
     "execution_count": 54,
     "metadata": {},
     "output_type": "execute_result"
    }
   ],
   "source": [
    "type(b)"
   ]
  },
  {
   "cell_type": "code",
   "execution_count": 46,
   "id": "6600a6b9-b086-413d-96e1-a1a06dab2c1e",
   "metadata": {},
   "outputs": [],
   "source": [
    "c=('True', 2, 4.5,)"
   ]
  },
  {
   "cell_type": "code",
   "execution_count": 50,
   "id": "402099c2-2b7f-4cc2-a520-620984da259c",
   "metadata": {},
   "outputs": [
    {
     "name": "stdout",
     "output_type": "stream",
     "text": [
      "('True', 2, 4.5)\n"
     ]
    }
   ],
   "source": [
    "print(c)"
   ]
  },
  {
   "cell_type": "code",
   "execution_count": 52,
   "id": "0b002b81-d50b-4524-b4a2-07aa9daf21ec",
   "metadata": {},
   "outputs": [
    {
     "name": "stdout",
     "output_type": "stream",
     "text": [
      "<class 'tuple'>\n"
     ]
    }
   ],
   "source": [
    "print(type(c))"
   ]
  },
  {
   "cell_type": "code",
   "execution_count": 56,
   "id": "d5c75936-04c5-463c-b55d-78d0d80a109b",
   "metadata": {},
   "outputs": [],
   "source": [
    "d=('rahul', 2, 4.6, False)"
   ]
  },
  {
   "cell_type": "code",
   "execution_count": 58,
   "id": "8e70a616-8e94-49ff-944c-fcdbf5466f2e",
   "metadata": {},
   "outputs": [
    {
     "name": "stdout",
     "output_type": "stream",
     "text": [
      "('rahul', 2, 4.6, False)\n"
     ]
    }
   ],
   "source": [
    "print(d)"
   ]
  },
  {
   "cell_type": "code",
   "execution_count": 60,
   "id": "fb56b644-29ef-4701-a943-2cc185984fbf",
   "metadata": {},
   "outputs": [
    {
     "name": "stdout",
     "output_type": "stream",
     "text": [
      "<class 'tuple'>\n"
     ]
    }
   ],
   "source": [
    "print(type(d))"
   ]
  },
  {
   "cell_type": "code",
   "execution_count": 62,
   "id": "444cb55f-d0ad-42f5-93f1-42f0cee9502b",
   "metadata": {},
   "outputs": [],
   "source": [
    "#today i learn about datatypes-(Basic)\n",
    "#int\n",
    "#float\n",
    "#complex\n",
    "#boolean\n",
    "#(Container)\n",
    "#list\n",
    "#set\n",
    "#tuple\n",
    "#string\n",
    "#Also i have learn variables-\n",
    "#"
   ]
  }
 ],
 "metadata": {
  "kernelspec": {
   "display_name": "Python [conda env:base] *",
   "language": "python",
   "name": "conda-base-py"
  },
  "language_info": {
   "codemirror_mode": {
    "name": "ipython",
    "version": 3
   },
   "file_extension": ".py",
   "mimetype": "text/x-python",
   "name": "python",
   "nbconvert_exporter": "python",
   "pygments_lexer": "ipython3",
   "version": "3.12.7"
  }
 },
 "nbformat": 4,
 "nbformat_minor": 5
}

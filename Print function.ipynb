{
 "cells": [
  {
   "cell_type": "markdown",
   "id": "a4da1942-80cf-437c-b2b7-4d99df258a40",
   "metadata": {},
   "source": [
    "print function"
   ]
  },
  {
   "cell_type": "code",
   "execution_count": 2,
   "id": "bd40ef79-9f13-4c4c-ae86-50d009f4b1df",
   "metadata": {},
   "outputs": [
    {
     "name": "stdout",
     "output_type": "stream",
     "text": [
      "hello world\n"
     ]
    }
   ],
   "source": [
    "print(\"hello world\")"
   ]
  },
  {
   "cell_type": "code",
   "execution_count": 6,
   "id": "659b7218-3f90-4f8a-8f95-bd292f1f5c40",
   "metadata": {},
   "outputs": [
    {
     "name": "stdout",
     "output_type": "stream",
     "text": [
      "255 4.5 ram\n"
     ]
    }
   ],
   "source": [
    "print(255, 4.5, \"ram\")"
   ]
  },
  {
   "cell_type": "code",
   "execution_count": 8,
   "id": "0c58aa81-3a46-49fa-bc7e-ffb392f7d1f6",
   "metadata": {},
   "outputs": [
    {
     "name": "stdout",
     "output_type": "stream",
     "text": [
      "255\n"
     ]
    }
   ],
   "source": [
    "print(\"255\")"
   ]
  },
  {
   "cell_type": "code",
   "execution_count": 10,
   "id": "b9fec980-761d-4bd2-9bce-638a7e354253",
   "metadata": {},
   "outputs": [],
   "source": [
    "a=255"
   ]
  },
  {
   "cell_type": "code",
   "execution_count": 12,
   "id": "cb8b4459-a752-489c-a584-9f84f527e1c9",
   "metadata": {},
   "outputs": [
    {
     "name": "stdout",
     "output_type": "stream",
     "text": [
      "255\n"
     ]
    }
   ],
   "source": [
    "print(a)"
   ]
  },
  {
   "cell_type": "code",
   "execution_count": 14,
   "id": "e304805f-ed66-4b6e-b0ac-8c1102ad7cdc",
   "metadata": {},
   "outputs": [
    {
     "data": {
      "text/plain": [
       "int"
      ]
     },
     "execution_count": 14,
     "metadata": {},
     "output_type": "execute_result"
    }
   ],
   "source": [
    "type(a)"
   ]
  },
  {
   "cell_type": "code",
   "execution_count": 16,
   "id": "a159b936-3c35-4bfb-9b88-7497aabf083e",
   "metadata": {},
   "outputs": [],
   "source": [
    "b='255'"
   ]
  },
  {
   "cell_type": "code",
   "execution_count": 18,
   "id": "496bc73c-2f80-4581-98b9-cd2a66e34594",
   "metadata": {},
   "outputs": [
    {
     "name": "stdout",
     "output_type": "stream",
     "text": [
      "255\n"
     ]
    }
   ],
   "source": [
    "print(b)"
   ]
  },
  {
   "cell_type": "code",
   "execution_count": 20,
   "id": "3b90f57a-c1c1-4adf-8d5b-a202d02a3627",
   "metadata": {},
   "outputs": [
    {
     "data": {
      "text/plain": [
       "str"
      ]
     },
     "execution_count": 20,
     "metadata": {},
     "output_type": "execute_result"
    }
   ],
   "source": [
    "type(b)"
   ]
  },
  {
   "cell_type": "code",
   "execution_count": 26,
   "id": "edc1795a-56d1-4ae5-b107-74aeca4910bc",
   "metadata": {},
   "outputs": [
    {
     "name": "stdout",
     "output_type": "stream",
     "text": [
      "Ram shyam\n"
     ]
    }
   ],
   "source": [
    "print('Ram', 'shyam')"
   ]
  },
  {
   "cell_type": "code",
   "execution_count": 28,
   "id": "37b516c8-0d4a-4648-a45b-e87a337ff9f7",
   "metadata": {},
   "outputs": [
    {
     "name": "stdout",
     "output_type": "stream",
     "text": [
      "Ram/shyam\n"
     ]
    }
   ],
   "source": [
    "print('Ram', 'shyam', sep='/')"
   ]
  },
  {
   "cell_type": "code",
   "execution_count": 30,
   "id": "34dc5996-e639-41a6-a452-bd3a90c7f4ef",
   "metadata": {},
   "outputs": [
    {
     "name": "stdout",
     "output_type": "stream",
     "text": [
      "Monday=Tuesday=Wednesday=Thrusday=Frisay=Saturday=Sunday\n"
     ]
    }
   ],
   "source": [
    "print('Monday', 'Tuesday', 'Wednesday', 'Thrusday', 'Frisay', 'Saturday', 'Sunday', sep='=')"
   ]
  },
  {
   "cell_type": "code",
   "execution_count": 32,
   "id": "71ad8eb3-4504-4fcf-bce2-44822a20ebda",
   "metadata": {},
   "outputs": [
    {
     "name": "stdout",
     "output_type": "stream",
     "text": [
      "Monday+Tuesday+Wednesday+Thrusday+Frisay+Saturday+Sunday\n"
     ]
    }
   ],
   "source": [
    "print('Monday', 'Tuesday', 'Wednesday', 'Thrusday', 'Frisay', 'Saturday', 'Sunday', sep='+')"
   ]
  },
  {
   "cell_type": "code",
   "execution_count": 34,
   "id": "46991e2e-0c4b-4715-a034-1082ac931fb0",
   "metadata": {},
   "outputs": [
    {
     "name": "stdout",
     "output_type": "stream",
     "text": [
      "Monday/Tuesday/Wednesday/Thrusday/Frisay/Saturday/Sunday\n"
     ]
    }
   ],
   "source": [
    "print('Monday', 'Tuesday', 'Wednesday', 'Thrusday', 'Frisay', 'Saturday', 'Sunday', sep='/')"
   ]
  },
  {
   "cell_type": "code",
   "execution_count": 36,
   "id": "35e3a3ea-9ee0-47a2-ad25-de24d3d89b8c",
   "metadata": {},
   "outputs": [
    {
     "name": "stdout",
     "output_type": "stream",
     "text": [
      "hello\n",
      "world\n"
     ]
    }
   ],
   "source": [
    "print('hello')\n",
    "print('world')"
   ]
  },
  {
   "cell_type": "code",
   "execution_count": 38,
   "id": "d5a6eacb-c7ce-425e-8dde-134203f71a6b",
   "metadata": {},
   "outputs": [
    {
     "name": "stdout",
     "output_type": "stream",
     "text": [
      "helloworld\n"
     ]
    }
   ],
   "source": [
    "print('hello', end='')\n",
    "print('world')"
   ]
  },
  {
   "cell_type": "code",
   "execution_count": null,
   "id": "efc1300a-e447-47c3-94cc-81807fe9a144",
   "metadata": {},
   "outputs": [],
   "source": []
  }
 ],
 "metadata": {
  "kernelspec": {
   "display_name": "Python [conda env:base] *",
   "language": "python",
   "name": "conda-base-py"
  },
  "language_info": {
   "codemirror_mode": {
    "name": "ipython",
    "version": 3
   },
   "file_extension": ".py",
   "mimetype": "text/x-python",
   "name": "python",
   "nbconvert_exporter": "python",
   "pygments_lexer": "ipython3",
   "version": "3.12.7"
  }
 },
 "nbformat": 4,
 "nbformat_minor": 5
}

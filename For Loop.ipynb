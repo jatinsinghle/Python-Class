{
 "cells": [
  {
   "cell_type": "markdown",
   "id": "b1198a7a-836c-4783-9648-1f71e7aaf561",
   "metadata": {},
   "source": [
    "For Loop"
   ]
  },
  {
   "cell_type": "code",
   "execution_count": 2,
   "id": "c810a27e-7636-4c0d-a706-f773a7af4165",
   "metadata": {},
   "outputs": [],
   "source": [
    "#tuple\n",
    "tuple=(1,2,3,4,5)"
   ]
  },
  {
   "cell_type": "code",
   "execution_count": 4,
   "id": "a3bfff0e-261c-4b0a-a870-83f0d8085e51",
   "metadata": {},
   "outputs": [
    {
     "data": {
      "text/plain": [
       "(1, 2, 3, 4, 5)"
      ]
     },
     "execution_count": 4,
     "metadata": {},
     "output_type": "execute_result"
    }
   ],
   "source": [
    "tuple"
   ]
  },
  {
   "cell_type": "code",
   "execution_count": 6,
   "id": "f9006b55-968a-4396-8616-52959808343d",
   "metadata": {},
   "outputs": [
    {
     "name": "stdout",
     "output_type": "stream",
     "text": [
      "1\n",
      "2\n",
      "3\n",
      "4\n",
      "5\n"
     ]
    }
   ],
   "source": [
    "for i in tuple:\n",
    "    print(i)"
   ]
  },
  {
   "cell_type": "code",
   "execution_count": 14,
   "id": "208d134d-22bf-4787-bd30-4435203714ae",
   "metadata": {},
   "outputs": [],
   "source": [
    "#list\n",
    "list=[2,4,6,8,10]"
   ]
  },
  {
   "cell_type": "code",
   "execution_count": 16,
   "id": "957b00f2-f79b-46ea-a877-84ee3e424bd2",
   "metadata": {},
   "outputs": [
    {
     "data": {
      "text/plain": [
       "[2, 4, 6, 8, 10]"
      ]
     },
     "execution_count": 16,
     "metadata": {},
     "output_type": "execute_result"
    }
   ],
   "source": [
    "list\n"
   ]
  },
  {
   "cell_type": "code",
   "execution_count": 18,
   "id": "2d4efb69-e2b1-4c87-b896-b13350b8f44c",
   "metadata": {},
   "outputs": [
    {
     "name": "stdout",
     "output_type": "stream",
     "text": [
      "2\n",
      "4\n",
      "6\n",
      "8\n",
      "10\n"
     ]
    }
   ],
   "source": [
    "for i in list:\n",
    "    print(i)"
   ]
  },
  {
   "cell_type": "code",
   "execution_count": 20,
   "id": "51caacfc-1a66-4487-b94c-c56e2c1a289a",
   "metadata": {},
   "outputs": [],
   "source": [
    "Group=(35, 4.5, 'Jatin', 5+4j)"
   ]
  },
  {
   "cell_type": "code",
   "execution_count": 22,
   "id": "742a573c-56cd-47e6-9f26-ded38dba3c63",
   "metadata": {},
   "outputs": [
    {
     "data": {
      "text/plain": [
       "(35, 4.5, 'Jatin', (5+4j))"
      ]
     },
     "execution_count": 22,
     "metadata": {},
     "output_type": "execute_result"
    }
   ],
   "source": [
    "Group"
   ]
  },
  {
   "cell_type": "code",
   "execution_count": 24,
   "id": "13c7e8e8-1d21-4464-bab5-0d7b07b5657c",
   "metadata": {},
   "outputs": [
    {
     "name": "stdout",
     "output_type": "stream",
     "text": [
      "35\n",
      "4.5\n",
      "Jatin\n",
      "(5+4j)\n"
     ]
    }
   ],
   "source": [
    "for i in Group:\n",
    "    print(i)"
   ]
  },
  {
   "cell_type": "code",
   "execution_count": 26,
   "id": "b1c3ac46-8a7f-4392-9fa8-00a566193e11",
   "metadata": {},
   "outputs": [],
   "source": [
    "list=(25,30,33,40,50, 60, 70, 80, 90,)"
   ]
  },
  {
   "cell_type": "code",
   "execution_count": 28,
   "id": "df33b702-f0f3-4af4-99ca-e8e66431261c",
   "metadata": {},
   "outputs": [
    {
     "data": {
      "text/plain": [
       "(25, 30, 33, 40, 50, 60, 70, 80, 90)"
      ]
     },
     "execution_count": 28,
     "metadata": {},
     "output_type": "execute_result"
    }
   ],
   "source": [
    "list"
   ]
  },
  {
   "cell_type": "code",
   "execution_count": 30,
   "id": "5651e8e3-1c9a-425c-a7e4-db9fe6512a98",
   "metadata": {},
   "outputs": [
    {
     "name": "stdout",
     "output_type": "stream",
     "text": [
      "25\n",
      "30\n",
      "33\n",
      "40\n",
      "50\n",
      "60\n",
      "70\n",
      "80\n",
      "90\n"
     ]
    }
   ],
   "source": [
    "for x in list:\n",
    "    print(x)"
   ]
  },
  {
   "cell_type": "markdown",
   "id": "12720bde-4aa2-4b6d-b6a2-54480427950b",
   "metadata": {},
   "source": [
    "Range Function\n",
    "\n"
   ]
  },
  {
   "cell_type": "code",
   "execution_count": 34,
   "id": "7c9311a6-80b4-47c8-b347-bfa5e31453f3",
   "metadata": {},
   "outputs": [
    {
     "name": "stdout",
     "output_type": "stream",
     "text": [
      "0\n",
      "1\n",
      "2\n",
      "3\n",
      "4\n",
      "5\n",
      "6\n",
      "7\n",
      "8\n",
      "9\n"
     ]
    }
   ],
   "source": [
    "for i in range(10):\n",
    "    print(i)"
   ]
  },
  {
   "cell_type": "code",
   "execution_count": 36,
   "id": "cba3807e-ece3-4253-a0dc-2353e5682309",
   "metadata": {},
   "outputs": [
    {
     "name": "stdout",
     "output_type": "stream",
     "text": [
      "11\n",
      "12\n",
      "13\n",
      "14\n",
      "15\n",
      "16\n",
      "17\n",
      "18\n",
      "19\n",
      "20\n",
      "21\n",
      "22\n",
      "23\n",
      "24\n",
      "25\n",
      "26\n",
      "27\n",
      "28\n",
      "29\n",
      "30\n",
      "31\n",
      "32\n",
      "33\n",
      "34\n",
      "35\n",
      "36\n",
      "37\n",
      "38\n",
      "39\n",
      "40\n",
      "41\n",
      "42\n",
      "43\n",
      "44\n",
      "45\n",
      "46\n",
      "47\n",
      "48\n",
      "49\n",
      "50\n"
     ]
    }
   ],
   "source": [
    "for i in range(11,51):\n",
    "    print(i)"
   ]
  },
  {
   "cell_type": "code",
   "execution_count": 48,
   "id": "1b7aba66-b4eb-4466-af38-007f797e512d",
   "metadata": {},
   "outputs": [
    {
     "name": "stdout",
     "output_type": "stream",
     "text": [
      "1\n",
      "3\n",
      "5\n",
      "7\n",
      "9\n",
      "11\n",
      "13\n",
      "15\n",
      "17\n",
      "19\n",
      "21\n",
      "23\n",
      "25\n",
      "27\n",
      "29\n",
      "31\n",
      "33\n",
      "35\n",
      "37\n",
      "39\n",
      "41\n",
      "43\n",
      "45\n",
      "47\n",
      "49\n"
     ]
    }
   ],
   "source": [
    "for i in range(1,50,2):\n",
    "    print(i)"
   ]
  },
  {
   "cell_type": "code",
   "execution_count": 40,
   "id": "a7a8cc8c-182b-4199-b58a-5766ae201ad5",
   "metadata": {},
   "outputs": [
    {
     "name": "stdout",
     "output_type": "stream",
     "text": [
      "1\n",
      "4\n",
      "7\n",
      "10\n",
      "13\n",
      "16\n",
      "19\n"
     ]
    }
   ],
   "source": [
    "for i in range(1,21,3):\n",
    "    print(i)"
   ]
  },
  {
   "cell_type": "code",
   "execution_count": 44,
   "id": "f46678e5-f3ff-409d-b8fd-907891ee8691",
   "metadata": {},
   "outputs": [
    {
     "name": "stdout",
     "output_type": "stream",
     "text": [
      "1\n",
      "10000\n",
      "19999\n",
      "29998\n",
      "39997\n",
      "49996\n",
      "59995\n",
      "69994\n",
      "79993\n",
      "89992\n",
      "99991\n"
     ]
    }
   ],
   "source": [
    "for i in range(1,100000,9999):\n",
    "    print(i)\n"
   ]
  },
  {
   "cell_type": "code",
   "execution_count": 51,
   "id": "4013bbc8-00c7-48ea-80fb-2a34d678048d",
   "metadata": {},
   "outputs": [],
   "source": [
    "list=[1,2,3,4]"
   ]
  },
  {
   "cell_type": "code",
   "execution_count": 55,
   "id": "99094c4b-970e-4d76-a372-0def5b56f93b",
   "metadata": {},
   "outputs": [
    {
     "name": "stdout",
     "output_type": "stream",
     "text": [
      "this is three: 3\n"
     ]
    }
   ],
   "source": [
    "for i in list:\n",
    "    if i==3:\n",
    "        print(\"this is three:\" ,i)"
   ]
  },
  {
   "cell_type": "code",
   "execution_count": 57,
   "id": "ed0e5903-2e4a-4104-9ec9-eaaba31d11cd",
   "metadata": {},
   "outputs": [],
   "source": [
    "list=[2,4,6,8,10]"
   ]
  },
  {
   "cell_type": "code",
   "execution_count": 63,
   "id": "934fd8c5-7508-4543-aa09-7eb574bb9c8b",
   "metadata": {},
   "outputs": [
    {
     "name": "stdout",
     "output_type": "stream",
     "text": [
      "This is a even number 2\n",
      "This is a even number 4\n",
      "This is a even number 6\n",
      "This is a even number 8\n",
      "This is a even number 10\n"
     ]
    }
   ],
   "source": [
    "for a in list:\n",
    "    if a%2==0:\n",
    "        print('This is an even number', a)\n",
    "    "
   ]
  },
  {
   "cell_type": "code",
   "execution_count": 65,
   "id": "2c07ab9e-04c8-49f8-a491-4c87031c92f0",
   "metadata": {},
   "outputs": [],
   "source": [
    "list=[3,5,7,9,11,13]"
   ]
  },
  {
   "cell_type": "code",
   "execution_count": 69,
   "id": "828bf88c-9c9a-49e7-8199-47f1564cb550",
   "metadata": {},
   "outputs": [
    {
     "name": "stdout",
     "output_type": "stream",
     "text": [
      "This is Divide by 3 3\n",
      "This is Divide by 3 9\n"
     ]
    }
   ],
   "source": [
    "for b in list:\n",
    "    if b%3==0:\n",
    "        print('This is Divide by 3',b)"
   ]
  },
  {
   "cell_type": "code",
   "execution_count": 71,
   "id": "51e1197f-4569-4ce5-99a8-fcc6df716635",
   "metadata": {},
   "outputs": [],
   "source": [
    "tuple=(5,10,15,20,25,30,'jatin', 5+3j, 4.5, 3.7, True)"
   ]
  },
  {
   "cell_type": "code",
   "execution_count": 77,
   "id": "7bb326e1-eb2a-4b3a-ae93-807ae0dc9f33",
   "metadata": {},
   "outputs": [
    {
     "name": "stdout",
     "output_type": "stream",
     "text": [
      "integer 20\n"
     ]
    }
   ],
   "source": [
    "for c in tuple:\n",
    "    if c==20:\n",
    "        print('integer',c)"
   ]
  },
  {
   "cell_type": "code",
   "execution_count": 79,
   "id": "2be3dc04-d3be-4caa-81e0-da670909a5aa",
   "metadata": {},
   "outputs": [],
   "source": [
    "str=('jatin', 'Rahul')"
   ]
  },
  {
   "cell_type": "code",
   "execution_count": 81,
   "id": "32cdb7df-d05e-421e-9d30-00bd2c0c2bd1",
   "metadata": {},
   "outputs": [
    {
     "name": "stdout",
     "output_type": "stream",
     "text": [
      "jatin\n",
      "Rahul\n"
     ]
    }
   ],
   "source": [
    "for i in str:\n",
    "    print(i)"
   ]
  },
  {
   "cell_type": "code",
   "execution_count": 83,
   "id": "5a15cc39-f16e-4027-8ee0-991447d1a613",
   "metadata": {},
   "outputs": [],
   "source": [
    "name=['Jatin', 'sam', 'Tom', 'Peter', 'Thomas']"
   ]
  },
  {
   "cell_type": "code",
   "execution_count": 85,
   "id": "e8b918e1-969c-4c30-98e8-84da5c96b2dd",
   "metadata": {},
   "outputs": [
    {
     "name": "stdout",
     "output_type": "stream",
     "text": [
      "Jatin\n",
      "sam\n",
      "Tom\n",
      "Peter\n",
      "Thomas\n"
     ]
    }
   ],
   "source": [
    "for i in name:\n",
    "    print(i)"
   ]
  },
  {
   "cell_type": "code",
   "execution_count": 102,
   "id": "95951d30-7c66-4a83-8671-2a9b65c44224",
   "metadata": {},
   "outputs": [],
   "source": [
    "for i in name:\n",
    "    if i=='Peter':\n",
    "        continue\n",
    "        print(i)\n"
   ]
  },
  {
   "cell_type": "code",
   "execution_count": null,
   "id": "935b3e4b-1142-451f-9e6f-c0762faf35e8",
   "metadata": {},
   "outputs": [],
   "source": []
  }
 ],
 "metadata": {
  "kernelspec": {
   "display_name": "Python [conda env:base] *",
   "language": "python",
   "name": "conda-base-py"
  },
  "language_info": {
   "codemirror_mode": {
    "name": "ipython",
    "version": 3
   },
   "file_extension": ".py",
   "mimetype": "text/x-python",
   "name": "python",
   "nbconvert_exporter": "python",
   "pygments_lexer": "ipython3",
   "version": "3.12.7"
  }
 },
 "nbformat": 4,
 "nbformat_minor": 5
}

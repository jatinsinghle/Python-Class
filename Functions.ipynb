{
 "cells": [
  {
   "cell_type": "markdown",
   "id": "f2bbb6d4-25cc-4387-ace9-d4fa0c9a884c",
   "metadata": {},
   "source": [
    "Functions:"
   ]
  },
  {
   "cell_type": "code",
   "execution_count": 82,
   "id": "189c2e35-ace6-4921-87fa-d8890ad3c69d",
   "metadata": {},
   "outputs": [
    {
     "ename": "TypeError",
     "evalue": "pow() missing required argument 'exp' (pos 2)",
     "output_type": "error",
     "traceback": [
      "\u001b[1;31m---------------------------------------------------------------------------\u001b[0m",
      "\u001b[1;31mTypeError\u001b[0m                                 Traceback (most recent call last)",
      "Cell \u001b[1;32mIn[82], line 1\u001b[0m\n\u001b[1;32m----> 1\u001b[0m \u001b[38;5;28mpow\u001b[39m(\u001b[38;5;241m2\u001b[39m)\n",
      "\u001b[1;31mTypeError\u001b[0m: pow() missing required argument 'exp' (pos 2)"
     ]
    }
   ],
   "source": [
    "pow(2)"
   ]
  },
  {
   "cell_type": "code",
   "execution_count": 84,
   "id": "ac9900d2-d8b3-4158-b264-56a8d57a7cc5",
   "metadata": {},
   "outputs": [
    {
     "data": {
      "text/plain": [
       "8"
      ]
     },
     "execution_count": 84,
     "metadata": {},
     "output_type": "execute_result"
    }
   ],
   "source": [
    "pow(2,3)"
   ]
  },
  {
   "cell_type": "raw",
   "id": "4f7f599f-be53-4128-8750-f480e562562a",
   "metadata": {},
   "source": [
    "def function_name(parameters):\n",
    "    \"\"\"docstring\"\"\"\n",
    "    statement(s)\n",
    "\n",
    "`def`       ---> Function start.\n",
    "Name        ---> Function identifier.\n",
    "Params      ---> Input values.\n",
    "Colon (`:`) ---> Ends header.\n",
    "Docstring   ---> Function description.\n",
    "Body        ---> Statements.\n",
    "`return`    ---> Output value (optional).\n",
    "\n",
    "function_name(values)"
   ]
  },
  {
   "cell_type": "code",
   "execution_count": 86,
   "id": "469dd6af-f520-4888-b607-c9055d4bf7e4",
   "metadata": {},
   "outputs": [],
   "source": [
    "# Check if number is even/odd\n",
    "def even(int):\n",
    "    \"\"\"\n",
    "    This function tells that a number is even or odd.\n",
    "    Input - any valid integer\n",
    "    Output - odd/even\n",
    "    Created By - Jatin kumar\n",
    "    Last edited - 24 Feb 2025\n",
    "    \"\"\"\n",
    "    if int % 2 ==0:\n",
    "        return \"Even\"\n",
    "    else:\n",
    "        return \"Odd\"\n",
    "    "
   ]
  },
  {
   "cell_type": "code",
   "execution_count": 100,
   "id": "2bf2c32c-6eeb-431e-962e-1bb4057352d2",
   "metadata": {},
   "outputs": [
    {
     "data": {
      "text/plain": [
       "'Odd'"
      ]
     },
     "execution_count": 100,
     "metadata": {},
     "output_type": "execute_result"
    }
   ],
   "source": [
    "even(97)"
   ]
  },
  {
   "cell_type": "code",
   "execution_count": 106,
   "id": "737dc9ed-709a-4902-9ab9-dd4eeaadeaee",
   "metadata": {},
   "outputs": [],
   "source": [
    "call=even(67)"
   ]
  },
  {
   "cell_type": "code",
   "execution_count": 108,
   "id": "b611bb3c-117a-44b1-b1ff-b6caeb0cd1ab",
   "metadata": {},
   "outputs": [
    {
     "data": {
      "text/plain": [
       "'Odd'"
      ]
     },
     "execution_count": 108,
     "metadata": {},
     "output_type": "execute_result"
    }
   ],
   "source": [
    "call"
   ]
  },
  {
   "cell_type": "code",
   "execution_count": 90,
   "id": "1285b403-856c-42e8-8d82-e97819898266",
   "metadata": {},
   "outputs": [],
   "source": [
    "# Check if number is even/odd\n",
    "def is_even(number):\n",
    "    \"\"\"\n",
    "    This function tells if a given number is odd or even\n",
    "    Input - any valid integer\n",
    "    Output - odd/even\n",
    "    Created By - jatin kumar\n",
    "    Last edited - 13 jan 2025\n",
    "    \"\"\" \n",
    "    if number % 2 == 0:\n",
    "        return \"Even\"\n",
    "    else:\n",
    "        return \"Odd\""
   ]
  },
  {
   "cell_type": "code",
   "execution_count": 92,
   "id": "7e8e42fd-459e-435b-befe-6eec3b3274d3",
   "metadata": {},
   "outputs": [
    {
     "data": {
      "text/plain": [
       "'Even'"
      ]
     },
     "execution_count": 92,
     "metadata": {},
     "output_type": "execute_result"
    }
   ],
   "source": [
    "is_even(10)"
   ]
  },
  {
   "cell_type": "code",
   "execution_count": 94,
   "id": "c4cf8227-ad66-4500-98ce-d6242c33454d",
   "metadata": {},
   "outputs": [],
   "source": [
    "call = is_even(5)"
   ]
  },
  {
   "cell_type": "code",
   "execution_count": 96,
   "id": "a288a793-7316-4500-8f95-cf1ba1a20448",
   "metadata": {},
   "outputs": [
    {
     "data": {
      "text/plain": [
       "'Odd'"
      ]
     },
     "execution_count": 96,
     "metadata": {},
     "output_type": "execute_result"
    }
   ],
   "source": [
    "call"
   ]
  },
  {
   "cell_type": "code",
   "execution_count": 98,
   "id": "9e4fe0cc-1259-4eac-b7ae-dd6befe5a03e",
   "metadata": {},
   "outputs": [
    {
     "name": "stdout",
     "output_type": "stream",
     "text": [
      "Even\n",
      "Odd\n",
      "Even\n",
      "Odd\n",
      "Even\n",
      "Odd\n",
      "Even\n",
      "Odd\n",
      "Even\n",
      "Odd\n"
     ]
    }
   ],
   "source": [
    "for i in range(10):\n",
    "    print(is_even(i))"
   ]
  },
  {
   "cell_type": "code",
   "execution_count": 124,
   "id": "1d56fd26-6bd8-4f26-80ab-4ed08decfc18",
   "metadata": {},
   "outputs": [],
   "source": [
    "def add(x,y,z):\n",
    "    \"\"\"\n",
    "    This Function adds three numbers \n",
    "    \"\"\"\n",
    "    return x+y+z"
   ]
  },
  {
   "cell_type": "code",
   "execution_count": 126,
   "id": "0c6d5062-cea8-4522-9d7b-fbee65629e58",
   "metadata": {},
   "outputs": [
    {
     "data": {
      "text/plain": [
       "13"
      ]
     },
     "execution_count": 126,
     "metadata": {},
     "output_type": "execute_result"
    }
   ],
   "source": [
    "add(1,4,8)"
   ]
  },
  {
   "cell_type": "code",
   "execution_count": 130,
   "id": "6002bd6b-2cd5-469b-975e-a08964b2bcc7",
   "metadata": {},
   "outputs": [
    {
     "data": {
      "text/plain": [
       "24"
      ]
     },
     "execution_count": 130,
     "metadata": {},
     "output_type": "execute_result"
    }
   ],
   "source": [
    "add(7,8,9,)"
   ]
  },
  {
   "cell_type": "code",
   "execution_count": 24,
   "id": "175963b2-00d2-481d-b613-f95abcbb0fd9",
   "metadata": {},
   "outputs": [],
   "source": [
    "#simple\n",
    "def add(x,y):#function design time parameter\n",
    "    return x+y\n",
    "    "
   ]
  },
  {
   "cell_type": "code",
   "execution_count": 26,
   "id": "0bd376f8-4bd7-47c5-b457-db281095f199",
   "metadata": {},
   "outputs": [
    {
     "data": {
      "text/plain": [
       "12"
      ]
     },
     "execution_count": 26,
     "metadata": {},
     "output_type": "execute_result"
    }
   ],
   "source": [
    "add(10,2)#arguments"
   ]
  },
  {
   "cell_type": "code",
   "execution_count": 30,
   "id": "3de24ecc-e550-4357-a69f-bfb8a0878bc5",
   "metadata": {},
   "outputs": [
    {
     "data": {
      "text/plain": [
       "3"
      ]
     },
     "execution_count": 30,
     "metadata": {},
     "output_type": "execute_result"
    }
   ],
   "source": [
    "add(1,2)"
   ]
  },
  {
   "cell_type": "code",
   "execution_count": 36,
   "id": "1ccd6745-c59e-4e3c-85e4-665b71c7abad",
   "metadata": {},
   "outputs": [
    {
     "data": {
      "text/plain": [
       "7"
      ]
     },
     "execution_count": 36,
     "metadata": {},
     "output_type": "execute_result"
    }
   ],
   "source": [
    "add( 5,2)"
   ]
  },
  {
   "cell_type": "code",
   "execution_count": 38,
   "id": "f865a538-c03f-4e55-839a-ecd9865966c9",
   "metadata": {},
   "outputs": [
    {
     "ename": "TypeError",
     "evalue": "add() missing 1 required positional argument: 'y'",
     "output_type": "error",
     "traceback": [
      "\u001b[1;31m---------------------------------------------------------------------------\u001b[0m",
      "\u001b[1;31mTypeError\u001b[0m                                 Traceback (most recent call last)",
      "Cell \u001b[1;32mIn[38], line 1\u001b[0m\n\u001b[1;32m----> 1\u001b[0m add(\u001b[38;5;241m1\u001b[39m)\n",
      "\u001b[1;31mTypeError\u001b[0m: add() missing 1 required positional argument: 'y'"
     ]
    }
   ],
   "source": [
    "add(1)"
   ]
  },
  {
   "cell_type": "markdown",
   "id": "60832c67-81ec-43b6-8bc9-d8bf8ac917d4",
   "metadata": {},
   "source": [
    "Parameters Vs Arguments\n",
    "\n",
    "Parameters:\n",
    "\n",
    "Vars in () during func definition..\n",
    "\n",
    "Defined in func declaration.\n",
    "\n",
    "def func(param1, param2):\n",
    " # Body\n",
    "Arguments:\n",
    "\n",
    "Values passed at func call.\n",
    "\n",
    "Inputs during function invocation.\n",
    "\n",
    "func(arg1, arg2)\n",
    "1. Default Argument\n",
    "\n",
    "2. Positional Argument\n",
    "\n",
    "3. Keyword Argument\n",
    "\n",
    "*4. Arbitrary Argument (*args)*"
   ]
  },
  {
   "cell_type": "code",
   "execution_count": 148,
   "id": "b1b152e8-492c-4c8f-944e-a62d26f5f1a3",
   "metadata": {},
   "outputs": [],
   "source": [
    "def add(x=1,y=1):#function design time parameter\n",
    "    return x+y"
   ]
  },
  {
   "cell_type": "code",
   "execution_count": 150,
   "id": "39e2f4c4-7c50-49b8-ad62-ea1497352549",
   "metadata": {},
   "outputs": [
    {
     "data": {
      "text/plain": [
       "2"
      ]
     },
     "execution_count": 150,
     "metadata": {},
     "output_type": "execute_result"
    }
   ],
   "source": [
    "add()"
   ]
  },
  {
   "cell_type": "code",
   "execution_count": 158,
   "id": "5c32a6ba-74c0-4d33-96e0-3fb790bf3b61",
   "metadata": {},
   "outputs": [
    {
     "data": {
      "text/plain": [
       "100"
      ]
     },
     "execution_count": 158,
     "metadata": {},
     "output_type": "execute_result"
    }
   ],
   "source": [
    "add(99)"
   ]
  },
  {
   "cell_type": "code",
   "execution_count": 174,
   "id": "29ef528f-2f32-45ae-b7a5-81bab17a86d8",
   "metadata": {},
   "outputs": [],
   "source": [
    "def power(a=1,b=1):\n",
    "    return a**b"
   ]
  },
  {
   "cell_type": "code",
   "execution_count": 176,
   "id": "61dd8850-fa7b-4282-a0c9-cf0b45aaa6b9",
   "metadata": {},
   "outputs": [
    {
     "data": {
      "text/plain": [
       "8"
      ]
     },
     "execution_count": 176,
     "metadata": {},
     "output_type": "execute_result"
    }
   ],
   "source": [
    "power(2,3)"
   ]
  },
  {
   "cell_type": "code",
   "execution_count": 178,
   "id": "c21624ae-331e-4746-a347-8eb4a7581fe8",
   "metadata": {},
   "outputs": [
    {
     "data": {
      "text/plain": [
       "2"
      ]
     },
     "execution_count": 178,
     "metadata": {},
     "output_type": "execute_result"
    }
   ],
   "source": [
    "power(2)"
   ]
  },
  {
   "cell_type": "code",
   "execution_count": 205,
   "id": "1d13d5f6-ee7b-40a0-bd1c-4beff6d24d54",
   "metadata": {},
   "outputs": [],
   "source": [
    "# Arbitrary Argument: Accepts any number of args.\n",
    "# Useful when the number of arguments is unknown.\n",
    "def flexi(*number):\n",
    "    product = 1\n",
    "    for i in number:\n",
    "        product *= i\n",
    "    print(product)"
   ]
  },
  {
   "cell_type": "markdown",
   "id": "b79c8715-9b88-4dbf-b417-70e2ea2fb03b",
   "metadata": {},
   "source": [
    "*args and **kwargs\n",
    "*args: Variable-length positional arguments.\n",
    "\n",
    "def func(*args)\n",
    "**kwargs: Variable-length keyword arguments.\n",
    "\n",
    "def func(**kwargs)"
   ]
  },
  {
   "cell_type": "code",
   "execution_count": 212,
   "id": "c8258286-e977-481a-b523-dca2b212c12c",
   "metadata": {},
   "outputs": [
    {
     "ename": "IndentationError",
     "evalue": "unindent does not match any outer indentation level (<string>, line 7)",
     "output_type": "error",
     "traceback": [
      "\u001b[1;36m  File \u001b[1;32m<string>:7\u001b[1;36m\u001b[0m\n\u001b[1;33m    print(kwargs)\u001b[0m\n\u001b[1;37m                 ^\u001b[0m\n\u001b[1;31mIndentationError\u001b[0m\u001b[1;31m:\u001b[0m unindent does not match any outer indentation level\n"
     ]
    }
   ],
   "source": [
    "# *args\n",
    "# Pass variable non-keyword args to func\n",
    "def multiply(*kwargs):\n",
    "    product=1\n",
    "    for i in kwargs:\n",
    "     product *= i\n",
    "  print(kwargs)\n",
    "  return product"
   ]
  },
  {
   "cell_type": "code",
   "execution_count": 214,
   "id": "d0ed204f-49f0-4a66-8673-0f1f971fe8ef",
   "metadata": {},
   "outputs": [],
   "source": [
    "# *args\n",
    "# Pass variable non-keyword args to func\n",
    "def multiply(*kwargs):\n",
    "  product = 1\n",
    "  for i in kwargs:\n",
    "    product *= i\n",
    "  print(kwargs)\n",
    "  return product"
   ]
  },
  {
   "cell_type": "code",
   "execution_count": 216,
   "id": "0bf0c5b2-cdfa-457f-bdd3-fdc14912896c",
   "metadata": {},
   "outputs": [
    {
     "name": "stdout",
     "output_type": "stream",
     "text": [
      "(5, 4)\n"
     ]
    },
    {
     "data": {
      "text/plain": [
       "20"
      ]
     },
     "execution_count": 216,
     "metadata": {},
     "output_type": "execute_result"
    }
   ],
   "source": [
    "multiply(5,4)"
   ]
  },
  {
   "cell_type": "code",
   "execution_count": null,
   "id": "d7a0c12c-2886-4512-82d4-0d41a3d23908",
   "metadata": {},
   "outputs": [],
   "source": []
  }
 ],
 "metadata": {
  "kernelspec": {
   "display_name": "Python [conda env:base] *",
   "language": "python",
   "name": "conda-base-py"
  },
  "language_info": {
   "codemirror_mode": {
    "name": "ipython",
    "version": 3
   },
   "file_extension": ".py",
   "mimetype": "text/x-python",
   "name": "python",
   "nbconvert_exporter": "python",
   "pygments_lexer": "ipython3",
   "version": "3.12.7"
  }
 },
 "nbformat": 4,
 "nbformat_minor": 5
}

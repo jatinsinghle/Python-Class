{
 "cells": [
  {
   "cell_type": "markdown",
   "id": "c8ff7671-1663-4b28-87de-021b3bc62a11",
   "metadata": {},
   "source": [
    "File I/O Basics\n",
    "\n",
    "Data Types:\n",
    "\n",
    "Text: Unicode chars (e.g., '12345' in UTF-8/ASCII)\n",
    "Binary: Raw bytes (e.g., number 12345)\n",
    "\n",
    "File Types:\n",
    "\n",
    "Text Files: Human-readable (e.g., source code, config files)\n",
    "Binary Files: Non-readable data (e.g., images, multimedia)\n",
    "Process:\n",
    "\n",
    "Open: Connects program to file\n",
    "\n",
    "Read/Write: Handles data based on type\n",
    "Close: Completes operations, frees resources\n"
   ]
  },
  {
   "cell_type": "markdown",
   "id": "fe2c65ce-ac74-4c7a-baf7-66eec6993041",
   "metadata": {},
   "source": [
    "writing to a File ---> `.txt` extension (Notepad)."
   ]
  },
  {
   "cell_type": "code",
   "execution_count": 18,
   "id": "fb41e0e8-6a61-4f99-8bcf-cf5e01e832eb",
   "metadata": {},
   "outputs": [],
   "source": [
    "# Case 1 - File Not Present\n",
    "f= open(\"jatin.txt\", \"w\")\n",
    "f.write(\"hi, how are you.\")\n",
    "f.close()"
   ]
  },
  {
   "cell_type": "code",
   "execution_count": 20,
   "id": "09491971-9c77-4a66-a1d1-ad45a0e6f05a",
   "metadata": {},
   "outputs": [
    {
     "ename": "ValueError",
     "evalue": "I/O operation on closed file.",
     "output_type": "error",
     "traceback": [
      "\u001b[1;31m---------------------------------------------------------------------------\u001b[0m",
      "\u001b[1;31mValueError\u001b[0m                                Traceback (most recent call last)",
      "Cell \u001b[1;32mIn[20], line 2\u001b[0m\n\u001b[0;32m      1\u001b[0m \u001b[38;5;66;03m#error: file closed\u001b[39;00m\n\u001b[1;32m----> 2\u001b[0m f\u001b[38;5;241m.\u001b[39mwrite(\u001b[38;5;124m\"\u001b[39m\u001b[38;5;124mhello\u001b[39m\u001b[38;5;124m\"\u001b[39m)\n",
      "\u001b[1;31mValueError\u001b[0m: I/O operation on closed file."
     ]
    }
   ],
   "source": [
    "#error: file closed\n",
    "f.write(\"hello\")"
   ]
  },
  {
   "cell_type": "code",
   "execution_count": 28,
   "id": "36055e2c-705d-4245-bb39-bfb3888c1df3",
   "metadata": {},
   "outputs": [],
   "source": [
    "#write multiple lines string\n",
    "x= open(\"jatin1.txt\", \"w\")\n",
    "x.write(\"Hello\")\n",
    "x.write(\"\\nworld\")\n",
    "x.close()"
   ]
  },
  {
   "cell_type": "code",
   "execution_count": 32,
   "id": "48250f9d-1fbe-4877-8ebb-d33f6a37fe03",
   "metadata": {},
   "outputs": [],
   "source": [
    "# Case 2 - File Overwrite in Write Mode ('w')\n",
    "x=open(\"jatin1.txt\", \"w\")\n",
    "x.write(\"JATIN\")\n",
    "x.close()\n",
    "# Note: Opening in 'w' mode replaces all existing content in 'jatin1.txt'."
   ]
  },
  {
   "cell_type": "markdown",
   "id": "71a11459-36e8-45c6-b6a1-fe97f5ac067a",
   "metadata": {},
   "source": [
    "How open() Works in Python\n",
    "Handles file I/O; interacts with disk files.\n",
    "\n",
    "Example: f = open('sample.txt', 'w') - opens 'sample.txt' in write mode.\n",
    "\n",
    "File Access & RAM Interaction: File loaded from disk (ROM) to RAM buffer.\n",
    "\n",
    "File Operations & Modes: Modes (e.g., 'w' for write) determine file interactions (f.write('salman khan') writes to RAM).\n",
    "\n",
    "Data Integrity: f.close() saves buffer changes back to disk."
   ]
  },
  {
   "cell_type": "markdown",
   "id": "6f7c3260-cfd8-481e-9b1e-fd6a5a388525",
   "metadata": {},
   "source": [
    "`open()`  ---> File in RAM.\n",
    "\n",
    "`write()` ---> Modify RAM buffer.\n",
    "\n",
    "`close()` ---> Save to disk."
   ]
  },
  {
   "cell_type": "code",
   "execution_count": 44,
   "id": "ba0316ca-216c-4f44-a468-d3d50c772a94",
   "metadata": {},
   "outputs": [],
   "source": [
    "# Problem with 'w' mode ---> Overwrites file content.\n",
    "# To preserves existing content, use 'a' mode (append).\n",
    "x= open(\"jatin1.txt\", \"a\")\n",
    "x.write(\"\\nHow Are you?\")\n",
    "x.close()"
   ]
  },
  {
   "cell_type": "code",
   "execution_count": 46,
   "id": "90425f2f-ff2d-430a-96e0-699f2f6dafbc",
   "metadata": {},
   "outputs": [],
   "source": [
    "# Write Multiple Lines to a File\n",
    "L = ['hello\\n','hi\\n','how are you\\n', 'I am fine']\n",
    "x=open(\"jatin1.txt\", 'w')\n",
    "x.writelines(L)#for write multiple lines\n",
    "x.close()"
   ]
  },
  {
   "cell_type": "markdown",
   "id": "7cd62737-a8cf-41a0-b204-e2c79668d545",
   "metadata": {},
   "source": [
    "When you use f.close() to close a file, it serves two main purposes:\n",
    "\n",
    "1.Memory Management:\n",
    "\n",
    "Releases RAM resources.\n",
    "Crucial for large/multiple files.\n",
    "\n",
    "2.Security:\n",
    "\n",
    "Closes file buffers.\n",
    "Prevents unauthorized access.\n",
    "Always use f.close() after file operations; Manages memory & security.\n",
    "\n",
    "Reading from Files\n",
    "\n",
    "read(): Reads all content into a single string. Efficient for small files.\n",
    "\n",
    "Pros: Simple. Cons: Memory-heavy for large files.\n",
    "\n",
    "readline(): Reads one line at a time. Good for large files and sequential processing.\n",
    "\n",
    "Pros: Memory-efficient. Cons: Slower for full content access."
   ]
  },
  {
   "cell_type": "code",
   "execution_count": 59,
   "id": "bcef16f6-6816-439f-a03e-53c579ba4acc",
   "metadata": {},
   "outputs": [
    {
     "name": "stdout",
     "output_type": "stream",
     "text": [
      "hello\n",
      "hi\n",
      "how are you\n",
      "I am fine\n"
     ]
    }
   ],
   "source": [
    "# `read()` Usage\n",
    "x=open(\"jatin1.txt\", \"r\")\n",
    "a=x.read()\n",
    "print(a)\n",
    "x.close()"
   ]
  },
  {
   "cell_type": "code",
   "execution_count": 63,
   "id": "99cf81ac-f79b-4724-b94d-dcf5c8aeed7e",
   "metadata": {},
   "outputs": [
    {
     "name": "stdout",
     "output_type": "stream",
     "text": [
      "hello\n",
      "\n"
     ]
    }
   ],
   "source": [
    "x=open(\"jatin1.txt\", \"r\")\n",
    "a=x.read(6)\n",
    "print(a)"
   ]
  },
  {
   "cell_type": "markdown",
   "id": "f55c4b5e-ec3a-4dda-b902-a51da5481d49",
   "metadata": {},
   "source": [
    "Context Manager (with)\n",
    "Efficient resource management (e.g., files).\n",
    "\n",
    "with ensures auto cleanup, no manual file close needed.\n",
    "\n",
    "Purpose of with Statement\n",
    "\n",
    "File Management: Handles file operations (read/write).\n",
    "Resource Release: Auto-closes files, freeing system resources.\n",
    "Avoids\n",
    "\n",
    "Memory Leaks: Manual closure prevents leaks\n",
    "File Locking: Prevents locking issues\n",
    "\n",
    "Benefits:\n",
    "\n",
    "Automated Cleanup: Ensures auto-closure of files\n",
    "Exception Handling: Closes files if exceptions occur\n",
    "Readability: Clarifies file access scopes\n",
    "Reliability: Reduces bugs, ensures robust resource management"
   ]
  },
  {
   "cell_type": "code",
   "execution_count": 9,
   "id": "82976f8f-6720-4c95-b72a-eb095219e150",
   "metadata": {},
   "outputs": [],
   "source": [
    "with open(\"jatin1.txt\", \"w\") as f:\n",
    "    f.write(\"hi, \\nhow are you? \\nI'm Jatin\")"
   ]
  },
  {
   "cell_type": "code",
   "execution_count": null,
   "id": "7dc05d22-6417-4eba-b7e3-fc8461c9134e",
   "metadata": {},
   "outputs": [],
   "source": []
  }
 ],
 "metadata": {
  "kernelspec": {
   "display_name": "Python [conda env:base] *",
   "language": "python",
   "name": "conda-base-py"
  },
  "language_info": {
   "codemirror_mode": {
    "name": "ipython",
    "version": 3
   },
   "file_extension": ".py",
   "mimetype": "text/x-python",
   "name": "python",
   "nbconvert_exporter": "python",
   "pygments_lexer": "ipython3",
   "version": "3.12.7"
  }
 },
 "nbformat": 4,
 "nbformat_minor": 5
}

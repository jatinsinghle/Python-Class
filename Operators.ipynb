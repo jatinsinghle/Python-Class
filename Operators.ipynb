{
 "cells": [
  {
   "cell_type": "markdown",
   "id": "c154c35e-ff33-4b94-a86f-d506683b88f9",
   "metadata": {},
   "source": [
    "Operator"
   ]
  },
  {
   "cell_type": "markdown",
   "id": "50356e93-97c2-42df-b574-50d7264baeff",
   "metadata": {},
   "source": [
    "Arithmetic Operator\n",
    "# =, +, -, *, //, **"
   ]
  },
  {
   "cell_type": "code",
   "execution_count": 4,
   "id": "7ac85f0e-ced1-4532-a823-9c70e5ab0a86",
   "metadata": {},
   "outputs": [],
   "source": [
    "x=4\n",
    "y=5"
   ]
  },
  {
   "cell_type": "code",
   "execution_count": 6,
   "id": "ebf1b4e9-95ca-4ff0-a4f6-63f287275573",
   "metadata": {},
   "outputs": [
    {
     "name": "stdout",
     "output_type": "stream",
     "text": [
      "9\n"
     ]
    }
   ],
   "source": [
    "print(x+y)"
   ]
  },
  {
   "cell_type": "code",
   "execution_count": 8,
   "id": "72c96821-59de-4e0b-9432-dd464fa086ae",
   "metadata": {},
   "outputs": [
    {
     "name": "stdout",
     "output_type": "stream",
     "text": [
      "-1\n"
     ]
    }
   ],
   "source": [
    "print(x-y)"
   ]
  },
  {
   "cell_type": "code",
   "execution_count": 10,
   "id": "a80b0f93-170f-4cdd-9079-402c0065ce2a",
   "metadata": {},
   "outputs": [
    {
     "name": "stdout",
     "output_type": "stream",
     "text": [
      "0.8\n"
     ]
    }
   ],
   "source": [
    "print(x/y)"
   ]
  },
  {
   "cell_type": "code",
   "execution_count": 12,
   "id": "1e4a1cda-1914-4d00-89ef-7ea072831f1a",
   "metadata": {},
   "outputs": [
    {
     "name": "stdout",
     "output_type": "stream",
     "text": [
      "20\n"
     ]
    }
   ],
   "source": [
    "print(x*y)"
   ]
  },
  {
   "cell_type": "code",
   "execution_count": 14,
   "id": "0393b6b5-caac-41f6-9121-5fdf2696302b",
   "metadata": {},
   "outputs": [
    {
     "name": "stdout",
     "output_type": "stream",
     "text": [
      "0\n"
     ]
    }
   ],
   "source": [
    "print(x//y)"
   ]
  },
  {
   "cell_type": "code",
   "execution_count": 16,
   "id": "b8ddb187-cca9-4976-bcee-05e53ca4c738",
   "metadata": {},
   "outputs": [
    {
     "name": "stdout",
     "output_type": "stream",
     "text": [
      "1024\n"
     ]
    }
   ],
   "source": [
    "print(x**y)"
   ]
  },
  {
   "cell_type": "code",
   "execution_count": 36,
   "id": "cab62efd-751f-467a-ad5d-6cd9c288e7e3",
   "metadata": {},
   "outputs": [],
   "source": [
    "x = 2\n",
    "y = 5"
   ]
  },
  {
   "cell_type": "code",
   "execution_count": 38,
   "id": "8e517198-eb61-4814-8175-0b1632d22b39",
   "metadata": {},
   "outputs": [
    {
     "data": {
      "text/plain": [
       "10"
      ]
     },
     "execution_count": 38,
     "metadata": {},
     "output_type": "execute_result"
    }
   ],
   "source": [
    "x*y"
   ]
  },
  {
   "cell_type": "code",
   "execution_count": 40,
   "id": "853ead20-69d4-4a0e-a8ad-07fe5ef8c2f3",
   "metadata": {},
   "outputs": [
    {
     "data": {
      "text/plain": [
       "32"
      ]
     },
     "execution_count": 40,
     "metadata": {},
     "output_type": "execute_result"
    }
   ],
   "source": [
    "x**y"
   ]
  },
  {
   "cell_type": "markdown",
   "id": "dfac2276-8170-4630-b784-a32ff94d07a9",
   "metadata": {},
   "source": [
    "Comparison Operator\n",
    "# ==, !=, <, >, >=, <="
   ]
  },
  {
   "cell_type": "code",
   "execution_count": 44,
   "id": "dbef1510-268a-4577-877d-154e635c2e9d",
   "metadata": {},
   "outputs": [],
   "source": [
    "x = 3\n",
    "y=4"
   ]
  },
  {
   "cell_type": "code",
   "execution_count": 46,
   "id": "c6fe1b9d-dc4f-4081-969c-9d24b92de587",
   "metadata": {},
   "outputs": [
    {
     "name": "stdout",
     "output_type": "stream",
     "text": [
      "False\n"
     ]
    }
   ],
   "source": [
    "print(x==y)"
   ]
  },
  {
   "cell_type": "code",
   "execution_count": 48,
   "id": "fa14360b-23a1-4851-856b-e0f8cd3d1d60",
   "metadata": {},
   "outputs": [
    {
     "name": "stdout",
     "output_type": "stream",
     "text": [
      "True\n"
     ]
    }
   ],
   "source": [
    "print(x!=y)"
   ]
  },
  {
   "cell_type": "code",
   "execution_count": 50,
   "id": "98f9d775-0ab6-43c2-90dd-e3db2789a0bd",
   "metadata": {},
   "outputs": [
    {
     "name": "stdout",
     "output_type": "stream",
     "text": [
      "True\n"
     ]
    }
   ],
   "source": [
    "print(x<y)"
   ]
  },
  {
   "cell_type": "code",
   "execution_count": 52,
   "id": "96922891-4b87-4d9d-afde-0aeba9c8cec8",
   "metadata": {},
   "outputs": [
    {
     "name": "stdout",
     "output_type": "stream",
     "text": [
      "False\n"
     ]
    }
   ],
   "source": [
    "print(x>y)"
   ]
  },
  {
   "cell_type": "code",
   "execution_count": 54,
   "id": "24449910-ab76-4ad6-9fbc-d6a00b60fed3",
   "metadata": {},
   "outputs": [
    {
     "name": "stdout",
     "output_type": "stream",
     "text": [
      "False\n"
     ]
    }
   ],
   "source": [
    "print(x>=y)"
   ]
  },
  {
   "cell_type": "code",
   "execution_count": 56,
   "id": "3cc5f650-b0ce-4d1c-9ed1-89139d0fe3a9",
   "metadata": {},
   "outputs": [
    {
     "name": "stdout",
     "output_type": "stream",
     "text": [
      "True\n"
     ]
    }
   ],
   "source": [
    "print(x<=y)"
   ]
  },
  {
   "cell_type": "code",
   "execution_count": 59,
   "id": "15aa499f-b351-4a98-b64f-30d2cb0d63f0",
   "metadata": {},
   "outputs": [],
   "source": [
    "#Questions-"
   ]
  },
  {
   "cell_type": "code",
   "execution_count": 63,
   "id": "f52d26f7-f1e2-4e84-aab3-83f8951a87de",
   "metadata": {},
   "outputs": [],
   "source": [
    "x=5\n",
    "y=3"
   ]
  },
  {
   "cell_type": "code",
   "execution_count": 65,
   "id": "e8532ab9-3aa5-465e-a768-3bd51bc67998",
   "metadata": {},
   "outputs": [
    {
     "name": "stdout",
     "output_type": "stream",
     "text": [
      "8\n"
     ]
    }
   ],
   "source": [
    "print(x+y)"
   ]
  },
  {
   "cell_type": "code",
   "execution_count": 67,
   "id": "13d4756c-ea52-460e-b174-547c34e7b555",
   "metadata": {},
   "outputs": [],
   "source": [
    "x=456\n",
    "y=789"
   ]
  },
  {
   "cell_type": "code",
   "execution_count": 69,
   "id": "40987eb4-8f1d-49b0-b2b9-0d46c307949d",
   "metadata": {},
   "outputs": [
    {
     "name": "stdout",
     "output_type": "stream",
     "text": [
      "333\n"
     ]
    }
   ],
   "source": [
    "print(y-x)"
   ]
  },
  {
   "cell_type": "code",
   "execution_count": 71,
   "id": "3d1eea37-96aa-454c-a237-eef653cc9208",
   "metadata": {},
   "outputs": [],
   "source": [
    "x=15\n",
    "y=8"
   ]
  },
  {
   "cell_type": "code",
   "execution_count": 73,
   "id": "53528491-2500-47a4-80fe-546b7be5daf9",
   "metadata": {},
   "outputs": [
    {
     "name": "stdout",
     "output_type": "stream",
     "text": [
      "120\n"
     ]
    }
   ],
   "source": [
    "print(x*y)"
   ]
  },
  {
   "cell_type": "code",
   "execution_count": 75,
   "id": "b31fd386-8f90-499a-8ef7-c60a8d12c446",
   "metadata": {},
   "outputs": [],
   "source": [
    "x=225\n",
    "y=5"
   ]
  },
  {
   "cell_type": "code",
   "execution_count": 83,
   "id": "d9e4777f-a107-4ec6-b0f1-de1cd96ea017",
   "metadata": {},
   "outputs": [
    {
     "name": "stdout",
     "output_type": "stream",
     "text": [
      "45.0\n"
     ]
    }
   ],
   "source": [
    "print(x/y)"
   ]
  },
  {
   "cell_type": "code",
   "execution_count": 85,
   "id": "7a9d397d-4fed-4387-8119-3ad6f54687e5",
   "metadata": {},
   "outputs": [
    {
     "name": "stdout",
     "output_type": "stream",
     "text": [
      "7\n"
     ]
    }
   ],
   "source": [
    "print(50//7)"
   ]
  },
  {
   "cell_type": "code",
   "execution_count": 87,
   "id": "8b1cc087-1503-467a-ac8b-2e8aa6412442",
   "metadata": {},
   "outputs": [
    {
     "name": "stdout",
     "output_type": "stream",
     "text": [
      "-4\n"
     ]
    }
   ],
   "source": [
    "print((5+3)-12)"
   ]
  },
  {
   "cell_type": "code",
   "execution_count": 89,
   "id": "9f7cea18-cf36-40e1-bbfe-484b4168ae78",
   "metadata": {},
   "outputs": [
    {
     "name": "stdout",
     "output_type": "stream",
     "text": [
      "81\n"
     ]
    }
   ],
   "source": [
    "print(3**4)"
   ]
  },
  {
   "cell_type": "code",
   "execution_count": 91,
   "id": "579486eb-85a1-49d8-8c26-56c8f702da76",
   "metadata": {},
   "outputs": [
    {
     "name": "stdout",
     "output_type": "stream",
     "text": [
      "6\n"
     ]
    }
   ],
   "source": [
    "print(58//9)"
   ]
  },
  {
   "cell_type": "code",
   "execution_count": 97,
   "id": "11e75854-8858-4eea-aea4-a161410c0cf5",
   "metadata": {},
   "outputs": [],
   "source": [
    "a=4\n",
    "b=6\n",
    "c=a+b"
   ]
  },
  {
   "cell_type": "code",
   "execution_count": 99,
   "id": "da86b797-ef97-4a9b-a2e0-0e2f9f57c153",
   "metadata": {},
   "outputs": [
    {
     "name": "stdout",
     "output_type": "stream",
     "text": [
      "10\n"
     ]
    }
   ],
   "source": [
    "print(c)"
   ]
  },
  {
   "cell_type": "code",
   "execution_count": 105,
   "id": "a2f602c7-3c07-4a38-bacf-2940d112b3cc",
   "metadata": {},
   "outputs": [],
   "source": [
    "a=42\n",
    "b=24"
   ]
  },
  {
   "cell_type": "code",
   "execution_count": 107,
   "id": "1b6f02f0-a073-4fb3-a620-a4e7d4a523b6",
   "metadata": {},
   "outputs": [
    {
     "name": "stdout",
     "output_type": "stream",
     "text": [
      "True\n"
     ]
    }
   ],
   "source": [
    "print(a>b)"
   ]
  },
  {
   "cell_type": "code",
   "execution_count": 109,
   "id": "63430edb-872b-428c-94ca-d3582d380829",
   "metadata": {},
   "outputs": [],
   "source": [
    "a=65\n",
    "b=72"
   ]
  },
  {
   "cell_type": "code",
   "execution_count": 111,
   "id": "8c428ba7-92a2-4d8b-8dc3-d57b46a37dbf",
   "metadata": {},
   "outputs": [
    {
     "name": "stdout",
     "output_type": "stream",
     "text": [
      "True\n"
     ]
    }
   ],
   "source": [
    "print(a<b)"
   ]
  },
  {
   "cell_type": "code",
   "execution_count": 113,
   "id": "b26494ad-dbf2-4e8b-8341-fb69b4df8228",
   "metadata": {},
   "outputs": [],
   "source": [
    "a=15\n",
    "b=15.5"
   ]
  },
  {
   "cell_type": "code",
   "execution_count": 115,
   "id": "cce77d92-cd71-4def-91ef-618fb6434f8a",
   "metadata": {},
   "outputs": [
    {
     "name": "stdout",
     "output_type": "stream",
     "text": [
      "False\n"
     ]
    }
   ],
   "source": [
    "print(a==b)"
   ]
  },
  {
   "cell_type": "code",
   "execution_count": 121,
   "id": "d62a577f-e7fb-4c1a-9da0-be69f4ca79ea",
   "metadata": {},
   "outputs": [
    {
     "name": "stdout",
     "output_type": "stream",
     "text": [
      "False\n"
     ]
    }
   ],
   "source": [
    "print(100/10==9)"
   ]
  },
  {
   "cell_type": "markdown",
   "id": "fd2fa3ea-3eb7-4920-8fac-01c153887b67",
   "metadata": {},
   "source": [
    "Logical Operator\n",
    "and, or, not"
   ]
  },
  {
   "cell_type": "code",
   "execution_count": 128,
   "id": "e6d10c04-7d44-4dd1-b4fe-997d57114602",
   "metadata": {},
   "outputs": [],
   "source": [
    "x=22\n",
    "y=30\n",
    "z=30"
   ]
  },
  {
   "cell_type": "code",
   "execution_count": 132,
   "id": "616e568c-ae62-4b8e-9581-b675ee9ae346",
   "metadata": {},
   "outputs": [
    {
     "name": "stdout",
     "output_type": "stream",
     "text": [
      "False\n"
     ]
    }
   ],
   "source": [
    "print(x==y and y==z)"
   ]
  },
  {
   "cell_type": "code",
   "execution_count": 134,
   "id": "cd172f22-e595-4906-ad2c-43b37f2bbc13",
   "metadata": {},
   "outputs": [
    {
     "name": "stdout",
     "output_type": "stream",
     "text": [
      "False\n"
     ]
    }
   ],
   "source": [
    "print(x==z or x==y)"
   ]
  },
  {
   "cell_type": "code",
   "execution_count": 136,
   "id": "19e4a75f-ece3-4e7e-8840-f6ca5e8a6045",
   "metadata": {},
   "outputs": [
    {
     "name": "stdout",
     "output_type": "stream",
     "text": [
      "True\n"
     ]
    }
   ],
   "source": [
    "print(x==y or y==z)"
   ]
  },
  {
   "cell_type": "code",
   "execution_count": 138,
   "id": "33cb6808-b52e-4a66-a8f5-8d42e55be8b4",
   "metadata": {},
   "outputs": [],
   "source": [
    "num=14\n",
    "x=10\n",
    "y=20"
   ]
  },
  {
   "cell_type": "code",
   "execution_count": 142,
   "id": "ceebeea0-0377-4e48-afa3-e954e8970200",
   "metadata": {},
   "outputs": [
    {
     "name": "stdout",
     "output_type": "stream",
     "text": [
      "True\n"
     ]
    }
   ],
   "source": [
    "print(x<num and y>num)"
   ]
  },
  {
   "cell_type": "code",
   "execution_count": 158,
   "id": "b6ce4ebe-f7e8-49c6-8139-a6ddda1ff902",
   "metadata": {},
   "outputs": [],
   "source": [
    "num=55\n",
    "x=-50\n",
    "y=50"
   ]
  },
  {
   "cell_type": "code",
   "execution_count": 146,
   "id": "45443e63-69b3-4c70-8532-4ec3bd376dd2",
   "metadata": {},
   "outputs": [
    {
     "name": "stdout",
     "output_type": "stream",
     "text": [
      "True\n"
     ]
    }
   ],
   "source": [
    "print(num>x or num<y )"
   ]
  },
  {
   "cell_type": "code",
   "execution_count": 148,
   "id": "d5b1c318-78b5-45a2-bc2a-81c03ed803df",
   "metadata": {},
   "outputs": [],
   "source": [
    "num=10\n",
    "x=2\n",
    "y=5"
   ]
  },
  {
   "cell_type": "code",
   "execution_count": 152,
   "id": "d9e85f4c-bb80-44d6-af86-2825cb25c3fe",
   "metadata": {},
   "outputs": [
    {
     "name": "stdout",
     "output_type": "stream",
     "text": [
      "True\n"
     ]
    }
   ],
   "source": [
    "print(num%2==0 or num%5==0)"
   ]
  },
  {
   "cell_type": "code",
   "execution_count": 154,
   "id": "d7c5b760-b5a6-4b94-b940-4c2ef66e691b",
   "metadata": {},
   "outputs": [],
   "source": [
    "x=50\n",
    "y=30\n",
    "z=10"
   ]
  },
  {
   "cell_type": "code",
   "execution_count": 156,
   "id": "6a404ebc-bfe0-4e39-acbc-4dddc7ea8539",
   "metadata": {},
   "outputs": [
    {
     "name": "stdout",
     "output_type": "stream",
     "text": [
      "True\n"
     ]
    }
   ],
   "source": [
    "print(x>y and y>z)"
   ]
  },
  {
   "cell_type": "code",
   "execution_count": null,
   "id": "04e5150a-7111-4624-8694-dc46c2c47ec8",
   "metadata": {},
   "outputs": [],
   "source": []
  }
 ],
 "metadata": {
  "kernelspec": {
   "display_name": "Python [conda env:base] *",
   "language": "python",
   "name": "conda-base-py"
  },
  "language_info": {
   "codemirror_mode": {
    "name": "ipython",
    "version": 3
   },
   "file_extension": ".py",
   "mimetype": "text/x-python",
   "name": "python",
   "nbconvert_exporter": "python",
   "pygments_lexer": "ipython3",
   "version": "3.12.7"
  }
 },
 "nbformat": 4,
 "nbformat_minor": 5
}

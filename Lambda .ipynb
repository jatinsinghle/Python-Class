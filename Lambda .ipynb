{
 "cells": [
  {
   "cell_type": "markdown",
   "id": "b6b1d55b-89ff-4bdd-bda5-d53132f90bc6",
   "metadata": {},
   "source": [
    "Lambda Function"
   ]
  },
  {
   "cell_type": "markdown",
   "id": "588dc9da-62b6-4373-8014-fc51bc1f74a6",
   "metadata": {},
   "source": [
    "Anonymous functions.\n",
    "\n",
    "Single Expression Limit.\n",
    "\n",
    "Syntax: lambda args: expr\n",
    "\n",
    "Example: lambda a, b: a + b"
   ]
  },
  {
   "cell_type": "code",
   "execution_count": 7,
   "id": "8f094187-30ce-48fd-8cdb-0a0bb78cd906",
   "metadata": {},
   "outputs": [
    {
     "data": {
      "text/plain": [
       "20"
      ]
     },
     "execution_count": 7,
     "metadata": {},
     "output_type": "execute_result"
    }
   ],
   "source": [
    "a=lambda x: x*2\n",
    "a(10)"
   ]
  },
  {
   "cell_type": "code",
   "execution_count": 9,
   "id": "6c8bf166-50d1-4e21-9537-1cde7541c2d8",
   "metadata": {},
   "outputs": [],
   "source": [
    "b= lambda x, y: x+y "
   ]
  },
  {
   "cell_type": "code",
   "execution_count": 11,
   "id": "0dcfef42-8845-48be-903f-28b9a1127326",
   "metadata": {},
   "outputs": [
    {
     "data": {
      "text/plain": [
       "77"
      ]
     },
     "execution_count": 11,
     "metadata": {},
     "output_type": "execute_result"
    }
   ],
   "source": [
    "b(22,55)"
   ]
  },
  {
   "cell_type": "code",
   "execution_count": 11,
   "id": "7071aff1-ac5e-4c81-ae6b-0eabd82e7e25",
   "metadata": {},
   "outputs": [],
   "source": [
    "c= lambda x: x**2\n"
   ]
  },
  {
   "cell_type": "code",
   "execution_count": 13,
   "id": "88fe9240-92b8-4eeb-a7fd-2a0a29955f2f",
   "metadata": {},
   "outputs": [
    {
     "data": {
      "text/plain": [
       "484"
      ]
     },
     "execution_count": 13,
     "metadata": {},
     "output_type": "execute_result"
    }
   ],
   "source": [
    "c(22)"
   ]
  },
  {
   "cell_type": "markdown",
   "id": "857cc000-c379-4ab3-83e3-978421dc7a53",
   "metadata": {},
   "source": [
    "Lambda Function vs. Normal Function\n",
    "\n",
    "Lambda function:\n",
    "\n",
    "No return value.\n",
    "\n",
    "Written in Single-line.\n",
    "\n",
    "Not used for code reusability.\n",
    "\n",
    "Anonymous/No name.\n",
    "\n",
    "Normal function:\n",
    "\n",
    "Has a return value.\n",
    "\n",
    "Multi-line.\n",
    "\n",
    "Encourages code reusability via named functions."
   ]
  },
  {
   "cell_type": "code",
   "execution_count": 22,
   "id": "f8f34ced-3538-4616-9532-72805c749671",
   "metadata": {},
   "outputs": [],
   "source": [
    "def fn(n):\n",
    "    return lambda x: x*n"
   ]
  },
  {
   "cell_type": "code",
   "execution_count": 24,
   "id": "defa8b33-1bbf-4ace-91cf-3287e17fdc3d",
   "metadata": {},
   "outputs": [],
   "source": [
    "a=lambda x : x[1]=='a'"
   ]
  },
  {
   "cell_type": "code",
   "execution_count": 26,
   "id": "34e565e7-705d-4962-a54a-8b312a81ca89",
   "metadata": {},
   "outputs": [
    {
     "data": {
      "text/plain": [
       "True"
      ]
     },
     "execution_count": 26,
     "metadata": {},
     "output_type": "execute_result"
    }
   ],
   "source": [
    "a('jatin')"
   ]
  },
  {
   "cell_type": "code",
   "execution_count": 30,
   "id": "fcf676ce-e1ee-403d-aa56-cdbde2050f9b",
   "metadata": {},
   "outputs": [
    {
     "data": {
      "text/plain": [
       "False"
      ]
     },
     "execution_count": 30,
     "metadata": {},
     "output_type": "execute_result"
    }
   ],
   "source": [
    "a(\"shivam\")"
   ]
  },
  {
   "cell_type": "code",
   "execution_count": 32,
   "id": "6564f643-0b35-47c8-9cbe-8d2c8f50b943",
   "metadata": {},
   "outputs": [],
   "source": [
    "b= lambda x : \"even\" if x%2==0 else \"odd\""
   ]
  },
  {
   "cell_type": "code",
   "execution_count": 34,
   "id": "10e51e25-8612-401b-a02e-aba7d42da2d2",
   "metadata": {},
   "outputs": [
    {
     "data": {
      "text/plain": [
       "'even'"
      ]
     },
     "execution_count": 34,
     "metadata": {},
     "output_type": "execute_result"
    }
   ],
   "source": [
    "b(66)"
   ]
  },
  {
   "cell_type": "markdown",
   "id": "1681c90b-657b-42d3-8d5f-b3a4bffaf1e4",
   "metadata": {},
   "source": [
    "Higher-Order Functions\n",
    "\n",
    "Map\n",
    "\n",
    "Filter\n",
    "\n",
    "Reduce\n",
    "1. Map\n",
    "Applies a function to each item in iterable.\n",
    "\n",
    "Syntax:\n",
    "\n",
    "map(function, iterable)\n",
    "Returns an Iterator of results."
   ]
  },
  {
   "cell_type": "code",
   "execution_count": 1,
   "id": "d636169c-a320-426d-9cc4-8125be46f980",
   "metadata": {},
   "outputs": [
    {
     "data": {
      "text/plain": [
       "[1, 2, 3, 4, 5, 6, 7]"
      ]
     },
     "execution_count": 1,
     "metadata": {},
     "output_type": "execute_result"
    }
   ],
   "source": [
    "L = [1, 2, 3, 4, 5, 6, 7]\n",
    "L"
   ]
  },
  {
   "cell_type": "code",
   "execution_count": 3,
   "id": "e6a4488c-a2c1-4f36-83ca-adb14b135fd4",
   "metadata": {},
   "outputs": [
    {
     "data": {
      "text/plain": [
       "<map at 0x1b0e74a9f60>"
      ]
     },
     "execution_count": 3,
     "metadata": {},
     "output_type": "execute_result"
    }
   ],
   "source": [
    "map(lambda x:x*2, L )"
   ]
  },
  {
   "cell_type": "code",
   "execution_count": 17,
   "id": "881716c3-6b48-4a19-917a-18b15141eb77",
   "metadata": {},
   "outputs": [
    {
     "data": {
      "text/plain": [
       "[2, 4, 6, 8, 10, 12, 14]"
      ]
     },
     "execution_count": 17,
     "metadata": {},
     "output_type": "execute_result"
    }
   ],
   "source": [
    "list(map(lambda x: x*2,L))"
   ]
  },
  {
   "cell_type": "code",
   "execution_count": 13,
   "id": "ccbade47-d1f1-49f5-a8fe-23fe77796d8f",
   "metadata": {},
   "outputs": [
    {
     "data": {
      "text/plain": [
       "[False, True, False, True, False, True, False]"
      ]
     },
     "execution_count": 13,
     "metadata": {},
     "output_type": "execute_result"
    }
   ],
   "source": [
    "list (map(lambda x:x %2==0, L))"
   ]
  },
  {
   "cell_type": "code",
   "execution_count": 19,
   "id": "dede968a-a907-4c61-ad15-7a5a51d9527b",
   "metadata": {},
   "outputs": [],
   "source": [
    "students = [\n",
    "    {\n",
    "        \"name\" : \"Rahul\",\n",
    "        \"Father name\" : \"Jatin\",\n",
    "        \"Address\" : \"123 Hills Street\",\n",
    "    },{\n",
    "        \"name\" : \"chetan\",\n",
    "        \"Father name\" : \"Rahul\",\n",
    "        \"Address\" : \"3 Upper Street London\",\n",
    "    },{\n",
    "        \"name\" : \"Pawan\",\n",
    "        \"Father name\" : \"Shivam\",\n",
    "        \"Address\" : \"Unknown\",\n",
    "    }\n",
    "    \n",
    "]\n",
    "#list(map(lambda student : student[\"name\"], students))"
   ]
  },
  {
   "cell_type": "code",
   "execution_count": 23,
   "id": "dba3f7db-7e99-49ca-952a-31f092374c72",
   "metadata": {},
   "outputs": [
    {
     "data": {
      "text/plain": [
       "['Rahul', 'chetan', 'Pawan']"
      ]
     },
     "execution_count": 23,
     "metadata": {},
     "output_type": "execute_result"
    }
   ],
   "source": [
    "list(map(lambda Names:Names['name'], students))"
   ]
  },
  {
   "cell_type": "code",
   "execution_count": 25,
   "id": "88437508-5dad-4698-939d-2f0a8a79ec1a",
   "metadata": {},
   "outputs": [
    {
     "data": {
      "text/plain": [
       "['Jatin', 'Rahul', 'Shivam']"
      ]
     },
     "execution_count": 25,
     "metadata": {},
     "output_type": "execute_result"
    }
   ],
   "source": [
    "list(map(lambda Names:Names['Father name'], students))"
   ]
  },
  {
   "cell_type": "markdown",
   "id": "72695b60-e375-40b8-9237-e86eea63fe23",
   "metadata": {},
   "source": [
    "2. Filter\n",
    "\n",
    "Applies a function to sequence.\n",
    "\n",
    "Syntax:\n",
    "\n",
    "filter(function, sequence)\n",
    "Returns elements where function is True.\n",
    "\n"
   ]
  },
  {
   "cell_type": "code",
   "execution_count": 30,
   "id": "a6b56536-884e-4ee0-9291-2159de103bf8",
   "metadata": {},
   "outputs": [
    {
     "data": {
      "text/plain": [
       "[1, 2, 3, 4, 5, 6, 7]"
      ]
     },
     "execution_count": 30,
     "metadata": {},
     "output_type": "execute_result"
    }
   ],
   "source": [
    "L"
   ]
  },
  {
   "cell_type": "code",
   "execution_count": 32,
   "id": "f8d01dc8-8b49-43aa-83e9-9159f9eb77a2",
   "metadata": {},
   "outputs": [
    {
     "data": {
      "text/plain": [
       "[4, 5, 6, 7]"
      ]
     },
     "execution_count": 32,
     "metadata": {},
     "output_type": "execute_result"
    }
   ],
   "source": [
    "list(filter(lambda x:x>3, L))"
   ]
  },
  {
   "cell_type": "code",
   "execution_count": 34,
   "id": "6ab66618-7570-442e-88b5-4ed9cdd7303b",
   "metadata": {},
   "outputs": [],
   "source": [
    "Names= [\"Jatin\", \"RAhul\", \"Shivam\", \"Chetan\"]"
   ]
  },
  {
   "cell_type": "code",
   "execution_count": 38,
   "id": "3f3536db-7b21-43d3-b113-d504c5bf912b",
   "metadata": {},
   "outputs": [
    {
     "data": {
      "text/plain": [
       "['Jatin', 'Shivam']"
      ]
     },
     "execution_count": 38,
     "metadata": {},
     "output_type": "execute_result"
    }
   ],
   "source": [
    "list(filter(lambda Name: 'i' in Name, Names))"
   ]
  },
  {
   "cell_type": "code",
   "execution_count": 40,
   "id": "51c6fe02-4236-4bd6-8bc7-bb9c6ac54e7d",
   "metadata": {},
   "outputs": [
    {
     "data": {
      "text/plain": [
       "['Jatin', 'Shivam', 'Chetan']"
      ]
     },
     "execution_count": 40,
     "metadata": {},
     "output_type": "execute_result"
    }
   ],
   "source": [
    "list(filter(lambda Name: 'a' in Name, Names))"
   ]
  },
  {
   "cell_type": "markdown",
   "id": "78b52eb7-1a76-4944-8b87-6cab3177ef07",
   "metadata": {},
   "source": [
    "3. Reduce\n",
    "Reduces an iterable to a single value.\n",
    "\n",
    "Syntax:\n",
    "\n",
    "from functools import reduce\n",
    "reduce(function, iterable)\n",
    "Operates on pairs of elements until a single value remains.\n",
    "\n",
    "Useful for Cumulative Operations (e.g., sum, product)."
   ]
  },
  {
   "cell_type": "code",
   "execution_count": 52,
   "id": "60b24658-eb5a-478f-a131-8a3988ce6ecd",
   "metadata": {},
   "outputs": [],
   "source": [
    "import functools"
   ]
  },
  {
   "cell_type": "code",
   "execution_count": 54,
   "id": "9694438a-202d-4e64-8134-b148d1481741",
   "metadata": {},
   "outputs": [
    {
     "data": {
      "text/plain": [
       "[1, 2, 3, 4, 5, 6, 7]"
      ]
     },
     "execution_count": 54,
     "metadata": {},
     "output_type": "execute_result"
    }
   ],
   "source": [
    "L"
   ]
  },
  {
   "cell_type": "code",
   "execution_count": 56,
   "id": "d77e1231-97da-4ca1-ac77-50986230d940",
   "metadata": {},
   "outputs": [
    {
     "data": {
      "text/plain": [
       "28"
      ]
     },
     "execution_count": 56,
     "metadata": {},
     "output_type": "execute_result"
    }
   ],
   "source": [
    "functools.reduce(lambda x,y: x+y, L)"
   ]
  },
  {
   "cell_type": "code",
   "execution_count": 58,
   "id": "8b3e8e80-1191-45fa-a52e-09582a7cd3fe",
   "metadata": {},
   "outputs": [
    {
     "data": {
      "text/plain": [
       "[12, 34, 56, 11, 21, 58]"
      ]
     },
     "execution_count": 58,
     "metadata": {},
     "output_type": "execute_result"
    }
   ],
   "source": [
    "L1 = [12, 34, 56, 11, 21, 58]\n",
    "L1\n"
   ]
  },
  {
   "cell_type": "code",
   "execution_count": 62,
   "id": "74ac4040-8b20-4458-a6b3-647d3c989729",
   "metadata": {},
   "outputs": [
    {
     "data": {
      "text/plain": [
       "11"
      ]
     },
     "execution_count": 62,
     "metadata": {},
     "output_type": "execute_result"
    }
   ],
   "source": [
    "functools.reduce(lambda x, y : x if x<y else y, L1)"
   ]
  },
  {
   "cell_type": "code",
   "execution_count": 64,
   "id": "5c33109e-86c4-4f61-87ac-73826574af62",
   "metadata": {},
   "outputs": [
    {
     "data": {
      "text/plain": [
       "58"
      ]
     },
     "execution_count": 64,
     "metadata": {},
     "output_type": "execute_result"
    }
   ],
   "source": [
    "functools.reduce(lambda x, y : x if x>y else y, L1)"
   ]
  },
  {
   "cell_type": "code",
   "execution_count": null,
   "id": "32db3be5-797c-4af2-bece-6f1947629a15",
   "metadata": {},
   "outputs": [],
   "source": []
  }
 ],
 "metadata": {
  "kernelspec": {
   "display_name": "Python [conda env:base] *",
   "language": "python",
   "name": "conda-base-py"
  },
  "language_info": {
   "codemirror_mode": {
    "name": "ipython",
    "version": 3
   },
   "file_extension": ".py",
   "mimetype": "text/x-python",
   "name": "python",
   "nbconvert_exporter": "python",
   "pygments_lexer": "ipython3",
   "version": "3.12.7"
  }
 },
 "nbformat": 4,
 "nbformat_minor": 5
}

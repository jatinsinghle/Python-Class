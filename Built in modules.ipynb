{
 "cells": [
  {
   "cell_type": "markdown",
   "id": "035bd839-1a8f-4002-bd18-3b03a7fde517",
   "metadata": {},
   "source": [
    "Built in modules-"
   ]
  },
  {
   "cell_type": "markdown",
   "id": "952743db-f448-4829-979b-c0d0688732fe",
   "metadata": {},
   "source": [
    "What are Modules?\n",
    "Code libraries in Python.\n",
    "Contain functions for use.\n",
    "Examples:\n",
    "\n",
    "Math: Math ops\n",
    "\n",
    "Random: Random numbers\n",
    "\n",
    "os: OS interaction\n",
    "\n",
    "time: Time tasks"
   ]
  },
  {
   "cell_type": "code",
   "execution_count": 8,
   "id": "0799cb90-909a-4f6e-8bd5-ec1d476c3edd",
   "metadata": {},
   "outputs": [
    {
     "name": "stdout",
     "output_type": "stream",
     "text": [
      "['False', 'None', 'True', 'and', 'as', 'assert', 'async', 'await', 'break', 'class', 'continue', 'def', 'del', 'elif', 'else', 'except', 'finally', 'for', 'from', 'global', 'if', 'import', 'in', 'is', 'lambda', 'nonlocal', 'not', 'or', 'pass', 'raise', 'return', 'try', 'while', 'with', 'yield']\n"
     ]
    }
   ],
   "source": [
    "#keyword module\n",
    "import keyword\n",
    "print(keyword.kwlist)"
   ]
  },
  {
   "cell_type": "markdown",
   "id": "52801fba-1815-4429-bf52-34a8b95abb13",
   "metadata": {},
   "source": [
    "Math Module-\n"
   ]
  },
  {
   "cell_type": "code",
   "execution_count": 11,
   "id": "ebce147c-d13e-40a2-b191-65dddbf84af6",
   "metadata": {},
   "outputs": [],
   "source": [
    "#math modules\n",
    "import math\n"
   ]
  },
  {
   "cell_type": "code",
   "execution_count": 13,
   "id": "9306dc95-5318-44fd-bdde-c1309e58323c",
   "metadata": {},
   "outputs": [
    {
     "data": {
      "text/plain": [
       "3.141592653589793"
      ]
     },
     "execution_count": 13,
     "metadata": {},
     "output_type": "execute_result"
    }
   ],
   "source": [
    "math.pi"
   ]
  },
  {
   "cell_type": "code",
   "execution_count": 15,
   "id": "fced9eac-5f5e-4376-9257-47ce980dc4ea",
   "metadata": {},
   "outputs": [
    {
     "data": {
      "text/plain": [
       "2.718281828459045"
      ]
     },
     "execution_count": 15,
     "metadata": {},
     "output_type": "execute_result"
    }
   ],
   "source": [
    "math.e\n"
   ]
  },
  {
   "cell_type": "code",
   "execution_count": 19,
   "id": "e73bb663-7872-4861-859e-ba0cf17c91a2",
   "metadata": {},
   "outputs": [
    {
     "data": {
      "text/plain": [
       "24"
      ]
     },
     "execution_count": 19,
     "metadata": {},
     "output_type": "execute_result"
    }
   ],
   "source": [
    "math.factorial(4) #4*3*2*1"
   ]
  },
  {
   "cell_type": "code",
   "execution_count": 21,
   "id": "0b5392e5-d7b0-4285-9745-17b5978ab101",
   "metadata": {},
   "outputs": [
    {
     "data": {
      "text/plain": [
       "4"
      ]
     },
     "execution_count": 21,
     "metadata": {},
     "output_type": "execute_result"
    }
   ],
   "source": [
    "math.ceil(3.46)"
   ]
  },
  {
   "cell_type": "code",
   "execution_count": 23,
   "id": "249b0205-7e08-4cf3-8cdc-fb84be0131b8",
   "metadata": {},
   "outputs": [
    {
     "data": {
      "text/plain": [
       "3"
      ]
     },
     "execution_count": 23,
     "metadata": {},
     "output_type": "execute_result"
    }
   ],
   "source": [
    "math.floor(3.46)"
   ]
  },
  {
   "cell_type": "code",
   "execution_count": 25,
   "id": "52973f0f-3dfe-4e6e-afca-01c2f53fcb8a",
   "metadata": {},
   "outputs": [],
   "source": [
    "a=9.75"
   ]
  },
  {
   "cell_type": "code",
   "execution_count": 27,
   "id": "4adb3261-8f76-497c-8863-014b957334fe",
   "metadata": {},
   "outputs": [
    {
     "data": {
      "text/plain": [
       "10"
      ]
     },
     "execution_count": 27,
     "metadata": {},
     "output_type": "execute_result"
    }
   ],
   "source": [
    "math.ceil(a)"
   ]
  },
  {
   "cell_type": "code",
   "execution_count": 29,
   "id": "750df916-e274-465b-b417-eb2cf8d9019a",
   "metadata": {},
   "outputs": [
    {
     "data": {
      "text/plain": [
       "9"
      ]
     },
     "execution_count": 29,
     "metadata": {},
     "output_type": "execute_result"
    }
   ],
   "source": [
    "math.floor(a)"
   ]
  },
  {
   "cell_type": "markdown",
   "id": "df02a4c9-f99e-47a9-ac84-5e74df93f5f9",
   "metadata": {},
   "source": [
    "Random Module-"
   ]
  },
  {
   "cell_type": "code",
   "execution_count": 3,
   "id": "c1198cc8-6354-44e0-96b2-97d8269c7e58",
   "metadata": {},
   "outputs": [],
   "source": [
    "import random"
   ]
  },
  {
   "cell_type": "code",
   "execution_count": 5,
   "id": "5a73b7d3-f713-492c-a053-f5c84dbdf53d",
   "metadata": {},
   "outputs": [
    {
     "data": {
      "text/plain": [
       "82"
      ]
     },
     "execution_count": 5,
     "metadata": {},
     "output_type": "execute_result"
    }
   ],
   "source": [
    "#we get a random int \n",
    "random.randint(1,99) "
   ]
  },
  {
   "cell_type": "code",
   "execution_count": 7,
   "id": "2506d645-b159-4f17-9a19-6dde780e8b1f",
   "metadata": {},
   "outputs": [
    {
     "data": {
      "text/plain": [
       "61"
      ]
     },
     "execution_count": 7,
     "metadata": {},
     "output_type": "execute_result"
    }
   ],
   "source": [
    "random.randint(1,99)"
   ]
  },
  {
   "cell_type": "code",
   "execution_count": 15,
   "id": "beb2e20f-6a49-4a78-a070-fce2a3f5472d",
   "metadata": {},
   "outputs": [],
   "source": [
    "#it can shuffle the value of variable\n",
    "a = [1, 2, 3, 4, 5]"
   ]
  },
  {
   "cell_type": "code",
   "execution_count": 19,
   "id": "1c8885e4-e3b3-472c-8e23-cbcdcd70f004",
   "metadata": {},
   "outputs": [],
   "source": [
    "random.shuffle(a)"
   ]
  },
  {
   "cell_type": "code",
   "execution_count": 21,
   "id": "505e7873-14e8-41f3-8572-69391bfc4cbf",
   "metadata": {},
   "outputs": [
    {
     "data": {
      "text/plain": [
       "[4, 3, 2, 1, 5]"
      ]
     },
     "execution_count": 21,
     "metadata": {},
     "output_type": "execute_result"
    }
   ],
   "source": [
    "a"
   ]
  },
  {
   "cell_type": "markdown",
   "id": "c0864153-4b30-482d-a0f7-f01833478074",
   "metadata": {},
   "source": [
    "Time Module-"
   ]
  },
  {
   "cell_type": "code",
   "execution_count": 26,
   "id": "8311f6bc-bc37-47b3-97a3-e68732bb791e",
   "metadata": {},
   "outputs": [],
   "source": [
    "import time"
   ]
  },
  {
   "cell_type": "code",
   "execution_count": 32,
   "id": "d11c4796-0283-46ec-b5c9-74b40b1790bc",
   "metadata": {},
   "outputs": [
    {
     "data": {
      "text/plain": [
       "1738568591.083958"
      ]
     },
     "execution_count": 32,
     "metadata": {},
     "output_type": "execute_result"
    }
   ],
   "source": [
    "#current time in second \n",
    "time.time()"
   ]
  },
  {
   "cell_type": "code",
   "execution_count": 34,
   "id": "f8f13b52-9b9d-41cc-9745-e2e94204c9c2",
   "metadata": {},
   "outputs": [
    {
     "data": {
      "text/plain": [
       "'Sun Feb  2 23:43:27 2025'"
      ]
     },
     "execution_count": 34,
     "metadata": {},
     "output_type": "execute_result"
    }
   ],
   "source": [
    "#current time in string \n",
    "time.ctime()"
   ]
  },
  {
   "cell_type": "markdown",
   "id": "fa3f7f07-58b8-4d0a-9b18-6f01c52a5025",
   "metadata": {},
   "source": [
    "OS Module-\n"
   ]
  },
  {
   "cell_type": "code",
   "execution_count": 37,
   "id": "4253cb6e-908e-42c3-9f0d-09669d388d20",
   "metadata": {},
   "outputs": [],
   "source": [
    "import os"
   ]
  },
  {
   "cell_type": "code",
   "execution_count": 39,
   "id": "b835bd63-702a-4b46-a088-67b2e0e29f5c",
   "metadata": {},
   "outputs": [
    {
     "data": {
      "text/plain": [
       "'C:\\\\Users\\\\lenovo'"
      ]
     },
     "execution_count": 39,
     "metadata": {},
     "output_type": "execute_result"
    }
   ],
   "source": [
    "os.getcwd() # Current working dir"
   ]
  },
  {
   "cell_type": "code",
   "execution_count": 41,
   "id": "9c26e05f-3409-47d3-8a23-9b5faa9893ca",
   "metadata": {},
   "outputs": [
    {
     "data": {
      "text/plain": [
       "['.anaconda',\n",
       " '.conda',\n",
       " '.condarc',\n",
       " '.continuum',\n",
       " '.ipynb_checkpoints',\n",
       " '.ipython',\n",
       " '.jupyter',\n",
       " '.matplotlib',\n",
       " '.VirtualBox',\n",
       " '.virtual_documents',\n",
       " '3D Objects',\n",
       " 'anaconda3',\n",
       " 'AppData',\n",
       " 'Application Data',\n",
       " 'Built in Function.ipynb',\n",
       " 'Built in modules.ipynb',\n",
       " 'Contacts',\n",
       " 'Cookies',\n",
       " 'Desktop',\n",
       " 'Documents',\n",
       " 'Downloads',\n",
       " 'Favorites',\n",
       " 'IntelGraphicsProfiles',\n",
       " 'Links',\n",
       " 'Local Settings',\n",
       " 'Music',\n",
       " 'My Documents',\n",
       " 'NetHood',\n",
       " 'NTUSER.DAT',\n",
       " 'ntuser.dat.LOG1',\n",
       " 'ntuser.dat.LOG2',\n",
       " 'NTUSER.DAT{53b39e88-18c4-11ea-a811-000d3aa4692b}.TM.blf',\n",
       " 'NTUSER.DAT{53b39e88-18c4-11ea-a811-000d3aa4692b}.TMContainer00000000000000000001.regtrans-ms',\n",
       " 'NTUSER.DAT{53b39e88-18c4-11ea-a811-000d3aa4692b}.TMContainer00000000000000000002.regtrans-ms',\n",
       " 'ntuser.ini',\n",
       " 'OneDrive',\n",
       " 'Pictures',\n",
       " 'PrintHood',\n",
       " 'Recent',\n",
       " 'Saved Games',\n",
       " 'Searches',\n",
       " 'SendTo',\n",
       " 'Start Menu',\n",
       " 'Templates',\n",
       " 'Untitled.ipynb',\n",
       " 'Untitled1.ipynb',\n",
       " 'Videos',\n",
       " 'VirtualBox VMs']"
      ]
     },
     "execution_count": 41,
     "metadata": {},
     "output_type": "execute_result"
    }
   ],
   "source": [
    "os.listdir() # Files in dir"
   ]
  },
  {
   "cell_type": "code",
   "execution_count": null,
   "id": "0581b480-5af9-468f-afe5-84e46e292d88",
   "metadata": {},
   "outputs": [],
   "source": []
  }
 ],
 "metadata": {
  "kernelspec": {
   "display_name": "Python [conda env:base] *",
   "language": "python",
   "name": "conda-base-py"
  },
  "language_info": {
   "codemirror_mode": {
    "name": "ipython",
    "version": 3
   },
   "file_extension": ".py",
   "mimetype": "text/x-python",
   "name": "python",
   "nbconvert_exporter": "python",
   "pygments_lexer": "ipython3",
   "version": "3.12.7"
  }
 },
 "nbformat": 4,
 "nbformat_minor": 5
}

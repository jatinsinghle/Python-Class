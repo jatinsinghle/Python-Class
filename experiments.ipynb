{
 "cells": [
  {
   "cell_type": "code",
   "execution_count": null,
   "metadata": {},
   "outputs": [],
   "source": [
    "### **Where, Why, and How Do We Use Loops in Python?**  \n",
    "\n",
    "### **1. Where Do We Use Loops in Python?**  \n",
    "Loops are used in various programming scenarios, including:  \n",
    "✅ **Iterating over sequences** (lists, tuples, dictionaries, sets, strings).  \n",
    "✅ **Processing data** in large datasets (e.g., reading files line by line).  \n",
    "✅ **Automating repetitive tasks** (e.g., sending emails, web scraping).  \n",
    "✅ **Executing code until a condition is met** (e.g., user authentication, countdown timers).  \n",
    "✅ **Building algorithms** like searching, sorting, and mathematical calculations.  \n",
    "\n",
    "---\n",
    "\n",
    "### **2. Why Do We Use Loops in Python?**  \n",
    "Loops help in:  \n",
    "🔹 **Reducing code repetition** – Instead of writing multiple print statements, we use loops.  \n",
    "🔹 **Improving efficiency** – Loops process large amounts of data quickly.  \n",
    "🔹 **Automating tasks** – Loops help automate tasks like logging, monitoring, and updating records.  \n",
    "🔹 **Handling dynamic input** – Loops allow handling user input dynamically.  \n",
    "🔹 **Implementing logic-based conditions** – Useful in AI/ML, game development, and simulations.  \n",
    "\n",
    "---\n",
    "\n",
    "### **3. How Do We Use Loops in Python?**  \n",
    "Python provides two main types of loops:  \n",
    "\n",
    "#### **A. `for loop` (used when we know the number of iterations)**\n",
    "- Iterates over a sequence like a list, tuple, dictionary, or string.\n",
    "\n",
    "📌 **Example: Iterating through a list**  \n",
    "```python\n",
    "fruits = [\"apple\", \"banana\", \"cherry\"]\n",
    "for fruit in fruits:\n",
    "    print(fruit)\n",
    "```\n",
    "🔹 **Output:**  \n",
    "```\n",
    "apple  \n",
    "banana  \n",
    "cherry  \n",
    "```\n",
    "\n",
    "📌 **Example: Using `range()` function**  \n",
    "```python\n",
    "for i in range(1, 6):  # Iterates from 1 to 5\n",
    "    print(i)\n",
    "```\n",
    "🔹 **Output:**  \n",
    "```\n",
    "1  \n",
    "2  \n",
    "3  \n",
    "4  \n",
    "5  \n",
    "```\n",
    "\n",
    "---\n",
    "\n",
    "#### **B. `while loop` (used when we don’t know the number of iterations in advance)**\n",
    "- Runs until a specific condition becomes `False`.\n",
    "\n",
    "📌 **Example: Counting from 1 to 5**  \n",
    "```python\n",
    "i = 1\n",
    "while i <= 5:\n",
    "    print(i)\n",
    "    i += 1  # Increment to avoid infinite loop\n",
    "```\n",
    "🔹 **Output:**  \n",
    "```\n",
    "1  \n",
    "2  \n",
    "3  \n",
    "4  \n",
    "5  \n",
    "```\n",
    "\n",
    "📌 **Example: Taking user input until they enter 'exit'**  \n",
    "```python\n",
    "user_input = \"\"\n",
    "while user_input.lower() != \"exit\":\n",
    "    user_input = input(\"Enter a word (or type 'exit' to stop): \")\n",
    "    print(\"You entered:\", user_input)\n",
    "```\n",
    "\n",
    "---\n",
    "\n",
    "#### **C. `break` and `continue` in Loops**  \n",
    "- **`break`**: Stops the loop immediately.  \n",
    "- **`continue`**: Skips the current iteration and moves to the next one.  \n",
    "\n",
    "📌 **Example: Using `break` to stop the loop**  \n",
    "```python\n",
    "for num in range(1, 10):\n",
    "    if num == 5:\n",
    "        break  # Stop when num is 5\n",
    "    print(num)\n",
    "```\n",
    "🔹 **Output:**  \n",
    "```\n",
    "1  \n",
    "2  \n",
    "3  \n",
    "4  \n",
    "```\n",
    "\n",
    "📌 **Example: Using `continue` to skip a value**  \n",
    "```python\n",
    "for num in range(1, 6):\n",
    "    if num == 3:\n",
    "        continue  # Skip 3 and continue\n",
    "    print(num)\n",
    "```\n",
    "🔹 **Output:**  \n",
    "```\n",
    "1  \n",
    "2  \n",
    "4  \n",
    "5  \n",
    "```\n",
    "\n",
    "---\n",
    "\n",
    "### **Final Thoughts**  \n",
    "- Use **`for loop`** when iterating over sequences or when the number of iterations is known.  \n",
    "- Use **`while loop`** when the number of iterations is unknown and depends on a condition.  \n",
    "- Use **`break` and `continue`** to control the loop’s flow.  \n",
    "\n",
    "💡 **Loops make Python powerful by reducing repetition, improving efficiency, and automating tasks!** 🚀  \n",
    "\n",
    "Let me know if you need more examples or explanations! 😊"
   ]
  },
  {
   "cell_type": "markdown",
   "metadata": {},
   "source": [
    "list = ['ram','syam','tom']\n",
    "for i in list:\n"
   ]
  },
  {
   "cell_type": "code",
   "execution_count": 1,
   "metadata": {},
   "outputs": [
    {
     "name": "stdout",
     "output_type": "stream",
     "text": [
      "ram\n",
      "syam\n",
      "tom\n"
     ]
    }
   ],
   "source": [
    "list = ['ram','syam','tom']\n",
    "for i in list:\n",
    "    print(i)"
   ]
  },
  {
   "cell_type": "code",
   "execution_count": 2,
   "metadata": {},
   "outputs": [
    {
     "name": "stdout",
     "output_type": "stream",
     "text": [
      "ram\n",
      "syam\n",
      "tom\n"
     ]
    }
   ],
   "source": [
    "tuple = ('ram','syam','tom')\n",
    "for i in tuple:\n",
    "    print(i)"
   ]
  },
  {
   "cell_type": "code",
   "execution_count": 3,
   "metadata": {},
   "outputs": [
    {
     "name": "stdout",
     "output_type": "stream",
     "text": [
      "tom\n",
      "ram\n",
      "syam\n"
     ]
    }
   ],
   "source": [
    "set = {'ram','syam','tom'}\n",
    "for i in set:\n",
    "    print(i)"
   ]
  },
  {
   "cell_type": "code",
   "execution_count": 4,
   "metadata": {},
   "outputs": [
    {
     "name": "stdout",
     "output_type": "stream",
     "text": [
      "1\n",
      "0\n",
      "0\n",
      " \n",
      "D\n",
      "a\n",
      "y\n",
      "s\n",
      " \n",
      "P\n",
      "y\n",
      "t\n",
      "h\n",
      "o\n",
      "n\n"
     ]
    }
   ],
   "source": [
    "string = \"100 Days Python\"\n",
    "for i in string:\n",
    "    print(i)    "
   ]
  },
  {
   "cell_type": "code",
   "execution_count": 7,
   "metadata": {},
   "outputs": [
    {
     "name": "stdout",
     "output_type": "stream",
     "text": [
      "0\n",
      "1\n",
      "2\n",
      "3\n",
      "4\n",
      "5\n",
      "6\n",
      "7\n",
      "8\n",
      "9\n"
     ]
    }
   ],
   "source": [
    "for i in range(10):\n",
    "    print(i)"
   ]
  },
  {
   "cell_type": "code",
   "execution_count": 8,
   "metadata": {},
   "outputs": [
    {
     "name": "stdout",
     "output_type": "stream",
     "text": [
      "1\n",
      "2\n",
      "3\n",
      "4\n",
      "5\n",
      "6\n",
      "7\n",
      "8\n",
      "9\n",
      "10\n"
     ]
    }
   ],
   "source": [
    "for i in range(1,11):\n",
    "    print(i)"
   ]
  },
  {
   "cell_type": "code",
   "execution_count": 9,
   "metadata": {},
   "outputs": [
    {
     "name": "stdout",
     "output_type": "stream",
     "text": [
      "1\n",
      "3\n",
      "5\n",
      "7\n",
      "9\n"
     ]
    }
   ],
   "source": [
    "for i in range(1,11,2):\n",
    "    print(i)"
   ]
  },
  {
   "cell_type": "code",
   "execution_count": 10,
   "metadata": {},
   "outputs": [
    {
     "name": "stdout",
     "output_type": "stream",
     "text": [
      "0\n",
      "1\n",
      "2\n",
      "3\n",
      "4\n",
      "5\n"
     ]
    }
   ],
   "source": [
    "#reak statement-1,2,3,4,5-6=1,5\n",
    "for i in range(10):\n",
    "    if i == 6:\n",
    "        break\n",
    "    print(i)"
   ]
  },
  {
   "cell_type": "code",
   "execution_count": 12,
   "metadata": {},
   "outputs": [
    {
     "name": "stdout",
     "output_type": "stream",
     "text": [
      "ram\n",
      "jacov\n"
     ]
    }
   ],
   "source": [
    "list = ['ram','jacov','syam','tom']\n",
    "for i in list:\n",
    "    if i == 'syam':\n",
    "        break\n",
    "    print(i)"
   ]
  },
  {
   "cell_type": "code",
   "execution_count": 13,
   "metadata": {},
   "outputs": [
    {
     "name": "stdout",
     "output_type": "stream",
     "text": [
      "0\n",
      "1\n",
      "2\n",
      "3\n",
      "4\n",
      "5\n",
      "7\n",
      "8\n",
      "9\n"
     ]
    }
   ],
   "source": [
    "for i in range(10):#continur skip the value\n",
    "    if i == 6:\n",
    "        continue\n",
    "    print(i)"
   ]
  },
  {
   "cell_type": "code",
   "execution_count": 14,
   "metadata": {},
   "outputs": [
    {
     "name": "stdout",
     "output_type": "stream",
     "text": [
      "0\n",
      "1\n",
      "2\n",
      "3\n",
      "4\n",
      "5\n",
      "6\n",
      "7\n",
      "8\n",
      "9\n"
     ]
    }
   ],
   "source": [
    "i = 0\n",
    "while i < 10:#here i value is grater than 10 while loop does not work\n",
    "    print(i)\n",
    "    i += 1"
   ]
  },
  {
   "cell_type": "code",
   "execution_count": 2,
   "metadata": {},
   "outputs": [],
   "source": [
    "i = 1"
   ]
  },
  {
   "cell_type": "code",
   "execution_count": 3,
   "metadata": {},
   "outputs": [],
   "source": [
    "i = i+1"
   ]
  },
  {
   "cell_type": "code",
   "execution_count": 4,
   "metadata": {},
   "outputs": [
    {
     "data": {
      "text/plain": [
       "2"
      ]
     },
     "execution_count": 4,
     "metadata": {},
     "output_type": "execute_result"
    }
   ],
   "source": [
    "i"
   ]
  },
  {
   "cell_type": "code",
   "execution_count": 5,
   "metadata": {},
   "outputs": [
    {
     "name": "stdout",
     "output_type": "stream",
     "text": [
      "0\n",
      "1\n",
      "2\n",
      "3\n",
      "4\n",
      "5\n",
      "6\n",
      "7\n",
      "8\n",
      "9\n"
     ]
    }
   ],
   "source": [
    "i = 0\n",
    "while i < 10:#here i value is grater than 10 while loop does not work\n",
    "    print(i)\n",
    "    i = i+1"
   ]
  },
  {
   "cell_type": "code",
   "execution_count": 6,
   "metadata": {},
   "outputs": [
    {
     "name": "stdout",
     "output_type": "stream",
     "text": [
      "2\n",
      "4\n",
      "6\n",
      "8\n"
     ]
    }
   ],
   "source": [
    "i = 2\n",
    "while i < 10:#here i value is grater than 10 while loop does not work\n",
    "    print(i)\n",
    "    i = i+2"
   ]
  },
  {
   "cell_type": "code",
   "execution_count": 7,
   "metadata": {},
   "outputs": [
    {
     "name": "stdout",
     "output_type": "stream",
     "text": [
      "3\n",
      "6\n",
      "9\n"
     ]
    }
   ],
   "source": [
    "i = 3\n",
    "while i < 10:#here i value is grater than 10 while loop does not work\n",
    "    print(i)\n",
    "    i = i+3"
   ]
  },
  {
   "cell_type": "code",
   "execution_count": 8,
   "metadata": {},
   "outputs": [
    {
     "name": "stdout",
     "output_type": "stream",
     "text": [
      "ram\n",
      "jacov\n"
     ]
    }
   ],
   "source": [
    "list = ['ram','jacov','syam','tom']\n",
    "for i in list:\n",
    "    if i == 'syam':\n",
    "        break\n",
    "    print(i)"
   ]
  },
  {
   "cell_type": "code",
   "execution_count": 3,
   "metadata": {},
   "outputs": [
    {
     "name": "stdout",
     "output_type": "stream",
     "text": [
      "jatin\n",
      "Rahul\n",
      "Shivam\n"
     ]
    }
   ],
   "source": [
    "list=('jatin', 'Rahul', 'Shivam', 'Himanshu', 'pawan', 'Ritu')\n",
    "for x in list:\n",
    "    if x=='Himanshu':\n",
    "        break\n",
    "    print(x)"
   ]
  },
  {
   "cell_type": "code",
   "execution_count": 7,
   "metadata": {},
   "outputs": [],
   "source": [
    "tuple=(1,2,3,4,5)"
   ]
  },
  {
   "cell_type": "code",
   "execution_count": 9,
   "metadata": {},
   "outputs": [
    {
     "name": "stdout",
     "output_type": "stream",
     "text": [
      "1\n",
      "2\n",
      "3\n",
      "5\n"
     ]
    }
   ],
   "source": [
    "for a in tuple:\n",
    "    if a==4:\n",
    "        continue\n",
    "    print(a)"
   ]
  },
  {
   "cell_type": "code",
   "execution_count": 17,
   "metadata": {},
   "outputs": [
    {
     "name": "stdout",
     "output_type": "stream",
     "text": [
      "100\n",
      "103\n",
      "106\n",
      "109\n",
      "112\n",
      "115\n",
      "118\n",
      "121\n",
      "124\n",
      "127\n"
     ]
    }
   ],
   "source": [
    "for c in range(100,150,3):\n",
    "    if c==130:\n",
    "        break\n",
    "    print(c)"
   ]
  },
  {
   "cell_type": "code",
   "execution_count": 21,
   "metadata": {},
   "outputs": [],
   "source": [
    "i=1"
   ]
  },
  {
   "cell_type": "code",
   "execution_count": 23,
   "metadata": {},
   "outputs": [
    {
     "name": "stdout",
     "output_type": "stream",
     "text": [
      "1\n",
      "3\n",
      "5\n",
      "7\n",
      "9\n"
     ]
    }
   ],
   "source": [
    "while i <10:\n",
    "    print(i)\n",
    "    i=i+2"
   ]
  },
  {
   "cell_type": "code",
   "execution_count": null,
   "metadata": {},
   "outputs": [],
   "source": []
  }
 ],
 "metadata": {
  "kernelspec": {
   "display_name": "Python [conda env:base] *",
   "language": "python",
   "name": "conda-base-py"
  },
  "language_info": {
   "codemirror_mode": {
    "name": "ipython",
    "version": 3
   },
   "file_extension": ".py",
   "mimetype": "text/x-python",
   "name": "python",
   "nbconvert_exporter": "python",
   "pygments_lexer": "ipython3",
   "version": "3.12.7"
  }
 },
 "nbformat": 4,
 "nbformat_minor": 4
}

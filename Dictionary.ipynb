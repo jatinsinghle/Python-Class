{
 "cells": [
  {
   "cell_type": "markdown",
   "id": "2d19b2b8-d561-4912-a72d-a5c021a7b730",
   "metadata": {},
   "source": [
    "Dictionary\n",
    "\n",
    "Key-Value Pairs: Data mapping.\n",
    "\n",
    "Aliases: Map, associative array.\n",
    "\n",
    "dict = { 'name': 'nitish', 'age': 33, 'gender': 'male' }\n",
    "\n",
    "Traits:\n",
    "\n",
    "Mutable\n",
    "\n",
    "No indexing\n",
    "\n",
    "Unique keys\n",
    "\n",
    "Immutable key"
   ]
  },
  {
   "cell_type": "code",
   "execution_count": 2,
   "id": "a66e3229-2e7b-4adb-ba00-a737f3ae018e",
   "metadata": {},
   "outputs": [
    {
     "data": {
      "text/plain": [
       "{'Name': 'Saurabh', 'Gender': 'Male'}"
      ]
     },
     "execution_count": 2,
     "metadata": {},
     "output_type": "execute_result"
    }
   ],
   "source": [
    "{\"Name\":\"Saurabh\", \"Gender\":\"Male\"}"
   ]
  },
  {
   "cell_type": "markdown",
   "id": "4deb2e76-e302-44be-bd9c-8bd702f5771d",
   "metadata": {},
   "source": [
    "4 Key Rules About Dictionaries\n",
    "\n",
    "No Indexing: No index support.\n",
    "\n",
    "Mutable: Can modify post-creation.\n",
    "\n",
    "Keys: Immutable (str, num, tuple); Values: Any type.\n",
    "\n",
    "Unique Keys: Keys must be unique; overwrite on reassignment."
   ]
  },
  {
   "cell_type": "code",
   "execution_count": 5,
   "id": "db165b50-4681-49fa-af09-ba42c8da838e",
   "metadata": {},
   "outputs": [],
   "source": [
    "# Mutable Types   ---> Lists, Sets, Dicts\n",
    "\n",
    "# Immutable Types ---> Str, Tuples, Int, Float, Bool, Complex"
   ]
  },
  {
   "cell_type": "markdown",
   "id": "9bf122fd-2bd5-4cd2-8124-b073ec190252",
   "metadata": {},
   "source": [
    "Create\n",
    "Access\n",
    "Edit\n",
    "Add\n",
    "Delete\n",
    "Operations\n",
    "Functions"
   ]
  },
  {
   "cell_type": "markdown",
   "id": "db3de702-a12c-4efb-a5ca-ebef3708dbe3",
   "metadata": {},
   "source": [
    "1. Create"
   ]
  },
  {
   "cell_type": "code",
   "execution_count": 10,
   "id": "5fba6574-32b7-4b57-9672-c09fb5e128de",
   "metadata": {},
   "outputs": [],
   "source": [
    "#empty dictonary\n",
    "D={}"
   ]
  },
  {
   "cell_type": "code",
   "execution_count": 12,
   "id": "2812ca13-9563-4004-8524-efd2f68d275d",
   "metadata": {},
   "outputs": [
    {
     "data": {
      "text/plain": [
       "{}"
      ]
     },
     "execution_count": 12,
     "metadata": {},
     "output_type": "execute_result"
    }
   ],
   "source": [
    "D"
   ]
  },
  {
   "cell_type": "code",
   "execution_count": 91,
   "id": "b857f2b8-7581-4813-8677-7ed0c40025a4",
   "metadata": {},
   "outputs": [
    {
     "data": {
      "text/plain": [
       "{'Name': 'Jatin', 'Gender': 'Male'}"
      ]
     },
     "execution_count": 91,
     "metadata": {},
     "output_type": "execute_result"
    }
   ],
   "source": [
    "#1D Dictonary\n",
    "D={\"Name\": \"Jatin\", \"Gender\": \"Male\"}\n",
    "D"
   ]
  },
  {
   "cell_type": "code",
   "execution_count": 93,
   "id": "6697271a-e5bf-4143-b2a4-798278ecaea4",
   "metadata": {},
   "outputs": [
    {
     "ename": "TypeError",
     "evalue": "unhashable type: 'list'",
     "output_type": "error",
     "traceback": [
      "\u001b[1;31m---------------------------------------------------------------------------\u001b[0m",
      "\u001b[1;31mTypeError\u001b[0m                                 Traceback (most recent call last)",
      "Cell \u001b[1;32mIn[93], line 1\u001b[0m\n\u001b[1;32m----> 1\u001b[0m D\u001b[38;5;241m=\u001b[39m{[\u001b[38;5;241m1\u001b[39m,\u001b[38;5;241m2\u001b[39m,\u001b[38;5;241m3\u001b[39m]: \u001b[38;5;124m\"\u001b[39m\u001b[38;5;124mJatin\u001b[39m\u001b[38;5;124m\"\u001b[39m}\n",
      "\u001b[1;31mTypeError\u001b[0m: unhashable type: 'list'"
     ]
    }
   ],
   "source": [
    "D={[1,2,3]: \"Jatin\"}"
   ]
  },
  {
   "cell_type": "code",
   "execution_count": 95,
   "id": "515d5959-ef3f-4d34-b854-391006452294",
   "metadata": {},
   "outputs": [
    {
     "data": {
      "text/plain": [
       "{(1, 2, 3): 'Jatin'}"
      ]
     },
     "execution_count": 95,
     "metadata": {},
     "output_type": "execute_result"
    }
   ],
   "source": [
    "#with mixed Keys\n",
    "D1={(1,2,3): \"Jatin\"}\n",
    "D1"
   ]
  },
  {
   "cell_type": "code",
   "execution_count": 97,
   "id": "c90e5a65-e348-419a-a269-05c64603506d",
   "metadata": {},
   "outputs": [
    {
     "data": {
      "text/plain": [
       "{'Name': 'Rahul'}"
      ]
     },
     "execution_count": 97,
     "metadata": {},
     "output_type": "execute_result"
    }
   ],
   "source": [
    "#duplicate keys\n",
    "D2={\"Name\": \"Jatin\", \"Name\": \"Rahul\"}\n",
    "D2"
   ]
  },
  {
   "cell_type": "code",
   "execution_count": 99,
   "id": "b83f418a-03f0-490d-88ec-f2051121ad97",
   "metadata": {},
   "outputs": [
    {
     "data": {
      "text/plain": [
       "{'Name': 'Jatin', 'College': 'DAV', 'Marks': {'M1': 99, 'DS': 97, 'Eng': 80}}"
      ]
     },
     "execution_count": 99,
     "metadata": {},
     "output_type": "execute_result"
    }
   ],
   "source": [
    "D3={\"Name\": \"Jatin\", \"College\": \"DAV\", \"Marks\":{\"M1\":99, \"DS\":97, \"Eng\":80}}\n",
    "D3"
   ]
  },
  {
   "cell_type": "code",
   "execution_count": 101,
   "id": "b39733af-2cc2-47e3-9c7d-3cb461c49e0f",
   "metadata": {},
   "outputs": [
    {
     "data": {
      "text/plain": [
       "{'name': 'Jatin',\n",
       " 'college': 'DAV',\n",
       " 'sem': 4,\n",
       " 'subjects': {'dsa': 50, 'maths': 67, 'english': 34}}"
      ]
     },
     "execution_count": 101,
     "metadata": {},
     "output_type": "execute_result"
    }
   ],
   "source": [
    "# 2D dictionary ---> JSON\n",
    "s = {\n",
    "    'name':'Jatin',\n",
    "     'college':'DAV',\n",
    "     'sem':4,\n",
    "     'subjects':{\n",
    "         'dsa':50,\n",
    "         'maths':67,\n",
    "         'english':34\n",
    "     }\n",
    "}\n",
    "s"
   ]
  },
  {
   "cell_type": "code",
   "execution_count": 103,
   "id": "e6a2aa04-f65c-49af-8d5c-a1c879bba71f",
   "metadata": {},
   "outputs": [
    {
     "name": "stdout",
     "output_type": "stream",
     "text": [
      "{'name': 'Rahul', (1, 2, 3): 2}\n"
     ]
    }
   ],
   "source": [
    "#mutuable items AS Keys\n",
    "D4= {\"name\": \"Rahul\", (1,2,3):2}\n",
    "print(D4)"
   ]
  },
  {
   "cell_type": "markdown",
   "id": "610c13a0-b5da-418e-a673-5dd6e7e8728b",
   "metadata": {},
   "source": [
    "2. Access"
   ]
  },
  {
   "cell_type": "code",
   "execution_count": 106,
   "id": "3534a4dc-fb0e-439a-9e7e-6d968c710f9d",
   "metadata": {},
   "outputs": [
    {
     "data": {
      "text/plain": [
       "'Jatin'"
      ]
     },
     "execution_count": 106,
     "metadata": {},
     "output_type": "execute_result"
    }
   ],
   "source": [
    "D[\"Name\"]"
   ]
  },
  {
   "cell_type": "code",
   "execution_count": 108,
   "id": "81eefeef-10eb-40cf-a6ee-a59290b139c8",
   "metadata": {},
   "outputs": [
    {
     "data": {
      "text/plain": [
       "'Jatin'"
      ]
     },
     "execution_count": 108,
     "metadata": {},
     "output_type": "execute_result"
    }
   ],
   "source": [
    "D.get(\"Name\")"
   ]
  },
  {
   "cell_type": "code",
   "execution_count": 110,
   "id": "d2c51ddd-714d-4290-b59a-72d64d8713ca",
   "metadata": {},
   "outputs": [
    {
     "data": {
      "text/plain": [
       "'Male'"
      ]
     },
     "execution_count": 110,
     "metadata": {},
     "output_type": "execute_result"
    }
   ],
   "source": [
    "D[\"Gender\"]"
   ]
  },
  {
   "cell_type": "code",
   "execution_count": 112,
   "id": "34b35108-17e6-42ec-b2ce-83c0f9726ee2",
   "metadata": {},
   "outputs": [
    {
     "data": {
      "text/plain": [
       "{'Name': 'Jatin', 'College': 'DAV', 'Marks': {'M1': 99, 'DS': 97, 'Eng': 80}}"
      ]
     },
     "execution_count": 112,
     "metadata": {},
     "output_type": "execute_result"
    }
   ],
   "source": [
    "D3"
   ]
  },
  {
   "cell_type": "code",
   "execution_count": 114,
   "id": "e1b3d8eb-dace-4e6b-9082-6b0be7d56d2c",
   "metadata": {},
   "outputs": [
    {
     "data": {
      "text/plain": [
       "99"
      ]
     },
     "execution_count": 114,
     "metadata": {},
     "output_type": "execute_result"
    }
   ],
   "source": [
    "D3['Marks']['M1']"
   ]
  },
  {
   "cell_type": "markdown",
   "id": "32079495-6a60-4e32-981a-33ce4813be7c",
   "metadata": {},
   "source": [
    "3. Edit"
   ]
  },
  {
   "cell_type": "code",
   "execution_count": 117,
   "id": "54996a96-6378-44fa-ab1b-0df408bd632d",
   "metadata": {},
   "outputs": [
    {
     "data": {
      "text/plain": [
       "{'Name': 'Jatin', 'Gender': 'Male'}"
      ]
     },
     "execution_count": 117,
     "metadata": {},
     "output_type": "execute_result"
    }
   ],
   "source": [
    "D\n"
   ]
  },
  {
   "cell_type": "code",
   "execution_count": 119,
   "id": "817db061-6c2e-4c2f-9218-a0a67fe9a411",
   "metadata": {},
   "outputs": [
    {
     "data": {
      "text/plain": [
       "{'Name': 'Rahul', 'Gender': 'Male'}"
      ]
     },
     "execution_count": 119,
     "metadata": {},
     "output_type": "execute_result"
    }
   ],
   "source": [
    "D['Name']= \"Rahul\"\n",
    "D"
   ]
  },
  {
   "cell_type": "markdown",
   "id": "705f0b6c-9d60-441b-b15e-e4677c4b7fac",
   "metadata": {},
   "source": [
    "4.Add"
   ]
  },
  {
   "cell_type": "code",
   "execution_count": 124,
   "id": "d7cb00f5-d3b9-44fa-92d5-730d694f2c19",
   "metadata": {},
   "outputs": [
    {
     "data": {
      "text/plain": [
       "{'Name': 'Rahul', 'Gender': 'Male', 'Age': 12}"
      ]
     },
     "execution_count": 124,
     "metadata": {},
     "output_type": "execute_result"
    }
   ],
   "source": [
    "D"
   ]
  },
  {
   "cell_type": "code",
   "execution_count": 133,
   "id": "6f3589eb-39b5-46db-a0e0-e2e5ef55cefd",
   "metadata": {},
   "outputs": [
    {
     "data": {
      "text/plain": [
       "{'Name': 'Rahul', 'Gender': 'Male', 'Age': 12}"
      ]
     },
     "execution_count": 133,
     "metadata": {},
     "output_type": "execute_result"
    }
   ],
   "source": [
    "D['Age']=12\n",
    "D"
   ]
  },
  {
   "cell_type": "code",
   "execution_count": 131,
   "id": "9974a1c8-6953-4657-a603-993856f5b4f6",
   "metadata": {},
   "outputs": [
    {
     "data": {
      "text/plain": [
       "{'Name': 'Jatin',\n",
       " 'College': 'DAV',\n",
       " 'Marks': {'M1': 99, 'DS': 97, 'Eng': 80, 'M2': 87}}"
      ]
     },
     "execution_count": 131,
     "metadata": {},
     "output_type": "execute_result"
    }
   ],
   "source": [
    "D3['Marks'][\"M2\"]=87\n",
    "D3"
   ]
  },
  {
   "cell_type": "markdown",
   "id": "00e90c54-ee2b-4749-910b-b5e69c987ccf",
   "metadata": {},
   "source": [
    "5. Delete"
   ]
  },
  {
   "cell_type": "code",
   "execution_count": 138,
   "id": "5008f029-c26a-46dd-ab70-c27db52cdcd6",
   "metadata": {},
   "outputs": [
    {
     "data": {
      "text/plain": [
       "{}"
      ]
     },
     "execution_count": 138,
     "metadata": {},
     "output_type": "execute_result"
    }
   ],
   "source": [
    "D5={}\n",
    "D5"
   ]
  },
  {
   "cell_type": "code",
   "execution_count": 140,
   "id": "52f17017-6a2b-4adb-8191-56eff2833901",
   "metadata": {},
   "outputs": [
    {
     "ename": "NameError",
     "evalue": "name 'D5' is not defined",
     "output_type": "error",
     "traceback": [
      "\u001b[1;31m---------------------------------------------------------------------------\u001b[0m",
      "\u001b[1;31mNameError\u001b[0m                                 Traceback (most recent call last)",
      "Cell \u001b[1;32mIn[140], line 2\u001b[0m\n\u001b[0;32m      1\u001b[0m \u001b[38;5;28;01mdel\u001b[39;00m D5\n\u001b[1;32m----> 2\u001b[0m D5\n",
      "\u001b[1;31mNameError\u001b[0m: name 'D5' is not defined"
     ]
    }
   ],
   "source": [
    "del D5\n",
    "D5"
   ]
  },
  {
   "cell_type": "code",
   "execution_count": 142,
   "id": "6cc28c20-9b23-4d60-ac2e-b3be9279d597",
   "metadata": {},
   "outputs": [
    {
     "data": {
      "text/plain": [
       "'Rahul'"
      ]
     },
     "execution_count": 142,
     "metadata": {},
     "output_type": "execute_result"
    }
   ],
   "source": [
    "D.pop(\"Name\")"
   ]
  },
  {
   "cell_type": "code",
   "execution_count": 144,
   "id": "f5281d0b-e705-40b6-a371-de490ff838fd",
   "metadata": {},
   "outputs": [
    {
     "data": {
      "text/plain": [
       "{'Gender': 'Male', 'Age': 12}"
      ]
     },
     "execution_count": 144,
     "metadata": {},
     "output_type": "execute_result"
    }
   ],
   "source": [
    "D"
   ]
  },
  {
   "cell_type": "code",
   "execution_count": 146,
   "id": "78191d04-cf75-4626-b7df-609ac8fd77bc",
   "metadata": {},
   "outputs": [
    {
     "data": {
      "text/plain": [
       "{'Gender': 'Male'}"
      ]
     },
     "execution_count": 146,
     "metadata": {},
     "output_type": "execute_result"
    }
   ],
   "source": [
    "D.popitem()\n",
    "D"
   ]
  },
  {
   "cell_type": "code",
   "execution_count": 148,
   "id": "0d1a9177-55b8-4d61-ad21-a87f1cbd4916",
   "metadata": {},
   "outputs": [],
   "source": [
    "del D[\"Gender\"]"
   ]
  },
  {
   "cell_type": "code",
   "execution_count": 150,
   "id": "a86e74c7-2d62-4a27-9daa-0e974fd44d4c",
   "metadata": {},
   "outputs": [
    {
     "data": {
      "text/plain": [
       "{}"
      ]
     },
     "execution_count": 150,
     "metadata": {},
     "output_type": "execute_result"
    }
   ],
   "source": [
    "D"
   ]
  },
  {
   "cell_type": "markdown",
   "id": "0a3c7902-23a7-43f2-b653-54a305e0bba8",
   "metadata": {},
   "source": [
    "6. Operations"
   ]
  },
  {
   "cell_type": "code",
   "execution_count": 153,
   "id": "1d722970-0ac6-4a2c-b697-2a7752ea9dec",
   "metadata": {},
   "outputs": [
    {
     "data": {
      "text/plain": [
       "{'Name': 'Jatin',\n",
       " 'College': 'DAV',\n",
       " 'Marks': {'M1': 99, 'DS': 97, 'Eng': 80, 'M2': 87}}"
      ]
     },
     "execution_count": 153,
     "metadata": {},
     "output_type": "execute_result"
    }
   ],
   "source": [
    "D3"
   ]
  },
  {
   "cell_type": "code",
   "execution_count": 155,
   "id": "6d656057-68b1-4386-a884-db930c440448",
   "metadata": {},
   "outputs": [
    {
     "data": {
      "text/plain": [
       "{'name': 'Rahul', (1, 2, 3): 2}"
      ]
     },
     "execution_count": 155,
     "metadata": {},
     "output_type": "execute_result"
    }
   ],
   "source": [
    "D4"
   ]
  },
  {
   "cell_type": "code",
   "execution_count": 157,
   "id": "7294a736-760b-45c0-991f-460da3e1efa5",
   "metadata": {},
   "outputs": [
    {
     "ename": "TypeError",
     "evalue": "unsupported operand type(s) for +: 'dict' and 'dict'",
     "output_type": "error",
     "traceback": [
      "\u001b[1;31m---------------------------------------------------------------------------\u001b[0m",
      "\u001b[1;31mTypeError\u001b[0m                                 Traceback (most recent call last)",
      "Cell \u001b[1;32mIn[157], line 1\u001b[0m\n\u001b[1;32m----> 1\u001b[0m D3\u001b[38;5;241m+\u001b[39mD4\n",
      "\u001b[1;31mTypeError\u001b[0m: unsupported operand type(s) for +: 'dict' and 'dict'"
     ]
    }
   ],
   "source": [
    "D3+D4"
   ]
  },
  {
   "cell_type": "code",
   "execution_count": 161,
   "id": "9adbb903-2f13-4357-8260-ec92ad476a53",
   "metadata": {},
   "outputs": [
    {
     "ename": "TypeError",
     "evalue": "unsupported operand type(s) for *: 'dict' and 'int'",
     "output_type": "error",
     "traceback": [
      "\u001b[1;31m---------------------------------------------------------------------------\u001b[0m",
      "\u001b[1;31mTypeError\u001b[0m                                 Traceback (most recent call last)",
      "Cell \u001b[1;32mIn[161], line 1\u001b[0m\n\u001b[1;32m----> 1\u001b[0m D3 \u001b[38;5;241m*\u001b[39m\u001b[38;5;241m3\u001b[39m\n",
      "\u001b[1;31mTypeError\u001b[0m: unsupported operand type(s) for *: 'dict' and 'int'"
     ]
    }
   ],
   "source": [
    "D3 *3"
   ]
  },
  {
   "cell_type": "code",
   "execution_count": 167,
   "id": "f908e468-6c7d-4b66-9ba5-ad82805663a1",
   "metadata": {},
   "outputs": [
    {
     "name": "stdout",
     "output_type": "stream",
     "text": [
      "Name Jatin\n",
      "College DAV\n",
      "Marks {'M1': 99, 'DS': 97, 'Eng': 80, 'M2': 87}\n"
     ]
    }
   ],
   "source": [
    "#iterarion\n",
    "for i in D3:\n",
    "    print(i, D3[i])"
   ]
  },
  {
   "cell_type": "code",
   "execution_count": 173,
   "id": "edb36f2d-0e89-4bfc-80d6-fbc8701d0b76",
   "metadata": {},
   "outputs": [
    {
     "data": {
      "text/plain": [
       "{'Name': 'Jatin',\n",
       " 'College': 'DAV',\n",
       " 'Marks': {'M1': 99, 'DS': 97, 'Eng': 80, 'M2': 87}}"
      ]
     },
     "execution_count": 173,
     "metadata": {},
     "output_type": "execute_result"
    }
   ],
   "source": [
    "D3"
   ]
  },
  {
   "cell_type": "code",
   "execution_count": 179,
   "id": "9549da1f-1444-4ad8-8a5b-69845ba55b37",
   "metadata": {},
   "outputs": [
    {
     "data": {
      "text/plain": [
       "True"
      ]
     },
     "execution_count": 179,
     "metadata": {},
     "output_type": "execute_result"
    }
   ],
   "source": [
    "#membership\n",
    "'Name' in D3"
   ]
  },
  {
   "cell_type": "code",
   "execution_count": 177,
   "id": "99618fea-6232-4af3-863d-19916851c268",
   "metadata": {},
   "outputs": [
    {
     "data": {
      "text/plain": [
       "False"
      ]
     },
     "execution_count": 177,
     "metadata": {},
     "output_type": "execute_result"
    }
   ],
   "source": [
    "'Rahul' in D3"
   ]
  },
  {
   "cell_type": "markdown",
   "id": "7e6c9757-ca14-44df-8c60-63d78975d9c2",
   "metadata": {},
   "source": [
    "7. Functions"
   ]
  },
  {
   "cell_type": "code",
   "execution_count": 184,
   "id": "b5083820-a282-41fe-b820-2e49f81ef6d2",
   "metadata": {},
   "outputs": [
    {
     "data": {
      "text/plain": [
       "3"
      ]
     },
     "execution_count": 184,
     "metadata": {},
     "output_type": "execute_result"
    }
   ],
   "source": [
    "len(D3)"
   ]
  },
  {
   "cell_type": "code",
   "execution_count": 186,
   "id": "7b3a8a83-0967-4a31-9e10-210e2de67afb",
   "metadata": {},
   "outputs": [
    {
     "data": {
      "text/plain": [
       "'College'"
      ]
     },
     "execution_count": 186,
     "metadata": {},
     "output_type": "execute_result"
    }
   ],
   "source": [
    "min(D3)"
   ]
  },
  {
   "cell_type": "code",
   "execution_count": 190,
   "id": "90c33375-487b-4d7e-894c-3e3a53719566",
   "metadata": {},
   "outputs": [
    {
     "data": {
      "text/plain": [
       "'Name'"
      ]
     },
     "execution_count": 190,
     "metadata": {},
     "output_type": "execute_result"
    }
   ],
   "source": [
    "max(D3)"
   ]
  },
  {
   "cell_type": "code",
   "execution_count": 194,
   "id": "9c577400-7e99-4d14-adf9-b201c5a20976",
   "metadata": {},
   "outputs": [
    {
     "data": {
      "text/plain": [
       "['College', 'Marks', 'Name']"
      ]
     },
     "execution_count": 194,
     "metadata": {},
     "output_type": "execute_result"
    }
   ],
   "source": [
    "sorted(D3)"
   ]
  },
  {
   "cell_type": "code",
   "execution_count": 192,
   "id": "15102dbe-4dab-4c4c-a868-9c01f2ba9d7f",
   "metadata": {},
   "outputs": [
    {
     "data": {
      "text/plain": [
       "['Name', 'Marks', 'College']"
      ]
     },
     "execution_count": 192,
     "metadata": {},
     "output_type": "execute_result"
    }
   ],
   "source": [
    "sorted(D3, reverse=True)"
   ]
  },
  {
   "cell_type": "code",
   "execution_count": 196,
   "id": "52436775-922a-4976-bf2d-0a73f134e042",
   "metadata": {},
   "outputs": [
    {
     "data": {
      "text/plain": [
       "dict_items([('Name', 'Jatin'), ('College', 'DAV'), ('Marks', {'M1': 99, 'DS': 97, 'Eng': 80, 'M2': 87})])"
      ]
     },
     "execution_count": 196,
     "metadata": {},
     "output_type": "execute_result"
    }
   ],
   "source": [
    "D3.items()"
   ]
  },
  {
   "cell_type": "code",
   "execution_count": 200,
   "id": "8c71509f-e228-4eb0-92d4-9669161f771e",
   "metadata": {},
   "outputs": [
    {
     "data": {
      "text/plain": [
       "dict_keys(['Name', 'College', 'Marks'])"
      ]
     },
     "execution_count": 200,
     "metadata": {},
     "output_type": "execute_result"
    }
   ],
   "source": [
    "D3.keys()"
   ]
  },
  {
   "cell_type": "code",
   "execution_count": 204,
   "id": "155e24e3-f7d8-48ed-bc82-89da6351aebc",
   "metadata": {},
   "outputs": [
    {
     "data": {
      "text/plain": [
       "dict_values(['Jatin', 'DAV', {'M1': 99, 'DS': 97, 'Eng': 80, 'M2': 87}])"
      ]
     },
     "execution_count": 204,
     "metadata": {},
     "output_type": "execute_result"
    }
   ],
   "source": [
    "D3.values()"
   ]
  },
  {
   "cell_type": "code",
   "execution_count": 206,
   "id": "7a64b07e-7ca1-4dc8-a362-52474e9f9133",
   "metadata": {},
   "outputs": [
    {
     "data": {
      "text/plain": [
       "{1: 2, 3: 4, 4: 7, 6: 8}"
      ]
     },
     "execution_count": 206,
     "metadata": {},
     "output_type": "execute_result"
    }
   ],
   "source": [
    "d1 = {1:2, 3:4, 4:5}\n",
    "d2 = {4:7, 6:8}\n",
    "d1.update(d2)\n",
    "d1"
   ]
  },
  {
   "cell_type": "markdown",
   "id": "2bc7da93-0994-406a-b97c-ff4f522307e3",
   "metadata": {},
   "source": [
    "Dictionary Comprehension\n",
    "\n",
    "{key : value for var in iterable}\n",
    "Creates dicts from iterables.\n",
    "\n",
    "Example:\n",
    "\n",
    "squares_dict = {x: x**2 for x in range(5)}\n",
    "\n",
    "Maps numbers to squares.\n",
    "\n",
    "Supports conditions & expressions."
   ]
  },
  {
   "cell_type": "code",
   "execution_count": 209,
   "id": "23e9bb80-57c6-4cf2-9025-b87db6dd2242",
   "metadata": {},
   "outputs": [],
   "source": [
    "D = {\"Name\":\"Jatin\", \"Gender\":\"Male\", \"Age\":20}"
   ]
  },
  {
   "cell_type": "code",
   "execution_count": 211,
   "id": "9fcffe68-8c2c-4b6a-9724-e4b468d86a8b",
   "metadata": {},
   "outputs": [
    {
     "data": {
      "text/plain": [
       "dict_items([('Name', 'Jatin'), ('Gender', 'Male'), ('Age', 20)])"
      ]
     },
     "execution_count": 211,
     "metadata": {},
     "output_type": "execute_result"
    }
   ],
   "source": [
    "D.items()"
   ]
  },
  {
   "cell_type": "code",
   "execution_count": 213,
   "id": "d904ba22-8a3b-4a5e-a0de-9503c18d3174",
   "metadata": {},
   "outputs": [
    {
     "data": {
      "text/plain": [
       "{'Name': 'Jatin', 'Gender': 'Male'}"
      ]
     },
     "execution_count": 213,
     "metadata": {},
     "output_type": "execute_result"
    }
   ],
   "source": [
    "D1= {key:value for key, value in D.items () if len(key)>3 }\n",
    "D1"
   ]
  },
  {
   "cell_type": "code",
   "execution_count": 215,
   "id": "aa3f372c-b0ef-4a92-8258-dad7a51eea00",
   "metadata": {},
   "outputs": [],
   "source": [
    "L=[1,2,3,4,5,6,7]"
   ]
  },
  {
   "cell_type": "code",
   "execution_count": 219,
   "id": "37a762a9-8216-45c1-bfe6-840181fa6a94",
   "metadata": {},
   "outputs": [
    {
     "data": {
      "text/plain": [
       "{2: 4, 4: 16, 6: 36}"
      ]
     },
     "execution_count": 219,
     "metadata": {},
     "output_type": "execute_result"
    }
   ],
   "source": [
    "L1= {item: item**2 for item in L if item%2==0}\n",
    "L1"
   ]
  },
  {
   "cell_type": "code",
   "execution_count": 225,
   "id": "b80d892c-c6ee-4cff-bb09-70b901a3df25",
   "metadata": {},
   "outputs": [
    {
     "data": {
      "text/plain": [
       "{1: 1, 2: 4, 3: 9, 4: 16, 5: 25, 6: 36, 7: 49, 8: 64, 9: 81, 10: 100}"
      ]
     },
     "execution_count": 225,
     "metadata": {},
     "output_type": "execute_result"
    }
   ],
   "source": [
    "{i: i**2 for i in range(1,11)}"
   ]
  },
  {
   "cell_type": "code",
   "execution_count": 241,
   "id": "1849cc95-6b72-4167-a3f9-f0169c497797",
   "metadata": {},
   "outputs": [
    {
     "data": {
      "text/plain": [
       "{'Sunday': 30.5,\n",
       " 'Monday': 32.6,\n",
       " 'Tuesday': 31.8,\n",
       " 'Wednesday': 33.4,\n",
       " 'Thursday': 29.8,\n",
       " 'Friday': 30.2,\n",
       " 'Saturday': 29.9}"
      ]
     },
     "execution_count": 241,
     "metadata": {},
     "output_type": "execute_result"
    }
   ],
   "source": [
    "# using zip\n",
    "days = [\"Sunday\", \"Monday\", \"Tuesday\", \"Wednesday\", \"Thursday\", \"Friday\", \"Saturday\"]\n",
    "temp_C = [30.5, 32.6, 31.8, 33.4, 29.8, 30.2, 29.9]\n",
    "{i:j for (i,j) in zip(days, temp_C)}"
   ]
  },
  {
   "cell_type": "code",
   "execution_count": 243,
   "id": "a61ef552-de2a-4c8e-887e-e09e5aa999e7",
   "metadata": {},
   "outputs": [
    {
     "data": {
      "text/plain": [
       "{'phone': 10, 'charger': 32}"
      ]
     },
     "execution_count": 243,
     "metadata": {},
     "output_type": "execute_result"
    }
   ],
   "source": [
    "# using if condition\n",
    "products = {'phone':10, 'laptop':0, 'charger':32, 'tablet':0}\n",
    "{key:value for (key,value) in products.items() if value>0}\n"
   ]
  },
  {
   "cell_type": "code",
   "execution_count": null,
   "id": "33ff995d-a981-42bb-bb56-f70c1b8e81a1",
   "metadata": {},
   "outputs": [],
   "source": []
  }
 ],
 "metadata": {
  "kernelspec": {
   "display_name": "Python [conda env:base] *",
   "language": "python",
   "name": "conda-base-py"
  },
  "language_info": {
   "codemirror_mode": {
    "name": "ipython",
    "version": 3
   },
   "file_extension": ".py",
   "mimetype": "text/x-python",
   "name": "python",
   "nbconvert_exporter": "python",
   "pygments_lexer": "ipython3",
   "version": "3.12.7"
  }
 },
 "nbformat": 4,
 "nbformat_minor": 5
}

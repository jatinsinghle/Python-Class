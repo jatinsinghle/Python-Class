{
 "cells": [
  {
   "cell_type": "markdown",
   "id": "bd230d89-d471-4ae8-b5fe-834eaf0a92a2",
   "metadata": {},
   "source": [
    "Decision Control"
   ]
  },
  {
   "cell_type": "code",
   "execution_count": 2,
   "id": "1d2d9fc8-cf95-4d16-9a59-c6e6632af3d7",
   "metadata": {},
   "outputs": [],
   "source": [
    "import keyword"
   ]
  },
  {
   "cell_type": "code",
   "execution_count": 10,
   "id": "d8a2212f-bdd9-4593-8d45-9a4103133ff2",
   "metadata": {},
   "outputs": [
    {
     "data": {
      "text/plain": [
       "['False',\n",
       " 'None',\n",
       " 'True',\n",
       " 'and',\n",
       " 'as',\n",
       " 'assert',\n",
       " 'async',\n",
       " 'await',\n",
       " 'break',\n",
       " 'class',\n",
       " 'continue',\n",
       " 'def',\n",
       " 'del',\n",
       " 'elif',\n",
       " 'else',\n",
       " 'except',\n",
       " 'finally',\n",
       " 'for',\n",
       " 'from',\n",
       " 'global',\n",
       " 'if',\n",
       " 'import',\n",
       " 'in',\n",
       " 'is',\n",
       " 'lambda',\n",
       " 'nonlocal',\n",
       " 'not',\n",
       " 'or',\n",
       " 'pass',\n",
       " 'raise',\n",
       " 'return',\n",
       " 'try',\n",
       " 'while',\n",
       " 'with',\n",
       " 'yield']"
      ]
     },
     "execution_count": 10,
     "metadata": {},
     "output_type": "execute_result"
    }
   ],
   "source": [
    "keyword.kwlist"
   ]
  },
  {
   "cell_type": "code",
   "execution_count": 24,
   "id": "73e7cf39-9346-48df-ae08-f1773d210f1e",
   "metadata": {},
   "outputs": [],
   "source": [
    "a = 19"
   ]
  },
  {
   "cell_type": "code",
   "execution_count": 26,
   "id": "ac5aa5ba-8682-40ac-b0ca-5d3c0c1d50d5",
   "metadata": {},
   "outputs": [
    {
     "name": "stdout",
     "output_type": "stream",
     "text": [
      "ap sahi nhi ho\n"
     ]
    }
   ],
   "source": [
    "if a==20:\n",
    "    print('me sahi hu')\n",
    "else:\n",
    "    print('ap sahi nhi ho')"
   ]
  },
  {
   "cell_type": "code",
   "execution_count": 56,
   "id": "21baf4f5-c109-4e38-b848-1038356c2797",
   "metadata": {},
   "outputs": [],
   "source": [
    "a = 30\n"
   ]
  },
  {
   "cell_type": "code",
   "execution_count": 66,
   "id": "0814f2e4-534a-40e1-beb8-abe0094626c2",
   "metadata": {},
   "outputs": [
    {
     "name": "stdout",
     "output_type": "stream",
     "text": [
      "wrong\n"
     ]
    }
   ],
   "source": [
    "if a==40:\n",
    "    print('Right')\n",
    "else:\n",
    "    print('wrong')"
   ]
  },
  {
   "cell_type": "code",
   "execution_count": 76,
   "id": "f4beba53-6898-4605-8d64-731568f80cf0",
   "metadata": {},
   "outputs": [
    {
     "name": "stdin",
     "output_type": "stream",
     "text": [
      "enter the value 5555\n"
     ]
    },
    {
     "name": "stdout",
     "output_type": "stream",
     "text": [
      "positive\n"
     ]
    }
   ],
   "source": [
    "#it is greater than 0, print positive, if it is less than 0 print negetive, if it is equale to zero\n",
    "num= int(input('enter the value'))\n",
    "if num>0:\n",
    "    print('positive')\n",
    "elif num<0:\n",
    "    print('negetive')\n",
    "else:\n",
    "    print('zero')"
   ]
  },
  {
   "cell_type": "code",
   "execution_count": 86,
   "id": "a318001d-f692-4913-b341-393a8ac7df98",
   "metadata": {},
   "outputs": [
    {
     "name": "stdin",
     "output_type": "stream",
     "text": [
      "enter the value 18\n"
     ]
    },
    {
     "name": "stdout",
     "output_type": "stream",
     "text": [
      "Eligible to vote\n"
     ]
    }
   ],
   "source": [
    "# A person age is 18 or greater than 'eligible to vote' otherwise not able to vote\n",
    "num =int(input('enter the value'))\n",
    "if num>=18:\n",
    "    print('Eligible to vote')\n",
    "else:\n",
    "    print('not eligible to vote')"
   ]
  },
  {
   "cell_type": "code",
   "execution_count": 88,
   "id": "07a1b7a4-6a2a-4825-978f-9c326c321490",
   "metadata": {},
   "outputs": [
    {
     "name": "stdin",
     "output_type": "stream",
     "text": [
      "enter the number 14\n"
     ]
    },
    {
     "name": "stdout",
     "output_type": "stream",
     "text": [
      "even\n"
     ]
    }
   ],
   "source": [
    "# Give a number if it is divisble by 2 than print even eiher odd\n",
    "num= int(input('enter the number'))\n",
    "if num%2==0:\n",
    "    print('even')\n",
    "else:\n",
    "    print('odd')"
   ]
  },
  {
   "cell_type": "code",
   "execution_count": 94,
   "id": "142af661-6553-4a83-b9a9-370ec9bc3658",
   "metadata": {},
   "outputs": [
    {
     "name": "stdin",
     "output_type": "stream",
     "text": [
      "enter the number 50\n"
     ]
    },
    {
     "name": "stdout",
     "output_type": "stream",
     "text": [
      "Divisble\n"
     ]
    }
   ],
   "source": [
    "# given a number, check if it is divisble ny both 5 and 10\n",
    "num= int(input('enter the number'))\n",
    "if num%5==0 and num%10==0:\n",
    "    print('Divisble')\n",
    "else:\n",
    "    print('not divisble')"
   ]
  },
  {
   "cell_type": "code",
   "execution_count": 96,
   "id": "3d0ad7c8-732a-431d-8f5b-d0420921b612",
   "metadata": {},
   "outputs": [
    {
     "name": "stdin",
     "output_type": "stream",
     "text": [
      "enter the age 16\n"
     ]
    },
    {
     "name": "stdout",
     "output_type": "stream",
     "text": [
      "Minor\n"
     ]
    }
   ],
   "source": [
    "# if the given age is 18 or greater, print 'adult' otherewise print 'minor'\n",
    "num =int(input('enter the age'))\n",
    "if num>=18:\n",
    "    print('Adult')\n",
    "else:\n",
    "    print('Minor')"
   ]
  },
  {
   "cell_type": "code",
   "execution_count": 98,
   "id": "59619698-b1b1-4ae8-9ab6-798c1573807f",
   "metadata": {},
   "outputs": [
    {
     "name": "stdin",
     "output_type": "stream",
     "text": [
      "enter the number 50\n"
     ]
    },
    {
     "name": "stdout",
     "output_type": "stream",
     "text": [
      "Smaller\n"
     ]
    }
   ],
   "source": [
    "#You have a number if it is greater than 50 print \"Greater\", otherwise print \"smaller\"\n",
    "num= int(input('enter the number'))\n",
    "if num>50:\n",
    "    print('Greater')\n",
    "else:\n",
    "    print('Smaller')"
   ]
  },
  {
   "cell_type": "code",
   "execution_count": 118,
   "id": "b1976ea6-c995-4362-9e76-b3fd76e4caa1",
   "metadata": {},
   "outputs": [
    {
     "name": "stdin",
     "output_type": "stream",
     "text": [
      "enter the Grade: A\n"
     ]
    },
    {
     "name": "stdout",
     "output_type": "stream",
     "text": [
      "Excellent\n"
     ]
    }
   ],
   "source": [
    "grade= input('enter the Grade:')\n",
    "if grade=='A':\n",
    "    print('Excellent')\n",
    "elif grade=='B':\n",
    "    print('Good')\n",
    "else:\n",
    "    print('Need improvement')\n",
    "    "
   ]
  },
  {
   "cell_type": "code",
   "execution_count": 122,
   "id": "ff4b0424-ee3a-4014-8b09-bb8ad41d5f9d",
   "metadata": {},
   "outputs": [
    {
     "name": "stdin",
     "output_type": "stream",
     "text": [
      "enter the number 45\n"
     ]
    },
    {
     "name": "stdout",
     "output_type": "stream",
     "text": [
      "Fizz\n"
     ]
    }
   ],
   "source": [
    "num= int(input('enter the number'))\n",
    "if num%3==0:\n",
    "    print('Fizz')\n",
    "elif num%5==0:\n",
    "    print('Buzz')\n",
    "elif num%3==0 and num%5==0:\n",
    "    print('Fizzbuzz')\n",
    "else:\n",
    "    print('Not')"
   ]
  },
  {
   "cell_type": "code",
   "execution_count": null,
   "id": "d381dca5-77aa-4d6a-ac7a-88e99407cdf6",
   "metadata": {},
   "outputs": [],
   "source": []
  }
 ],
 "metadata": {
  "kernelspec": {
   "display_name": "Python [conda env:base] *",
   "language": "python",
   "name": "conda-base-py"
  },
  "language_info": {
   "codemirror_mode": {
    "name": "ipython",
    "version": 3
   },
   "file_extension": ".py",
   "mimetype": "text/x-python",
   "name": "python",
   "nbconvert_exporter": "python",
   "pygments_lexer": "ipython3",
   "version": "3.12.7"
  }
 },
 "nbformat": 4,
 "nbformat_minor": 5
}

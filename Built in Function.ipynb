{
 "cells": [
  {
   "cell_type": "markdown",
   "id": "0a5b1bd1-113e-449c-accf-91fbb6cbd10b",
   "metadata": {},
   "source": [
    "Built in Function"
   ]
  },
  {
   "cell_type": "markdown",
   "id": "e10cc272-1959-4656-9a9f-d42fac65f428",
   "metadata": {},
   "source": [
    "Print"
   ]
  },
  {
   "cell_type": "code",
   "execution_count": 8,
   "id": "8e5321a4-3a8a-4193-944c-d87b498e4dd1",
   "metadata": {},
   "outputs": [
    {
     "name": "stdout",
     "output_type": "stream",
     "text": [
      "Jatin\n"
     ]
    }
   ],
   "source": [
    "print('Jatin')\n"
   ]
  },
  {
   "cell_type": "markdown",
   "id": "9c686ffc-99a0-4692-8ed9-efa0f5d75f3e",
   "metadata": {},
   "source": [
    "User Input-"
   ]
  },
  {
   "cell_type": "code",
   "execution_count": 34,
   "id": "0ab2b24f-e7e3-4016-bc11-0a61b1cb7da8",
   "metadata": {},
   "outputs": [
    {
     "name": "stdin",
     "output_type": "stream",
     "text": [
      "Enter your Age 20\n"
     ]
    },
    {
     "data": {
      "text/plain": [
       "'20'"
      ]
     },
     "execution_count": 34,
     "metadata": {},
     "output_type": "execute_result"
    }
   ],
   "source": [
    "input('Enter your Age')"
   ]
  },
  {
   "cell_type": "markdown",
   "id": "d67d4b85-d39a-4533-99c0-e1be7149b5ed",
   "metadata": {},
   "source": [
    "Type-"
   ]
  },
  {
   "cell_type": "code",
   "execution_count": 14,
   "id": "d6c7c1a9-0010-48bd-8f2c-30dc91891cd3",
   "metadata": {},
   "outputs": [],
   "source": [
    "a=35\n"
   ]
  },
  {
   "cell_type": "code",
   "execution_count": 16,
   "id": "25c6097e-d16d-4c83-a084-7e4ae668c015",
   "metadata": {},
   "outputs": [
    {
     "data": {
      "text/plain": [
       "int"
      ]
     },
     "execution_count": 16,
     "metadata": {},
     "output_type": "execute_result"
    }
   ],
   "source": [
    "type(a)"
   ]
  },
  {
   "cell_type": "code",
   "execution_count": 18,
   "id": "bad00b50-f3f0-492e-8f4d-93f2a5506a6b",
   "metadata": {},
   "outputs": [],
   "source": [
    "b=5.667"
   ]
  },
  {
   "cell_type": "code",
   "execution_count": 20,
   "id": "edd12596-63e7-4683-8e05-058ada886865",
   "metadata": {},
   "outputs": [
    {
     "data": {
      "text/plain": [
       "float"
      ]
     },
     "execution_count": 20,
     "metadata": {},
     "output_type": "execute_result"
    }
   ],
   "source": [
    "type(b)"
   ]
  },
  {
   "cell_type": "code",
   "execution_count": 22,
   "id": "2e1651da-5a95-4aa3-844d-061b39c3fee3",
   "metadata": {},
   "outputs": [],
   "source": [
    "c=('Rahul', 355, True)"
   ]
  },
  {
   "cell_type": "code",
   "execution_count": 24,
   "id": "c28e7e98-956c-44d8-a9b3-91a4cb70048a",
   "metadata": {},
   "outputs": [
    {
     "data": {
      "text/plain": [
       "tuple"
      ]
     },
     "execution_count": 24,
     "metadata": {},
     "output_type": "execute_result"
    }
   ],
   "source": [
    "type(c)"
   ]
  },
  {
   "cell_type": "markdown",
   "id": "2ed03d40-631b-4ce0-8ac2-2a209abd6218",
   "metadata": {},
   "source": [
    "abs-"
   ]
  },
  {
   "cell_type": "code",
   "execution_count": 27,
   "id": "76783fd1-e1e6-40b8-914e-820187fd92c9",
   "metadata": {},
   "outputs": [
    {
     "data": {
      "text/plain": [
       "3"
      ]
     },
     "execution_count": 27,
     "metadata": {},
     "output_type": "execute_result"
    }
   ],
   "source": [
    "abs(-3)"
   ]
  },
  {
   "cell_type": "code",
   "execution_count": 29,
   "id": "8a414877-be3d-4b61-a4ff-ba077cefe7b3",
   "metadata": {},
   "outputs": [],
   "source": [
    "a=-55"
   ]
  },
  {
   "cell_type": "code",
   "execution_count": 31,
   "id": "286081dd-3b35-4311-86e2-64cf2a975ab6",
   "metadata": {},
   "outputs": [
    {
     "data": {
      "text/plain": [
       "55"
      ]
     },
     "execution_count": 31,
     "metadata": {},
     "output_type": "execute_result"
    }
   ],
   "source": [
    "abs(a)"
   ]
  },
  {
   "cell_type": "markdown",
   "id": "061e1eb5-005a-4e20-a438-6107b741eb9b",
   "metadata": {},
   "source": [
    "Pow-"
   ]
  },
  {
   "cell_type": "code",
   "execution_count": 37,
   "id": "3bf5f722-bb55-4840-b104-b0b5aa65fc0b",
   "metadata": {},
   "outputs": [
    {
     "data": {
      "text/plain": [
       "9"
      ]
     },
     "execution_count": 37,
     "metadata": {},
     "output_type": "execute_result"
    }
   ],
   "source": [
    "pow(3,2)"
   ]
  },
  {
   "cell_type": "code",
   "execution_count": 39,
   "id": "3c293a56-52b9-47ee-83fc-88758f66dd4b",
   "metadata": {},
   "outputs": [
    {
     "data": {
      "text/plain": [
       "1331"
      ]
     },
     "execution_count": 39,
     "metadata": {},
     "output_type": "execute_result"
    }
   ],
   "source": [
    "pow(11,3)"
   ]
  },
  {
   "cell_type": "code",
   "execution_count": 41,
   "id": "d7435e50-45eb-4011-83aa-33fdee10f70e",
   "metadata": {},
   "outputs": [
    {
     "data": {
      "text/plain": [
       "81"
      ]
     },
     "execution_count": 41,
     "metadata": {},
     "output_type": "execute_result"
    }
   ],
   "source": [
    "pow(3,4)"
   ]
  },
  {
   "cell_type": "markdown",
   "id": "cb4687f0-0623-469f-a439-c4a43d1fea39",
   "metadata": {},
   "source": [
    "Min/Max\n"
   ]
  },
  {
   "cell_type": "code",
   "execution_count": 46,
   "id": "1e0ad7d4-069e-4238-96c8-a914703845cd",
   "metadata": {},
   "outputs": [
    {
     "data": {
      "text/plain": [
       "3"
      ]
     },
     "execution_count": 46,
     "metadata": {},
     "output_type": "execute_result"
    }
   ],
   "source": [
    "min(3,6,8,21,4,8)"
   ]
  },
  {
   "cell_type": "code",
   "execution_count": 50,
   "id": "8d7486d8-7920-4b44-819b-ff79a40555a1",
   "metadata": {},
   "outputs": [
    {
     "data": {
      "text/plain": [
       "'a'"
      ]
     },
     "execution_count": 50,
     "metadata": {},
     "output_type": "execute_result"
    }
   ],
   "source": [
    "min('rahul')"
   ]
  },
  {
   "cell_type": "code",
   "execution_count": 52,
   "id": "eb9797d7-fb4e-433e-a0e5-5afd7628f704",
   "metadata": {},
   "outputs": [
    {
     "data": {
      "text/plain": [
       "356"
      ]
     },
     "execution_count": 52,
     "metadata": {},
     "output_type": "execute_result"
    }
   ],
   "source": [
    "max(5,6,88,44,356,35)"
   ]
  },
  {
   "cell_type": "code",
   "execution_count": 54,
   "id": "aa4cf694-1a2a-4c4d-afa5-3aecbdf0f11c",
   "metadata": {},
   "outputs": [
    {
     "data": {
      "text/plain": [
       "'t'"
      ]
     },
     "execution_count": 54,
     "metadata": {},
     "output_type": "execute_result"
    }
   ],
   "source": [
    "max('jatin')"
   ]
  },
  {
   "cell_type": "markdown",
   "id": "09d8d2ce-4e7b-4e28-8618-91a2a7cd11b0",
   "metadata": {},
   "source": [
    "Round-"
   ]
  },
  {
   "cell_type": "code",
   "execution_count": 57,
   "id": "87e18377-7af7-4644-a87d-2a8430e65aa7",
   "metadata": {},
   "outputs": [],
   "source": [
    "c=34/3"
   ]
  },
  {
   "cell_type": "code",
   "execution_count": 59,
   "id": "0ef7d744-27cb-4679-8ded-4532184ee990",
   "metadata": {},
   "outputs": [
    {
     "data": {
      "text/plain": [
       "11"
      ]
     },
     "execution_count": 59,
     "metadata": {},
     "output_type": "execute_result"
    }
   ],
   "source": [
    "round(c)"
   ]
  },
  {
   "cell_type": "code",
   "execution_count": 61,
   "id": "3283b228-5fb5-44d7-a33e-d710db18546a",
   "metadata": {},
   "outputs": [
    {
     "data": {
      "text/plain": [
       "11.333"
      ]
     },
     "execution_count": 61,
     "metadata": {},
     "output_type": "execute_result"
    }
   ],
   "source": [
    "round(c,3)"
   ]
  },
  {
   "cell_type": "markdown",
   "id": "46f0a3a3-af6b-4054-b4a0-1d4bdc4f7b6f",
   "metadata": {},
   "source": [
    "Divmod-\n"
   ]
  },
  {
   "cell_type": "code",
   "execution_count": 64,
   "id": "b6f42803-b32f-4c3e-bbb4-7dca138068c4",
   "metadata": {},
   "outputs": [
    {
     "data": {
      "text/plain": [
       "(2, 1)"
      ]
     },
     "execution_count": 64,
     "metadata": {},
     "output_type": "execute_result"
    }
   ],
   "source": [
    "divmod(5,2)"
   ]
  },
  {
   "cell_type": "code",
   "execution_count": 102,
   "id": "4ebbc248-9b05-44f5-88f0-e35390cf88e5",
   "metadata": {},
   "outputs": [
    {
     "data": {
      "text/plain": [
       "(7, 2)"
      ]
     },
     "execution_count": 102,
     "metadata": {},
     "output_type": "execute_result"
    }
   ],
   "source": [
    "divmod(30,4)"
   ]
  },
  {
   "cell_type": "markdown",
   "id": "83743bfe-807c-49f8-98f0-421c42eb1e4f",
   "metadata": {},
   "source": [
    "Id-\n"
   ]
  },
  {
   "cell_type": "code",
   "execution_count": 111,
   "id": "07ebfc48-1b50-441a-bc95-a309b7ce516b",
   "metadata": {},
   "outputs": [
    {
     "data": {
      "text/plain": [
       "140703275035192"
      ]
     },
     "execution_count": 111,
     "metadata": {},
     "output_type": "execute_result"
    }
   ],
   "source": [
    "a=5\n",
    "id(a)"
   ]
  },
  {
   "cell_type": "markdown",
   "id": "cc74233f-0ec4-4f37-9954-67cdbd999f3a",
   "metadata": {},
   "source": [
    "len-\n",
    "\n"
   ]
  },
  {
   "cell_type": "code",
   "execution_count": 69,
   "id": "8cb8c02e-1a3f-4c90-8961-3ea6ef016435",
   "metadata": {},
   "outputs": [
    {
     "data": {
      "text/plain": [
       "6"
      ]
     },
     "execution_count": 69,
     "metadata": {},
     "output_type": "execute_result"
    }
   ],
   "source": [
    "len('Mumbai')"
   ]
  },
  {
   "cell_type": "code",
   "execution_count": 83,
   "id": "f15c64c6-fbcd-4ca0-87f2-b5e9abb72ba8",
   "metadata": {},
   "outputs": [
    {
     "data": {
      "text/plain": [
       "8"
      ]
     },
     "execution_count": 83,
     "metadata": {},
     "output_type": "execute_result"
    }
   ],
   "source": [
    "len('Rajsthan')"
   ]
  },
  {
   "cell_type": "code",
   "execution_count": 87,
   "id": "2eb9e374-1ddf-43b0-b16e-dddda17aa159",
   "metadata": {},
   "outputs": [
    {
     "data": {
      "text/plain": [
       "3"
      ]
     },
     "execution_count": 87,
     "metadata": {},
     "output_type": "execute_result"
    }
   ],
   "source": [
    "len([4,6,2])"
   ]
  },
  {
   "cell_type": "markdown",
   "id": "6b8b3f34-61c8-447f-a190-1c86b560038d",
   "metadata": {},
   "source": [
    "Sum-"
   ]
  },
  {
   "cell_type": "code",
   "execution_count": 91,
   "id": "c38374bf-d992-4ccd-b6fb-231b8364c4f8",
   "metadata": {},
   "outputs": [],
   "source": [
    "a=([1,2,3,4,5])"
   ]
  },
  {
   "cell_type": "code",
   "execution_count": 93,
   "id": "f39e1b0e-b383-4009-a0e1-ee7489354dfc",
   "metadata": {},
   "outputs": [
    {
     "data": {
      "text/plain": [
       "15"
      ]
     },
     "execution_count": 93,
     "metadata": {},
     "output_type": "execute_result"
    }
   ],
   "source": [
    "sum(a)"
   ]
  },
  {
   "cell_type": "code",
   "execution_count": 95,
   "id": "09be4ccb-d2a4-41e9-ad7a-bd9c17a317be",
   "metadata": {},
   "outputs": [
    {
     "data": {
      "text/plain": [
       "154"
      ]
     },
     "execution_count": 95,
     "metadata": {},
     "output_type": "execute_result"
    }
   ],
   "source": [
    "sum([44,22,33,55])"
   ]
  },
  {
   "cell_type": "markdown",
   "id": "d3b65a5d-7d59-4926-8e9d-b278484ffa5f",
   "metadata": {},
   "source": [
    "Help-"
   ]
  },
  {
   "cell_type": "code",
   "execution_count": 98,
   "id": "41d9f7ac-73f2-4750-ac16-f56cce231281",
   "metadata": {},
   "outputs": [
    {
     "name": "stdout",
     "output_type": "stream",
     "text": [
      "Help on built-in function print in module builtins:\n",
      "\n",
      "print(*args, sep=' ', end='\\n', file=None, flush=False)\n",
      "    Prints the values to a stream, or to sys.stdout by default.\n",
      "\n",
      "    sep\n",
      "      string inserted between values, default a space.\n",
      "    end\n",
      "      string appended after the last value, default a newline.\n",
      "    file\n",
      "      a file-like object (stream); defaults to the current sys.stdout.\n",
      "    flush\n",
      "      whether to forcibly flush the stream.\n",
      "\n"
     ]
    }
   ],
   "source": [
    "help(print)"
   ]
  },
  {
   "cell_type": "code",
   "execution_count": 100,
   "id": "5e9298f4-80dd-4936-9e10-fca48c6c9753",
   "metadata": {},
   "outputs": [
    {
     "name": "stdout",
     "output_type": "stream",
     "text": [
      "Help on built-in function len in module builtins:\n",
      "\n",
      "len(obj, /)\n",
      "    Return the number of items in a container.\n",
      "\n"
     ]
    }
   ],
   "source": [
    "help(len)"
   ]
  },
  {
   "cell_type": "code",
   "execution_count": 113,
   "id": "1e48279c-b8a2-49df-899c-c95d198ed8a9",
   "metadata": {},
   "outputs": [
    {
     "name": "stdout",
     "output_type": "stream",
     "text": [
      "Help on class range in module builtins:\n",
      "\n",
      "class range(object)\n",
      " |  range(stop) -> range object\n",
      " |  range(start, stop[, step]) -> range object\n",
      " |\n",
      " |  Return an object that produces a sequence of integers from start (inclusive)\n",
      " |  to stop (exclusive) by step.  range(i, j) produces i, i+1, i+2, ..., j-1.\n",
      " |  start defaults to 0, and stop is omitted!  range(4) produces 0, 1, 2, 3.\n",
      " |  These are exactly the valid indices for a list of 4 elements.\n",
      " |  When step is given, it specifies the increment (or decrement).\n",
      " |\n",
      " |  Methods defined here:\n",
      " |\n",
      " |  __bool__(self, /)\n",
      " |      True if self else False\n",
      " |\n",
      " |  __contains__(self, key, /)\n",
      " |      Return bool(key in self).\n",
      " |\n",
      " |  __eq__(self, value, /)\n",
      " |      Return self==value.\n",
      " |\n",
      " |  __ge__(self, value, /)\n",
      " |      Return self>=value.\n",
      " |\n",
      " |  __getattribute__(self, name, /)\n",
      " |      Return getattr(self, name).\n",
      " |\n",
      " |  __getitem__(self, key, /)\n",
      " |      Return self[key].\n",
      " |\n",
      " |  __gt__(self, value, /)\n",
      " |      Return self>value.\n",
      " |\n",
      " |  __hash__(self, /)\n",
      " |      Return hash(self).\n",
      " |\n",
      " |  __iter__(self, /)\n",
      " |      Implement iter(self).\n",
      " |\n",
      " |  __le__(self, value, /)\n",
      " |      Return self<=value.\n",
      " |\n",
      " |  __len__(self, /)\n",
      " |      Return len(self).\n",
      " |\n",
      " |  __lt__(self, value, /)\n",
      " |      Return self<value.\n",
      " |\n",
      " |  __ne__(self, value, /)\n",
      " |      Return self!=value.\n",
      " |\n",
      " |  __reduce__(...)\n",
      " |      Helper for pickle.\n",
      " |\n",
      " |  __repr__(self, /)\n",
      " |      Return repr(self).\n",
      " |\n",
      " |  __reversed__(...)\n",
      " |      Return a reverse iterator.\n",
      " |\n",
      " |  count(...)\n",
      " |      rangeobject.count(value) -> integer -- return number of occurrences of value\n",
      " |\n",
      " |  index(...)\n",
      " |      rangeobject.index(value) -> integer -- return index of value.\n",
      " |      Raise ValueError if the value is not present.\n",
      " |\n",
      " |  ----------------------------------------------------------------------\n",
      " |  Static methods defined here:\n",
      " |\n",
      " |  __new__(*args, **kwargs)\n",
      " |      Create and return a new object.  See help(type) for accurate signature.\n",
      " |\n",
      " |  ----------------------------------------------------------------------\n",
      " |  Data descriptors defined here:\n",
      " |\n",
      " |  start\n",
      " |\n",
      " |  step\n",
      " |\n",
      " |  stop\n",
      "\n"
     ]
    }
   ],
   "source": [
    "help(range)"
   ]
  },
  {
   "cell_type": "code",
   "execution_count": null,
   "id": "1fc19e64-5f93-47e7-9ed1-0908b944a7df",
   "metadata": {},
   "outputs": [],
   "source": []
  }
 ],
 "metadata": {
  "kernelspec": {
   "display_name": "Python [conda env:base] *",
   "language": "python",
   "name": "conda-base-py"
  },
  "language_info": {
   "codemirror_mode": {
    "name": "ipython",
    "version": 3
   },
   "file_extension": ".py",
   "mimetype": "text/x-python",
   "name": "python",
   "nbconvert_exporter": "python",
   "pygments_lexer": "ipython3",
   "version": "3.12.7"
  }
 },
 "nbformat": 4,
 "nbformat_minor": 5
}

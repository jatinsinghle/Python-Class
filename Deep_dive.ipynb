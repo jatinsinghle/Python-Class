{
 "cells": [
  {
   "cell_type": "markdown",
   "id": "560a35ae-2cd5-4093-b852-41a0995fcf35",
   "metadata": {},
   "source": [
    "Deep Dive: Mutability, Variable Referencing & Garbage Collection in Python\n",
    "\n",
    "1. Variable and Memory References"
   ]
  },
  {
   "cell_type": "code",
   "execution_count": 4,
   "id": "4d6fa0a6-dfea-4a6f-be7d-98d0533d3835",
   "metadata": {},
   "outputs": [],
   "source": [
    "a=10"
   ]
  },
  {
   "cell_type": "code",
   "execution_count": 8,
   "id": "7db3fd9b-3f2c-49f7-94b2-91581f33f8a5",
   "metadata": {},
   "outputs": [
    {
     "data": {
      "text/plain": [
       "140708396411608"
      ]
     },
     "execution_count": 8,
     "metadata": {},
     "output_type": "execute_result"
    }
   ],
   "source": [
    "id(a)\n"
   ]
  },
  {
   "cell_type": "code",
   "execution_count": 10,
   "id": "412c974c-b1d2-443e-a43a-32d935544364",
   "metadata": {},
   "outputs": [
    {
     "data": {
      "text/plain": [
       "140708396411608"
      ]
     },
     "execution_count": 10,
     "metadata": {},
     "output_type": "execute_result"
    }
   ],
   "source": [
    "id(10)"
   ]
  },
  {
   "cell_type": "markdown",
   "id": "fb408c90-9760-4e81-a958-caf0d465f87c",
   "metadata": {},
   "source": [
    "2. Call by Object Reference (Python का Memory Model)\n",
    "\n",
    "Example 1: Immutable Object"
   ]
  },
  {
   "cell_type": "code",
   "execution_count": 27,
   "id": "38c9d709-ab38-4a65-91e0-acdcb733f479",
   "metadata": {},
   "outputs": [],
   "source": [
    "a=12\n",
    "b=a"
   ]
  },
  {
   "cell_type": "code",
   "execution_count": 29,
   "id": "bdaa6149-ac98-4f64-b3ac-0449fd4cfdc5",
   "metadata": {},
   "outputs": [
    {
     "name": "stdout",
     "output_type": "stream",
     "text": [
      "140708396411672 140708396411672\n"
     ]
    }
   ],
   "source": [
    "print(id(a), id(b)) #Both have a same id \n"
   ]
  },
  {
   "cell_type": "code",
   "execution_count": 33,
   "id": "21764f15-0e77-4fb4-a81d-c6beda65378c",
   "metadata": {},
   "outputs": [
    {
     "name": "stdout",
     "output_type": "stream",
     "text": [
      "140708396411928 140708396411672\n"
     ]
    }
   ],
   "source": [
    "a=20\n",
    "print(id(a), id(b)) #now a have a new id"
   ]
  },
  {
   "cell_type": "markdown",
   "id": "b8a2fa88-de67-4dd3-b7c4-70e504b6570f",
   "metadata": {},
   "source": [
    "Example 2: Mutable Object"
   ]
  },
  {
   "cell_type": "code",
   "execution_count": 40,
   "id": "def4a112-5b6a-4edb-9f7b-dd088f434df1",
   "metadata": {},
   "outputs": [],
   "source": [
    "list1= [1,2,3]\n",
    "list2=list1\n",
    "list1.append(4)"
   ]
  },
  {
   "cell_type": "code",
   "execution_count": 47,
   "id": "fa425b16-c43a-410b-8601-335fb325b394",
   "metadata": {},
   "outputs": [
    {
     "name": "stdout",
     "output_type": "stream",
     "text": [
      "[1, 2, 3, 4]\n",
      "[1, 2, 3, 4]\n",
      "2525231009664 2525231009664\n"
     ]
    }
   ],
   "source": [
    "print(list1)\n",
    "print(list2)\n",
    "print(id(list1), id(list2))#both have same memory address "
   ]
  },
  {
   "cell_type": "markdown",
   "id": "e28a9f2b-3250-46f0-8174-36114a6eafe0",
   "metadata": {},
   "source": [
    "4. Copy vs. Deep Copy (Shallow vs. Deep Copy)"
   ]
  },
  {
   "cell_type": "code",
   "execution_count": 52,
   "id": "97b5a56a-14b3-42ec-9bc8-6100f0dd0702",
   "metadata": {},
   "outputs": [
    {
     "name": "stdout",
     "output_type": "stream",
     "text": [
      "[[1, 2, 3, 10], [4, 5, 6]]\n",
      "[[1, 2, 3, 10], [4, 5, 6]]\n"
     ]
    }
   ],
   "source": [
    "import copy\n",
    "list1= [[1,2,3],[4,5,6]]\n",
    "list2= copy.copy(list1) #shallow copy\n",
    "\n",
    "list1[0].append(10)\n",
    "print(list1)\n",
    "print(list2) #Nested object also changed"
   ]
  },
  {
   "cell_type": "code",
   "execution_count": 56,
   "id": "68dcdcb4-f7ab-44c5-a01a-d9d72c4078a1",
   "metadata": {},
   "outputs": [
    {
     "name": "stdout",
     "output_type": "stream",
     "text": [
      "[[1, 2, 3, 10, 20, 20], [4, 5, 6]]\n",
      "[[1, 2, 3, 10, 20], [4, 5, 6]]\n"
     ]
    }
   ],
   "source": [
    "list3= copy.deepcopy(list1)\n",
    "list1[0].append(20)\n",
    "print(list1)\n",
    "print(list3) #(independent copy)"
   ]
  },
  {
   "cell_type": "markdown",
   "id": "d0b03001-461c-4466-a0df-e3def946681b",
   "metadata": {},
   "source": [
    "5. Garbage Collection (GC) & Reference Counting\n"
   ]
  },
  {
   "cell_type": "code",
   "execution_count": 65,
   "id": "1ff16601-1092-4af4-90d1-42e3d31cb60e",
   "metadata": {},
   "outputs": [
    {
     "name": "stdout",
     "output_type": "stream",
     "text": [
      "3\n",
      "2\n"
     ]
    }
   ],
   "source": [
    "import sys\n",
    "a=[1,2,3]\n",
    "b=a \n",
    "print(sys.getrefcount(a))# Output: 3 (a, b और getrefcount खुद refer कर रहे हैं)\n",
    "del a # delete (a)\n",
    "print(sys.getrefcount(b))"
   ]
  },
  {
   "cell_type": "code",
   "execution_count": 67,
   "id": "429c3aec-031d-4258-a493-d7ac1d20ca72",
   "metadata": {},
   "outputs": [
    {
     "name": "stdout",
     "output_type": "stream",
     "text": [
      "3\n",
      "2\n"
     ]
    }
   ],
   "source": [
    "import sys\n",
    "a=[1,2,3,4,5,6]\n",
    "b=a \n",
    "print(sys.getrefcount(a))# Output: 3 (a, b और getrefcount खुद refer कर रहे हैं)\n",
    "del a # delete (a)\n",
    "print(sys.getrefcount(b))"
   ]
  },
  {
   "cell_type": "code",
   "execution_count": 69,
   "id": "33acf6dd-2321-49bc-976a-2510479111db",
   "metadata": {},
   "outputs": [],
   "source": [
    "c=[1,2,3,5,6,7]\n",
    "d=c\n"
   ]
  },
  {
   "cell_type": "code",
   "execution_count": 71,
   "id": "1b9a04f8-3039-4007-ab63-64699bb261ac",
   "metadata": {},
   "outputs": [
    {
     "name": "stdout",
     "output_type": "stream",
     "text": [
      "3\n"
     ]
    }
   ],
   "source": [
    "print(sys.getrefcount(c))\n"
   ]
  },
  {
   "cell_type": "code",
   "execution_count": 77,
   "id": "68501831-39d3-4767-85c4-7f1c5d773595",
   "metadata": {},
   "outputs": [
    {
     "name": "stdout",
     "output_type": "stream",
     "text": [
      "2\n"
     ]
    }
   ],
   "source": [
    "del c\n",
    "print(sys.getrefcount(d))"
   ]
  },
  {
   "cell_type": "markdown",
   "id": "77d36d05-1dd4-4fc7-91b3-fe86d62e348a",
   "metadata": {},
   "source": [
    "6. Garbage Collector (gc Module)"
   ]
  },
  {
   "cell_type": "code",
   "execution_count": 80,
   "id": "4814b87f-98a2-4b0f-a93f-ffcd1342151a",
   "metadata": {},
   "outputs": [],
   "source": [
    "import gc\n"
   ]
  },
  {
   "cell_type": "code",
   "execution_count": 84,
   "id": "88143124-4df1-4de1-9058-c90e829f9686",
   "metadata": {},
   "outputs": [
    {
     "name": "stdout",
     "output_type": "stream",
     "text": [
      "True\n"
     ]
    }
   ],
   "source": [
    "print(gc.isenabled())"
   ]
  },
  {
   "cell_type": "code",
   "execution_count": 92,
   "id": "1daafce8-147d-405e-9e11-f4948cda7c6d",
   "metadata": {},
   "outputs": [],
   "source": [
    "gc.disable()"
   ]
  },
  {
   "cell_type": "code",
   "execution_count": 96,
   "id": "a6232000-2a81-4e81-bf4f-32620fed03fe",
   "metadata": {},
   "outputs": [],
   "source": [
    "gc.enable()"
   ]
  },
  {
   "cell_type": "code",
   "execution_count": 98,
   "id": "615bffa0-4d4c-4fe5-882b-d20347af1903",
   "metadata": {},
   "outputs": [
    {
     "data": {
      "text/plain": [
       "294"
      ]
     },
     "execution_count": 98,
     "metadata": {},
     "output_type": "execute_result"
    }
   ],
   "source": [
    "gc.collect()"
   ]
  },
  {
   "cell_type": "markdown",
   "id": "00275be3-c2b8-4666-b00b-36ac39c521b6",
   "metadata": {},
   "source": [
    "7. is vs. == (Identity vs. Equality Comparison)"
   ]
  },
  {
   "cell_type": "code",
   "execution_count": 101,
   "id": "6aff7fc6-860e-44ed-9a26-7b6e32899983",
   "metadata": {},
   "outputs": [],
   "source": [
    "a= [1,2,3]\n",
    "b=a\n",
    "c= [1,2,3]\n"
   ]
  },
  {
   "cell_type": "code",
   "execution_count": 105,
   "id": "eff929d0-b3d6-41f2-9da9-c4b115ea88ec",
   "metadata": {},
   "outputs": [
    {
     "name": "stdout",
     "output_type": "stream",
     "text": [
      "True\n",
      "False\n",
      "True\n"
     ]
    }
   ],
   "source": [
    "print(a==c) # same value\n",
    "print(a is c) #Different memory address\n",
    "print(a is b) #same address"
   ]
  },
  {
   "cell_type": "code",
   "execution_count": null,
   "id": "ba354922-2f97-4578-945a-83b3ba3b7e76",
   "metadata": {},
   "outputs": [],
   "source": []
  }
 ],
 "metadata": {
  "kernelspec": {
   "display_name": "Python [conda env:base] *",
   "language": "python",
   "name": "conda-base-py"
  },
  "language_info": {
   "codemirror_mode": {
    "name": "ipython",
    "version": 3
   },
   "file_extension": ".py",
   "mimetype": "text/x-python",
   "name": "python",
   "nbconvert_exporter": "python",
   "pygments_lexer": "ipython3",
   "version": "3.12.7"
  }
 },
 "nbformat": 4,
 "nbformat_minor": 5
}

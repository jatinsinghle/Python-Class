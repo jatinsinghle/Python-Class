{
 "cells": [
  {
   "cell_type": "markdown",
   "id": "0d277e6d-7afe-471e-8e6e-50025ceac50d",
   "metadata": {},
   "source": [
    "Data type"
   ]
  },
  {
   "cell_type": "code",
   "execution_count": 10,
   "id": "911d855d-6ad4-48b4-b377-0ea2a56281e3",
   "metadata": {},
   "outputs": [],
   "source": [
    "a = 5"
   ]
  },
  {
   "cell_type": "code",
   "execution_count": 12,
   "id": "e7c88c58-3adb-429d-8306-9ea1e4471f5e",
   "metadata": {},
   "outputs": [
    {
     "data": {
      "text/plain": [
       "5"
      ]
     },
     "execution_count": 12,
     "metadata": {},
     "output_type": "execute_result"
    }
   ],
   "source": [
    "a"
   ]
  },
  {
   "cell_type": "code",
   "execution_count": 14,
   "id": "c898ec0f-2fa6-4c94-9612-09d59d3c1776",
   "metadata": {},
   "outputs": [
    {
     "data": {
      "text/plain": [
       "int"
      ]
     },
     "execution_count": 14,
     "metadata": {},
     "output_type": "execute_result"
    }
   ],
   "source": [
    "type(a)"
   ]
  },
  {
   "cell_type": "code",
   "execution_count": 16,
   "id": "57964124-e21f-4b5c-a2fe-d2efa394dc4b",
   "metadata": {},
   "outputs": [],
   "source": [
    "room=5"
   ]
  },
  {
   "cell_type": "code",
   "execution_count": 22,
   "id": "eef61aa5-6f85-44f3-b018-502c28e94721",
   "metadata": {},
   "outputs": [
    {
     "name": "stdout",
     "output_type": "stream",
     "text": [
      "5\n"
     ]
    }
   ],
   "source": [
    "print(room)"
   ]
  },
  {
   "cell_type": "code",
   "execution_count": 24,
   "id": "c1b574c1-688f-494c-b0a0-c34feb73cb07",
   "metadata": {},
   "outputs": [
    {
     "data": {
      "text/plain": [
       "5"
      ]
     },
     "execution_count": 24,
     "metadata": {},
     "output_type": "execute_result"
    }
   ],
   "source": [
    "room"
   ]
  },
  {
   "cell_type": "code",
   "execution_count": 26,
   "id": "e7ed7251-8996-4aaf-bfd7-8557f6ce9550",
   "metadata": {},
   "outputs": [
    {
     "data": {
      "text/plain": [
       "int"
      ]
     },
     "execution_count": 26,
     "metadata": {},
     "output_type": "execute_result"
    }
   ],
   "source": [
    "type(room)"
   ]
  },
  {
   "cell_type": "code",
   "execution_count": 28,
   "id": "e8efbae2-5466-4654-ba2e-d2635a094ff8",
   "metadata": {},
   "outputs": [],
   "source": [
    "b=4.5"
   ]
  },
  {
   "cell_type": "code",
   "execution_count": 30,
   "id": "0a3b5583-4ab6-4dee-800a-6814680e1d45",
   "metadata": {},
   "outputs": [
    {
     "data": {
      "text/plain": [
       "float"
      ]
     },
     "execution_count": 30,
     "metadata": {},
     "output_type": "execute_result"
    }
   ],
   "source": [
    "type(b)"
   ]
  },
  {
   "cell_type": "code",
   "execution_count": 34,
   "id": "459a9b96-03eb-48df-b035-8775856ff0ba",
   "metadata": {},
   "outputs": [
    {
     "name": "stdout",
     "output_type": "stream",
     "text": [
      "<class 'float'>\n"
     ]
    }
   ],
   "source": [
    "print(type(4.5))"
   ]
  },
  {
   "cell_type": "code",
   "execution_count": 36,
   "id": "ccb17902-65cf-4823-81ab-8f98ecd34dbe",
   "metadata": {},
   "outputs": [
    {
     "name": "stdout",
     "output_type": "stream",
     "text": [
      "(4+5j)\n"
     ]
    }
   ],
   "source": [
    "print(4+5j)"
   ]
  },
  {
   "cell_type": "code",
   "execution_count": 42,
   "id": "d29088d1-578b-44c4-bab0-ab2a1536feff",
   "metadata": {},
   "outputs": [
    {
     "name": "stdout",
     "output_type": "stream",
     "text": [
      "True\n"
     ]
    }
   ],
   "source": [
    "print(True)"
   ]
  },
  {
   "cell_type": "code",
   "execution_count": 44,
   "id": "98cfdbda-e678-45c3-a6ec-7b8f2bfbe2d5",
   "metadata": {},
   "outputs": [
    {
     "name": "stdout",
     "output_type": "stream",
     "text": [
      "False\n"
     ]
    }
   ],
   "source": [
    "print(False)"
   ]
  },
  {
   "cell_type": "code",
   "execution_count": 48,
   "id": "b40258f7-6131-419d-9f22-f0a13752243d",
   "metadata": {},
   "outputs": [
    {
     "data": {
      "text/plain": [
       "1"
      ]
     },
     "execution_count": 48,
     "metadata": {},
     "output_type": "execute_result"
    }
   ],
   "source": [
    "True+False#"
   ]
  },
  {
   "cell_type": "code",
   "execution_count": 54,
   "id": "63571415-038f-40c2-812e-12b127fa0567",
   "metadata": {},
   "outputs": [
    {
     "data": {
      "text/plain": [
       "2"
      ]
     },
     "execution_count": 54,
     "metadata": {},
     "output_type": "execute_result"
    }
   ],
   "source": [
    "True+True#1+1"
   ]
  },
  {
   "cell_type": "code",
   "execution_count": 56,
   "id": "16ee6363-bc84-4832-af5a-b3e5586a9fbf",
   "metadata": {},
   "outputs": [
    {
     "data": {
      "text/plain": [
       "0"
      ]
     },
     "execution_count": 56,
     "metadata": {},
     "output_type": "execute_result"
    }
   ],
   "source": [
    "False+False#0+0"
   ]
  },
  {
   "cell_type": "code",
   "execution_count": null,
   "id": "239f0ebe-eb05-4d15-a8b4-5706b02f6e32",
   "metadata": {},
   "outputs": [],
   "source": []
  }
 ],
 "metadata": {
  "kernelspec": {
   "display_name": "Python [conda env:base] *",
   "language": "python",
   "name": "conda-base-py"
  },
  "language_info": {
   "codemirror_mode": {
    "name": "ipython",
    "version": 3
   },
   "file_extension": ".py",
   "mimetype": "text/x-python",
   "name": "python",
   "nbconvert_exporter": "python",
   "pygments_lexer": "ipython3",
   "version": "3.12.7"
  }
 },
 "nbformat": 4,
 "nbformat_minor": 5
}

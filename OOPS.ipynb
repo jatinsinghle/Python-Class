{
 "cells": [
  {
   "cell_type": "code",
   "execution_count": 3,
   "id": "a6686d9d-4bc7-4150-af0c-6c79c4b931d9",
   "metadata": {},
   "outputs": [
    {
     "name": "stdout",
     "output_type": "stream",
     "text": [
      "jatin\n",
      "jatin\n",
      "\n"
     ]
    }
   ],
   "source": [
    "class Test:\n",
    "    def __init__(self):\n",
    "        print(\"jatin\")\n",
    "        \n",
    "t1=Test()\n",
    "t2=Test()#__init__ method call \n",
    "print()"
   ]
  },
  {
   "cell_type": "code",
   "execution_count": 5,
   "id": "2cc01e08-54c7-4bb2-8a5c-313c7f554bf4",
   "metadata": {},
   "outputs": [],
   "source": [
    " class Test:\n",
    "    def __init__(self,a,b):\n",
    "        self.a=a\n",
    "        self.b=b\n",
    "r1=Test(3,4)        \n",
    "        "
   ]
  },
  {
   "cell_type": "code",
   "execution_count": 9,
   "id": "d00deb8f-fadd-44f1-a6b4-016a6d0f882a",
   "metadata": {},
   "outputs": [
    {
     "name": "stdout",
     "output_type": "stream",
     "text": [
      "3 4\n"
     ]
    }
   ],
   "source": [
    "print(r1.a,r1.b)"
   ]
  },
  {
   "cell_type": "code",
   "execution_count": 11,
   "id": "7dcd9009-ebaa-414e-b90c-9499d40dc00f",
   "metadata": {},
   "outputs": [
    {
     "name": "stdout",
     "output_type": "stream",
     "text": [
      "Hello World\n"
     ]
    }
   ],
   "source": [
    "class Test:\n",
    "    def __init__(self):\n",
    "        print(\"Hello World\")\n",
    "x=Test()"
   ]
  },
  {
   "cell_type": "code",
   "execution_count": 15,
   "id": "e0eecc88-23e9-4512-b414-63175afa48da",
   "metadata": {},
   "outputs": [],
   "source": [
    "class Test:\n",
    "    def __init__(self,a,b):\n",
    "        self.a=a\n",
    "        self.b=b\n",
    "x1=Test(33,44)"
   ]
  },
  {
   "cell_type": "code",
   "execution_count": 17,
   "id": "ffc4f656-1dff-4a42-9672-454974b32750",
   "metadata": {},
   "outputs": [
    {
     "name": "stdout",
     "output_type": "stream",
     "text": [
      "33 44\n"
     ]
    }
   ],
   "source": [
    "print(x1.a,x1.b)"
   ]
  },
  {
   "cell_type": "code",
   "execution_count": 19,
   "id": "ac4920f0-b2b7-4884-a341-d29e4251d225",
   "metadata": {},
   "outputs": [],
   "source": [
    "class Test:\n",
    "    def __init__(self,a,b,c,d):\n",
    "        self.a=a\n",
    "        self.b=b\n",
    "        self.c=c\n",
    "        self.d=d\n",
    "y=Test(4,5.6,True, \"jack\")\n",
    "        "
   ]
  },
  {
   "cell_type": "code",
   "execution_count": 21,
   "id": "b9c3916a-86de-447e-a182-975785e9a2bb",
   "metadata": {},
   "outputs": [
    {
     "name": "stdout",
     "output_type": "stream",
     "text": [
      "4 5.6 True jack\n"
     ]
    }
   ],
   "source": [
    "print(y.a,y.b,y.c,y.d)"
   ]
  },
  {
   "cell_type": "code",
   "execution_count": null,
   "id": "0068ecde-2074-49a4-8755-00e6013047c7",
   "metadata": {},
   "outputs": [],
   "source": []
  }
 ],
 "metadata": {
  "kernelspec": {
   "display_name": "Python [conda env:base] *",
   "language": "python",
   "name": "conda-base-py"
  },
  "language_info": {
   "codemirror_mode": {
    "name": "ipython",
    "version": 3
   },
   "file_extension": ".py",
   "mimetype": "text/x-python",
   "name": "python",
   "nbconvert_exporter": "python",
   "pygments_lexer": "ipython3",
   "version": "3.12.7"
  }
 },
 "nbformat": 4,
 "nbformat_minor": 5
}

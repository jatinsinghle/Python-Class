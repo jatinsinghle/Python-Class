{
 "cells": [
  {
   "cell_type": "markdown",
   "id": "49704ff6-236a-4157-bc4c-a6d6926e741a",
   "metadata": {},
   "source": [
    "Tuples\n",
    "\n",
    "Immutable list-like collection.\n",
    "\n",
    "Characteristics:\n",
    "\n",
    "Ordered elements.\n",
    "\n",
    "Unmodifiable post-creation.\n",
    "\n",
    "Allows duplicates.\n",
    "\n",
    "Create\n",
    "\n",
    "Access\n",
    "\n",
    "Edit\n",
    "\n",
    "Add\n",
    "\n",
    "Delete\n",
    "\n",
    "Operations\n",
    "\n",
    "Functions\n",
    "\n"
   ]
  },
  {
   "cell_type": "markdown",
   "id": "3de48ed2-8bd0-49fa-9dda-543e263716c2",
   "metadata": {},
   "source": [
    "                                                               1. Create"
   ]
  },
  {
   "cell_type": "code",
   "execution_count": 5,
   "id": "22d37e65-79e9-470f-a5a7-ad7422e2e0cd",
   "metadata": {},
   "outputs": [
    {
     "data": {
      "text/plain": [
       "()"
      ]
     },
     "execution_count": 5,
     "metadata": {},
     "output_type": "execute_result"
    }
   ],
   "source": [
    "#empty\n",
    "T1=()\n",
    "T1"
   ]
  },
  {
   "cell_type": "code",
   "execution_count": 7,
   "id": "427ea123-b57f-4d7b-800e-c876b761313e",
   "metadata": {},
   "outputs": [
    {
     "data": {
      "text/plain": [
       "(1, 2, 3, 4, 5)"
      ]
     },
     "execution_count": 7,
     "metadata": {},
     "output_type": "execute_result"
    }
   ],
   "source": [
    "#homogenous\n",
    "T2=(1,2,3,4,5)\n",
    "T2"
   ]
  },
  {
   "cell_type": "code",
   "execution_count": 9,
   "id": "23ac7200-0ac4-46c0-9732-df09eb86eac2",
   "metadata": {},
   "outputs": [
    {
     "data": {
      "text/plain": [
       "(55, 5.8, 'Jatin', True)"
      ]
     },
     "execution_count": 9,
     "metadata": {},
     "output_type": "execute_result"
    }
   ],
   "source": [
    "#hetrogenous\n",
    "T3=(55, 5.8, \"Jatin\", True)\n",
    "T3\n"
   ]
  },
  {
   "cell_type": "code",
   "execution_count": 11,
   "id": "daf631f9-50b0-4ee9-a442-8c435f807ada",
   "metadata": {},
   "outputs": [
    {
     "data": {
      "text/plain": [
       "(1, 2, 3, (4, 5))"
      ]
     },
     "execution_count": 11,
     "metadata": {},
     "output_type": "execute_result"
    }
   ],
   "source": [
    "#TUPLE\n",
    "T4=(1,2,3, (4,5))\n",
    "T4"
   ]
  },
  {
   "cell_type": "code",
   "execution_count": 15,
   "id": "eac7fc16-30bc-4406-8ec5-fee8eccef2b5",
   "metadata": {},
   "outputs": [
    {
     "data": {
      "text/plain": [
       "tuple"
      ]
     },
     "execution_count": 15,
     "metadata": {},
     "output_type": "execute_result"
    }
   ],
   "source": [
    "type(T4)"
   ]
  },
  {
   "cell_type": "code",
   "execution_count": 21,
   "id": "a7cf9a13-59ca-4f1c-ba49-9691ec32814a",
   "metadata": {},
   "outputs": [
    {
     "data": {
      "text/plain": [
       "('hello',)"
      ]
     },
     "execution_count": 21,
     "metadata": {},
     "output_type": "execute_result"
    }
   ],
   "source": [
    "# Single-item tuple creation\n",
    "T5=('hello', )\n",
    "T5"
   ]
  },
  {
   "cell_type": "code",
   "execution_count": 23,
   "id": "96745124-5b6c-4bf9-913d-483c216644d1",
   "metadata": {},
   "outputs": [
    {
     "data": {
      "text/plain": [
       "tuple"
      ]
     },
     "execution_count": 23,
     "metadata": {},
     "output_type": "execute_result"
    }
   ],
   "source": [
    "type(T5)"
   ]
  },
  {
   "cell_type": "code",
   "execution_count": 27,
   "id": "f87a8993-550c-4610-84f5-787b44feb4b8",
   "metadata": {},
   "outputs": [],
   "source": [
    "T6=tuple(\"Goa\")\n"
   ]
  },
  {
   "cell_type": "code",
   "execution_count": 29,
   "id": "0e011814-d600-4efe-adb0-775d35b637b9",
   "metadata": {},
   "outputs": [
    {
     "data": {
      "text/plain": [
       "tuple"
      ]
     },
     "execution_count": 29,
     "metadata": {},
     "output_type": "execute_result"
    }
   ],
   "source": [
    "type(T6)"
   ]
  },
  {
   "cell_type": "code",
   "execution_count": 33,
   "id": "2af75cd6-3ae5-48fb-9a16-8060eb7a9a5b",
   "metadata": {},
   "outputs": [
    {
     "data": {
      "text/plain": [
       "(1, 2, 3, 4, 5)"
      ]
     },
     "execution_count": 33,
     "metadata": {},
     "output_type": "execute_result"
    }
   ],
   "source": [
    "T6=tuple([1,2,3,4,5])\n",
    "T6"
   ]
  },
  {
   "cell_type": "markdown",
   "id": "f9932736-0fc5-4f32-871f-a55e7110a8f7",
   "metadata": {},
   "source": [
    "                                                                2. Access\n",
    "                                                                  Indexing\n",
    "                                                                  Slicing"
   ]
  },
  {
   "cell_type": "code",
   "execution_count": 40,
   "id": "5e7ea831-2aa4-4f90-9f2b-760d8fa4d63f",
   "metadata": {},
   "outputs": [],
   "source": [
    "T2=(1,2,3,4,5,6)"
   ]
  },
  {
   "cell_type": "code",
   "execution_count": 42,
   "id": "2b44dcf1-baa9-4438-b247-b9eeafbe6063",
   "metadata": {},
   "outputs": [
    {
     "data": {
      "text/plain": [
       "1"
      ]
     },
     "execution_count": 42,
     "metadata": {},
     "output_type": "execute_result"
    }
   ],
   "source": [
    "T2[0]"
   ]
  },
  {
   "cell_type": "code",
   "execution_count": 44,
   "id": "f425d1f4-be80-4037-8c64-22902eee1810",
   "metadata": {},
   "outputs": [
    {
     "data": {
      "text/plain": [
       "6"
      ]
     },
     "execution_count": 44,
     "metadata": {},
     "output_type": "execute_result"
    }
   ],
   "source": [
    "T2[-1]"
   ]
  },
  {
   "cell_type": "code",
   "execution_count": 46,
   "id": "77ed7b25-bdaf-4f56-936c-a326ccbede53",
   "metadata": {},
   "outputs": [
    {
     "data": {
      "text/plain": [
       "(1, 2, 3, 4, 5)"
      ]
     },
     "execution_count": 46,
     "metadata": {},
     "output_type": "execute_result"
    }
   ],
   "source": [
    "T2[:-1]"
   ]
  },
  {
   "cell_type": "code",
   "execution_count": 48,
   "id": "2f944727-0128-4c3d-9e71-2536d88062a8",
   "metadata": {},
   "outputs": [
    {
     "data": {
      "text/plain": [
       "(1, 2, 3, (4, 5))"
      ]
     },
     "execution_count": 48,
     "metadata": {},
     "output_type": "execute_result"
    }
   ],
   "source": [
    "T4"
   ]
  },
  {
   "cell_type": "code",
   "execution_count": 52,
   "id": "c2c7c31e-e61c-4b10-bcf5-dba141cee104",
   "metadata": {},
   "outputs": [
    {
     "data": {
      "text/plain": [
       "5"
      ]
     },
     "execution_count": 52,
     "metadata": {},
     "output_type": "execute_result"
    }
   ],
   "source": [
    "T4[-1][1]\n"
   ]
  },
  {
   "cell_type": "markdown",
   "id": "0a8f7e9e-4711-4ae3-a5e5-0922c3a91689",
   "metadata": {},
   "source": [
    "                                                                3.Edit                                                                "
   ]
  },
  {
   "cell_type": "code",
   "execution_count": 56,
   "id": "80a0aa22-5d4f-42d2-bc30-a12a02b6430c",
   "metadata": {},
   "outputs": [
    {
     "data": {
      "text/plain": [
       "(1, 2, 3, 4, 5, 6)"
      ]
     },
     "execution_count": 56,
     "metadata": {},
     "output_type": "execute_result"
    }
   ],
   "source": [
    "T2"
   ]
  },
  {
   "cell_type": "code",
   "execution_count": 58,
   "id": "8a95ef7e-c7e5-45bd-a308-7c201d62798f",
   "metadata": {},
   "outputs": [
    {
     "ename": "TypeError",
     "evalue": "'tuple' object does not support item assignment",
     "output_type": "error",
     "traceback": [
      "\u001b[1;31m---------------------------------------------------------------------------\u001b[0m",
      "\u001b[1;31mTypeError\u001b[0m                                 Traceback (most recent call last)",
      "Cell \u001b[1;32mIn[58], line 1\u001b[0m\n\u001b[1;32m----> 1\u001b[0m T2[\u001b[38;5;241m2\u001b[39m]\u001b[38;5;241m=\u001b[39m\u001b[38;5;241m8\u001b[39m\n",
      "\u001b[1;31mTypeError\u001b[0m: 'tuple' object does not support item assignment"
     ]
    }
   ],
   "source": [
    "T2[2]=8\n",
    "# Immutable, like strings"
   ]
  },
  {
   "cell_type": "markdown",
   "id": "564ec163-ff0c-4794-9023-dfdbe90e8e31",
   "metadata": {},
   "source": [
    "                                                                4. Add"
   ]
  },
  {
   "cell_type": "code",
   "execution_count": 64,
   "id": "ab8b1056-6323-4196-b06c-dc13d010c4f5",
   "metadata": {},
   "outputs": [],
   "source": [
    "#not possible\n",
    "#tuples:immutable"
   ]
  },
  {
   "cell_type": "markdown",
   "id": "e4df25a3-ad5a-4944-85c3-1eac5262e6cb",
   "metadata": {},
   "source": [
    "                                                              5. Delete"
   ]
  },
  {
   "cell_type": "code",
   "execution_count": 68,
   "id": "b4d8c6ad-a341-4b7f-9ac3-a0a3869ca5f4",
   "metadata": {},
   "outputs": [
    {
     "data": {
      "text/plain": [
       "()"
      ]
     },
     "execution_count": 68,
     "metadata": {},
     "output_type": "execute_result"
    }
   ],
   "source": [
    "T1"
   ]
  },
  {
   "cell_type": "code",
   "execution_count": 70,
   "id": "b3c5d8ad-cc7a-4464-87aa-2edd3199828f",
   "metadata": {},
   "outputs": [
    {
     "ename": "NameError",
     "evalue": "name 'T1' is not defined",
     "output_type": "error",
     "traceback": [
      "\u001b[1;31m---------------------------------------------------------------------------\u001b[0m",
      "\u001b[1;31mNameError\u001b[0m                                 Traceback (most recent call last)",
      "Cell \u001b[1;32mIn[70], line 2\u001b[0m\n\u001b[0;32m      1\u001b[0m \u001b[38;5;28;01mdel\u001b[39;00m T1\n\u001b[1;32m----> 2\u001b[0m T1\n",
      "\u001b[1;31mNameError\u001b[0m: name 'T1' is not defined"
     ]
    }
   ],
   "source": [
    "del T1\n",
    "T1"
   ]
  },
  {
   "cell_type": "code",
   "execution_count": 72,
   "id": "8239b9f1-c1cd-46d4-a881-0ecf050d3a56",
   "metadata": {},
   "outputs": [
    {
     "data": {
      "text/plain": [
       "(1, 2, 3, 4, 5, 6)"
      ]
     },
     "execution_count": 72,
     "metadata": {},
     "output_type": "execute_result"
    }
   ],
   "source": [
    "T2"
   ]
  },
  {
   "cell_type": "code",
   "execution_count": 74,
   "id": "aa06fdd3-1e2a-4a62-a4b5-36f35ef3ebbd",
   "metadata": {},
   "outputs": [
    {
     "ename": "SyntaxError",
     "evalue": "cannot delete function call (1610192391.py, line 1)",
     "output_type": "error",
     "traceback": [
      "\u001b[1;36m  Cell \u001b[1;32mIn[74], line 1\u001b[1;36m\u001b[0m\n\u001b[1;33m    del T2(-1)\u001b[0m\n\u001b[1;37m        ^\u001b[0m\n\u001b[1;31mSyntaxError\u001b[0m\u001b[1;31m:\u001b[0m cannot delete function call\n"
     ]
    }
   ],
   "source": [
    "del T2(-1)"
   ]
  },
  {
   "cell_type": "markdown",
   "id": "d702702b-e1f6-4d64-a959-bd3729351251",
   "metadata": {},
   "source": [
    "                                                        6. Operations"
   ]
  },
  {
   "cell_type": "code",
   "execution_count": 80,
   "id": "6e5898c1-3722-43d3-b898-8b72ca3cd5cb",
   "metadata": {},
   "outputs": [
    {
     "data": {
      "text/plain": [
       "(1, 2, 3, 4, 5, 6)"
      ]
     },
     "execution_count": 80,
     "metadata": {},
     "output_type": "execute_result"
    }
   ],
   "source": [
    "T2"
   ]
  },
  {
   "cell_type": "code",
   "execution_count": 82,
   "id": "c44901f5-d0d8-4689-97a7-01c8f6e70ddf",
   "metadata": {},
   "outputs": [
    {
     "data": {
      "text/plain": [
       "(55, 5.8, 'Jatin', True)"
      ]
     },
     "execution_count": 82,
     "metadata": {},
     "output_type": "execute_result"
    }
   ],
   "source": [
    "T3"
   ]
  },
  {
   "cell_type": "code",
   "execution_count": 84,
   "id": "3549ac9c-e53e-498d-a93e-c2dba00e4499",
   "metadata": {},
   "outputs": [
    {
     "data": {
      "text/plain": [
       "(1, 2, 3, 4, 5, 6, 55, 5.8, 'Jatin', True)"
      ]
     },
     "execution_count": 84,
     "metadata": {},
     "output_type": "execute_result"
    }
   ],
   "source": [
    "T2+T3"
   ]
  },
  {
   "cell_type": "code",
   "execution_count": 88,
   "id": "a912eab6-b6cb-4a3c-ae8c-f5735f1d2b55",
   "metadata": {},
   "outputs": [
    {
     "data": {
      "text/plain": [
       "(1, 2, 3, 4, 5, 6, 1, 2, 3, 4, 5, 6, 1, 2, 3, 4, 5, 6)"
      ]
     },
     "execution_count": 88,
     "metadata": {},
     "output_type": "execute_result"
    }
   ],
   "source": [
    "T2*3"
   ]
  },
  {
   "cell_type": "code",
   "execution_count": 90,
   "id": "c822711a-16fa-490d-b5b6-9af74ad5be92",
   "metadata": {},
   "outputs": [
    {
     "name": "stdout",
     "output_type": "stream",
     "text": [
      "1\n",
      "2\n",
      "3\n",
      "4\n",
      "5\n",
      "6\n"
     ]
    }
   ],
   "source": [
    "# iteration\n",
    "for i in T2:\n",
    "    print(i)\n"
   ]
  },
  {
   "cell_type": "code",
   "execution_count": 92,
   "id": "a0eec44a-ab22-486c-8474-297b509fa8c3",
   "metadata": {},
   "outputs": [
    {
     "data": {
      "text/plain": [
       "True"
      ]
     },
     "execution_count": 92,
     "metadata": {},
     "output_type": "execute_result"
    }
   ],
   "source": [
    "# membership\n",
    "1 in T2"
   ]
  },
  {
   "cell_type": "markdown",
   "id": "05283d16-f72f-47c4-94b5-ac8b28f1bb85",
   "metadata": {},
   "source": [
    "                                                       7. Functions"
   ]
  },
  {
   "cell_type": "code",
   "execution_count": 98,
   "id": "05cd6128-fdf5-4507-a79e-cba78e608456",
   "metadata": {},
   "outputs": [
    {
     "data": {
      "text/plain": [
       "6"
      ]
     },
     "execution_count": 98,
     "metadata": {},
     "output_type": "execute_result"
    }
   ],
   "source": [
    "len(T2)"
   ]
  },
  {
   "cell_type": "code",
   "execution_count": 100,
   "id": "41c83b8d-5c8f-422b-bcc7-e881c338b535",
   "metadata": {},
   "outputs": [
    {
     "data": {
      "text/plain": [
       "1"
      ]
     },
     "execution_count": 100,
     "metadata": {},
     "output_type": "execute_result"
    }
   ],
   "source": [
    "min(T2)"
   ]
  },
  {
   "cell_type": "code",
   "execution_count": 102,
   "id": "bf2e12a5-ba32-47d3-ac4b-581f1bb7b892",
   "metadata": {},
   "outputs": [
    {
     "data": {
      "text/plain": [
       "6"
      ]
     },
     "execution_count": 102,
     "metadata": {},
     "output_type": "execute_result"
    }
   ],
   "source": [
    "max(T2)"
   ]
  },
  {
   "cell_type": "code",
   "execution_count": 104,
   "id": "e70d1a13-e6ce-4f47-a486-5ab83937ed5d",
   "metadata": {},
   "outputs": [
    {
     "data": {
      "text/plain": [
       "[6, 5, 4, 3, 2, 1]"
      ]
     },
     "execution_count": 104,
     "metadata": {},
     "output_type": "execute_result"
    }
   ],
   "source": [
    "sorted(T2, reverse=True)"
   ]
  },
  {
   "cell_type": "code",
   "execution_count": 108,
   "id": "ef78b695-e63f-46f7-bc39-7d27933f7025",
   "metadata": {},
   "outputs": [
    {
     "data": {
      "text/plain": [
       "0"
      ]
     },
     "execution_count": 108,
     "metadata": {},
     "output_type": "execute_result"
    }
   ],
   "source": [
    "#count\n",
    "T=(11,22,33,44,55,66)\n",
    "T.count(77)"
   ]
  },
  {
   "cell_type": "code",
   "execution_count": null,
   "id": "67c994dc-b047-4876-ad0f-f179c8f5d0db",
   "metadata": {},
   "outputs": [],
   "source": [
    "#index\n"
   ]
  },
  {
   "cell_type": "markdown",
   "id": "60bf95c5-5f62-44af-b58c-c8b3c8904586",
   "metadata": {},
   "source": [
    "Lists vs Tuples\n",
    "\n",
    "Syntax:\n",
    "Lists: [ ]\n",
    "Tuples: ( )\n",
    "Mutability:\n",
    "Lists: Mutable\n",
    "Tuples: Immutable\n",
    "Speed:\n",
    "Lists: Slower (mutable)\n",
    "Tuples: Faster (immutable)\n",
    "Memory:\n",
    "Lists: Higher\n",
    "Tuples: Lower\n",
    "Functionality:\n",
    "Both: Indexing, slicing\n",
    "Lists: More methods\n",
    "Error-Prone:\n",
    "Lists: Modifiable\n",
    "Tuples: Safer\n",
    "Use Case:\n",
    "Lists: Dynamic\n",
    "Tuples: Static"
   ]
  },
  {
   "cell_type": "code",
   "execution_count": 114,
   "id": "ea9b7546-9f0e-4e4d-9696-eb931c99e311",
   "metadata": {},
   "outputs": [
    {
     "name": "stdout",
     "output_type": "stream",
     "text": [
      "List size 8056\n",
      "Tuple size 8040\n"
     ]
    }
   ],
   "source": [
    "import sys\n",
    "L = list(range(1000))\n",
    "T = tuple(range(1000))\n",
    "print('List size', sys.getsizeof(L))\n",
    "print('Tuple size', sys.getsizeof(T))"
   ]
  },
  {
   "cell_type": "code",
   "execution_count": 118,
   "id": "537851a7-7e96-4255-8bed-7f46b94a8014",
   "metadata": {},
   "outputs": [
    {
     "name": "stdout",
     "output_type": "stream",
     "text": [
      "[1, 2, 3, 4, 5, 6]\n",
      "[1, 2, 3, 4, 5, 6]\n"
     ]
    }
   ],
   "source": [
    "a=[1,2,3,4,5]\n",
    "a.append(6)\n",
    "b=a\n",
    "print(a)\n",
    "print(b)"
   ]
  },
  {
   "cell_type": "code",
   "execution_count": 120,
   "id": "9d2bf820-c5c7-4354-ba81-01bcc3b0b89d",
   "metadata": {},
   "outputs": [],
   "source": [
    "a=(1,2,3,4)\n",
    "b=a\n",
    "a=a+(5,)"
   ]
  },
  {
   "cell_type": "code",
   "execution_count": 122,
   "id": "17e49574-045b-48b2-b022-2a2a3a98c874",
   "metadata": {},
   "outputs": [
    {
     "name": "stdout",
     "output_type": "stream",
     "text": [
      "(1, 2, 3, 4, 5)\n",
      "(1, 2, 3, 4)\n"
     ]
    }
   ],
   "source": [
    "print(a)\n",
    "print(b)"
   ]
  },
  {
   "cell_type": "markdown",
   "id": "7ad95d35-9f9a-4202-b9d0-5fef158e3c1c",
   "metadata": {},
   "source": [
    "Q. Why use Tuples?\n",
    "Immutable; prevents changes.\n",
    "Ensures data integrity.\n",
    "Use for fixed collections.\n",
    "Example:\n",
    "college_database = ('CS', 'Math', 'Physics')\n",
    "# college_database[0] = 'Electronics'  # TypeError\n",
    "Use for static data; lists for mutable.\""
   ]
  },
  {
   "cell_type": "markdown",
   "id": "6c6e7c0e-8d4e-484d-a7e5-378399cad374",
   "metadata": {},
   "source": [
    "Special Syntax"
   ]
  },
  {
   "cell_type": "code",
   "execution_count": 127,
   "id": "6138f6ed-9c2d-493b-9d2f-33c5ec3d4e61",
   "metadata": {},
   "outputs": [
    {
     "name": "stdout",
     "output_type": "stream",
     "text": [
      "1 2 3\n"
     ]
    }
   ],
   "source": [
    "# tuple unpacking\n",
    "a, b, c = (1, 2, 3)\n",
    "print(a, b, c)"
   ]
  },
  {
   "cell_type": "code",
   "execution_count": 129,
   "id": "e29c2f72-7206-4642-b284-8d16d6d2e568",
   "metadata": {},
   "outputs": [
    {
     "name": "stdout",
     "output_type": "stream",
     "text": [
      "1 2\n",
      "[3, 4, 5]\n"
     ]
    }
   ],
   "source": [
    "a,b, *others= (1,2,3,4,5)\n",
    "print(a,b)\n",
    "print(others)"
   ]
  },
  {
   "cell_type": "code",
   "execution_count": 131,
   "id": "fe0c5397-8f18-4cb3-9106-37f433a5212f",
   "metadata": {},
   "outputs": [
    {
     "data": {
      "text/plain": [
       "((1, 5), (2, 6), (3, 7), (4, 8))"
      ]
     },
     "execution_count": 131,
     "metadata": {},
     "output_type": "execute_result"
    }
   ],
   "source": [
    "#zipping tuple\n",
    "a=(1,2,3,4)\n",
    "b=(5,6,7,8)\n",
    "tuple(zip(a,b))\n"
   ]
  },
  {
   "cell_type": "markdown",
   "id": "ad03aae0-e117-4721-9a10-095ccc19bf7e",
   "metadata": {},
   "source": [
    "Quiz:"
   ]
  },
  {
   "cell_type": "code",
   "execution_count": 134,
   "id": "a28bdca0-803b-40b6-b810-b5175ccbbd61",
   "metadata": {},
   "outputs": [],
   "source": [
    "#1.An immutable data structure"
   ]
  },
  {
   "cell_type": "code",
   "execution_count": 136,
   "id": "7538b894-63ea-45fc-bd21-89af490e5c1f",
   "metadata": {},
   "outputs": [],
   "source": [
    "#2. t = ()"
   ]
  },
  {
   "cell_type": "code",
   "execution_count": 138,
   "id": "60a7ce6f-cb6f-4e30-963a-20d1ffbe70cb",
   "metadata": {},
   "outputs": [],
   "source": [
    "#3. t = (10)"
   ]
  },
  {
   "cell_type": "code",
   "execution_count": 140,
   "id": "63839a1b-36fc-4fb8-99ab-7013cbd0d94e",
   "metadata": {},
   "outputs": [],
   "source": [
    "#4. b) Tuples are immutable, lists are mutable"
   ]
  },
  {
   "cell_type": "code",
   "execution_count": 142,
   "id": "8682f7c8-b08e-410b-8854-d1232bb9ca5a",
   "metadata": {},
   "outputs": [],
   "source": [
    "#5. b) Tuples are immutable, lists are mutable"
   ]
  },
  {
   "cell_type": "code",
   "execution_count": 144,
   "id": "4731f29b-e6be-4364-9f27-c81e20fece19",
   "metadata": {},
   "outputs": [],
   "source": [
    "#6. t[0]"
   ]
  },
  {
   "cell_type": "code",
   "execution_count": 146,
   "id": "11421bf0-f498-40cf-9723-1a6654fb4e2e",
   "metadata": {},
   "outputs": [],
   "source": [
    "#7. t[-1]"
   ]
  },
  {
   "cell_type": "code",
   "execution_count": 148,
   "id": "7495b8d5-4643-4cef-b32f-2ce549a19fd3",
   "metadata": {},
   "outputs": [],
   "source": [
    "#8. (20, 30)"
   ]
  },
  {
   "cell_type": "code",
   "execution_count": 150,
   "id": "04fbdf94-928b-4629-a36c-60999d423991",
   "metadata": {},
   "outputs": [],
   "source": [
    "#9.  It raises an error"
   ]
  },
  {
   "cell_type": "code",
   "execution_count": 154,
   "id": "1c9ee00a-06dc-41b2-a2ae-17c405815a5c",
   "metadata": {},
   "outputs": [],
   "source": [
    "#10. t.index(value)"
   ]
  },
  {
   "cell_type": "code",
   "execution_count": 162,
   "id": "79cd1578-5915-4357-ba34-33f388acccaa",
   "metadata": {},
   "outputs": [],
   "source": [
    "#11 t1 + t2"
   ]
  },
  {
   "cell_type": "code",
   "execution_count": 164,
   "id": "207ea977-316d-4c69-a1c1-41afb9246b68",
   "metadata": {},
   "outputs": [],
   "source": [
    "#12 ('a', 'a', 'a', 'b', 'b', 'b')\n",
    "\n"
   ]
  },
  {
   "cell_type": "code",
   "execution_count": 166,
   "id": "7e2a863e-6568-48c5-9f8f-091a50f480c0",
   "metadata": {},
   "outputs": [],
   "source": [
    "#13 20 in t"
   ]
  },
  {
   "cell_type": "code",
   "execution_count": 168,
   "id": "c800184c-d4f5-4d9e-823d-e601a7e25f85",
   "metadata": {},
   "outputs": [],
   "source": [
    "#14. (3, 4, 5)"
   ]
  },
  {
   "cell_type": "code",
   "execution_count": 178,
   "id": "3284d13f-ee5a-4738-95a9-8c194bc1ac16",
   "metadata": {},
   "outputs": [],
   "source": [
    "#15 10"
   ]
  },
  {
   "cell_type": "code",
   "execution_count": 180,
   "id": "60cfdcea-092a-4912-a007-8b685cd2949d",
   "metadata": {},
   "outputs": [],
   "source": [
    "#16 yes"
   ]
  },
  {
   "cell_type": "code",
   "execution_count": 182,
   "id": "a6cbb18a-9ee0-4acb-96b0-b29ba9702396",
   "metadata": {},
   "outputs": [],
   "source": [
    "#17 4"
   ]
  },
  {
   "cell_type": "code",
   "execution_count": 184,
   "id": "f824ad33-99e4-4244-b514-2b30082be3e1",
   "metadata": {},
   "outputs": [],
   "source": [
    "#18.  It returns a sorted tuple"
   ]
  },
  {
   "cell_type": "code",
   "execution_count": null,
   "id": "24d4f484-c51d-41eb-b47f-bf2e790ec3e0",
   "metadata": {},
   "outputs": [],
   "source": [
    "#!9. t.count(value)"
   ]
  },
  {
   "cell_type": "code",
   "execution_count": 187,
   "id": "678cac2c-5e9a-4ecf-a7a5-34f65b66ee0d",
   "metadata": {},
   "outputs": [],
   "source": [
    "#20 <class 'tuple'>"
   ]
  },
  {
   "cell_type": "code",
   "execution_count": null,
   "id": "e3c7ea59-a47b-43b5-b150-8ab5d3376daa",
   "metadata": {},
   "outputs": [],
   "source": []
  }
 ],
 "metadata": {
  "kernelspec": {
   "display_name": "Python [conda env:base] *",
   "language": "python",
   "name": "conda-base-py"
  },
  "language_info": {
   "codemirror_mode": {
    "name": "ipython",
    "version": 3
   },
   "file_extension": ".py",
   "mimetype": "text/x-python",
   "name": "python",
   "nbconvert_exporter": "python",
   "pygments_lexer": "ipython3",
   "version": "3.12.7"
  }
 },
 "nbformat": 4,
 "nbformat_minor": 5
}

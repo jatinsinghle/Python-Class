{
 "cells": [
  {
   "cell_type": "markdown",
   "id": "c855857c-22bd-41d9-bf91-9c469f11a148",
   "metadata": {},
   "source": [
    "Container Datatype"
   ]
  },
  {
   "cell_type": "code",
   "execution_count": null,
   "id": "9b32155a-9834-4ac7-bd44-fc303f6e9d82",
   "metadata": {},
   "outputs": [],
   "source": [
    "#List- [2,1.7, True]\n",
    "#tuple- ()\n",
    "#Set- {}\n",
    "#Dictionary- {key, value}"
   ]
  },
  {
   "cell_type": "code",
   "execution_count": 16,
   "id": "285546f6-46a1-413f-b3d0-79f7e336e00a",
   "metadata": {},
   "outputs": [],
   "source": [
    "#basic data type\n",
    "a = 10"
   ]
  },
  {
   "cell_type": "code",
   "execution_count": 18,
   "id": "c973aff8-4c8d-48ac-8ba8-2c8536122b5a",
   "metadata": {},
   "outputs": [
    {
     "data": {
      "text/plain": [
       "10"
      ]
     },
     "execution_count": 18,
     "metadata": {},
     "output_type": "execute_result"
    }
   ],
   "source": [
    "a"
   ]
  },
  {
   "cell_type": "code",
   "execution_count": 20,
   "id": "471db005-5850-44dc-9d9e-c17c779dfe0c",
   "metadata": {},
   "outputs": [
    {
     "data": {
      "text/plain": [
       "int"
      ]
     },
     "execution_count": 20,
     "metadata": {},
     "output_type": "execute_result"
    }
   ],
   "source": [
    "type(a)"
   ]
  },
  {
   "cell_type": "code",
   "execution_count": 30,
   "id": "b742da2b-01b2-4d12-a942-5b7b0034746c",
   "metadata": {},
   "outputs": [],
   "source": [
    "#Float Data Type\n",
    "b = 2.0"
   ]
  },
  {
   "cell_type": "code",
   "execution_count": 32,
   "id": "380512ab-40c2-443d-9482-88fc256b080b",
   "metadata": {},
   "outputs": [
    {
     "data": {
      "text/plain": [
       "float"
      ]
     },
     "execution_count": 32,
     "metadata": {},
     "output_type": "execute_result"
    }
   ],
   "source": [
    "type(b)"
   ]
  },
  {
   "cell_type": "code",
   "execution_count": 42,
   "id": "8e4bdbf0-ec57-49eb-b7b9-f93b139116d2",
   "metadata": {},
   "outputs": [],
   "source": [
    "#Complex Datatype\n",
    "c = 1+2j"
   ]
  },
  {
   "cell_type": "code",
   "execution_count": 44,
   "id": "f2c88c1e-3951-4044-abc2-f358b9ec6910",
   "metadata": {},
   "outputs": [
    {
     "data": {
      "text/plain": [
       "complex"
      ]
     },
     "execution_count": 44,
     "metadata": {},
     "output_type": "execute_result"
    }
   ],
   "source": [
    "type(c)"
   ]
  },
  {
   "cell_type": "code",
   "execution_count": 58,
   "id": "0c1e8a8a-e454-4a6d-b507-a9ad425b1b8a",
   "metadata": {},
   "outputs": [],
   "source": [
    "#Bool Datatype\n",
    "d = True"
   ]
  },
  {
   "cell_type": "code",
   "execution_count": 60,
   "id": "cdb00b6b-e4e7-4d0c-909f-53517ca6d7a6",
   "metadata": {},
   "outputs": [
    {
     "data": {
      "text/plain": [
       "bool"
      ]
     },
     "execution_count": 60,
     "metadata": {},
     "output_type": "execute_result"
    }
   ],
   "source": [
    "type(d)"
   ]
  },
  {
   "cell_type": "code",
   "execution_count": 68,
   "id": "8565c717-5c4e-4388-a95d-72eedddc7668",
   "metadata": {},
   "outputs": [],
   "source": [
    "#container dayta type\n",
    "a = list()"
   ]
  },
  {
   "cell_type": "code",
   "execution_count": 70,
   "id": "11635c45-766f-4a7b-933c-c1534e49ddb0",
   "metadata": {},
   "outputs": [
    {
     "data": {
      "text/plain": [
       "[]"
      ]
     },
     "execution_count": 70,
     "metadata": {},
     "output_type": "execute_result"
    }
   ],
   "source": [
    "a"
   ]
  },
  {
   "cell_type": "code",
   "execution_count": 112,
   "id": "263fe965-4c3a-4311-becb-0529d4683ec5",
   "metadata": {},
   "outputs": [],
   "source": [
    "x= [1,2,3,4,5]"
   ]
  },
  {
   "cell_type": "code",
   "execution_count": 114,
   "id": "2978655f-163c-455d-a3b9-b59d0c1f7e2f",
   "metadata": {},
   "outputs": [
    {
     "data": {
      "text/plain": [
       "[1, 2, 3, 4, 5]"
      ]
     },
     "execution_count": 114,
     "metadata": {},
     "output_type": "execute_result"
    }
   ],
   "source": [
    "x"
   ]
  },
  {
   "cell_type": "code",
   "execution_count": 117,
   "id": "9051b172-e029-4b7c-8f54-d161291d2df8",
   "metadata": {},
   "outputs": [
    {
     "data": {
      "text/plain": [
       "list"
      ]
     },
     "execution_count": 117,
     "metadata": {},
     "output_type": "execute_result"
    }
   ],
   "source": [
    "type(x)"
   ]
  },
  {
   "cell_type": "code",
   "execution_count": 72,
   "id": "135f6dd1-cf2f-47e6-8cff-e6fa7336e363",
   "metadata": {},
   "outputs": [
    {
     "data": {
      "text/plain": [
       "list"
      ]
     },
     "execution_count": 72,
     "metadata": {},
     "output_type": "execute_result"
    }
   ],
   "source": [
    "type(a)"
   ]
  },
  {
   "cell_type": "code",
   "execution_count": 74,
   "id": "d780893e-04da-4c27-8920-d9eb6ee40a02",
   "metadata": {},
   "outputs": [],
   "source": [
    "b = [1,2,3]"
   ]
  },
  {
   "cell_type": "code",
   "execution_count": 76,
   "id": "aa34f8b6-b1d0-448e-bf6b-13731650abff",
   "metadata": {},
   "outputs": [
    {
     "data": {
      "text/plain": [
       "[1, 2, 3]"
      ]
     },
     "execution_count": 76,
     "metadata": {},
     "output_type": "execute_result"
    }
   ],
   "source": [
    "b"
   ]
  },
  {
   "cell_type": "code",
   "execution_count": 78,
   "id": "73442777-9df4-472b-847e-97e436b5b7bf",
   "metadata": {},
   "outputs": [
    {
     "data": {
      "text/plain": [
       "list"
      ]
     },
     "execution_count": 78,
     "metadata": {},
     "output_type": "execute_result"
    }
   ],
   "source": [
    "type(b)"
   ]
  },
  {
   "cell_type": "code",
   "execution_count": 80,
   "id": "909db388-06df-4b1a-b53e-bae5ee26c702",
   "metadata": {},
   "outputs": [],
   "source": [
    "#tuple\n",
    "a = tuple()"
   ]
  },
  {
   "cell_type": "code",
   "execution_count": 82,
   "id": "600242ed-6c09-434d-91f4-9f551ef2dbd3",
   "metadata": {},
   "outputs": [
    {
     "data": {
      "text/plain": [
       "()"
      ]
     },
     "execution_count": 82,
     "metadata": {},
     "output_type": "execute_result"
    }
   ],
   "source": [
    "a"
   ]
  },
  {
   "cell_type": "code",
   "execution_count": 84,
   "id": "6a3b2b61-8a9a-48f2-8341-ccc495c5cf2c",
   "metadata": {},
   "outputs": [
    {
     "data": {
      "text/plain": [
       "tuple"
      ]
     },
     "execution_count": 84,
     "metadata": {},
     "output_type": "execute_result"
    }
   ],
   "source": [
    "type(a)"
   ]
  },
  {
   "cell_type": "code",
   "execution_count": 119,
   "id": "21eadc25-abcf-4378-8925-3856f99335d6",
   "metadata": {},
   "outputs": [],
   "source": [
    "y= (400, 'True, 4.55')"
   ]
  },
  {
   "cell_type": "code",
   "execution_count": 121,
   "id": "06d63ea7-b22f-4d86-93b3-932aa241b739",
   "metadata": {},
   "outputs": [
    {
     "data": {
      "text/plain": [
       "(400, 'True, 4.55')"
      ]
     },
     "execution_count": 121,
     "metadata": {},
     "output_type": "execute_result"
    }
   ],
   "source": [
    "y"
   ]
  },
  {
   "cell_type": "code",
   "execution_count": 123,
   "id": "900699fb-8917-4b04-bde5-60ba4b9c9e12",
   "metadata": {},
   "outputs": [
    {
     "data": {
      "text/plain": [
       "tuple"
      ]
     },
     "execution_count": 123,
     "metadata": {},
     "output_type": "execute_result"
    }
   ],
   "source": [
    "type(y)"
   ]
  },
  {
   "cell_type": "code",
   "execution_count": 88,
   "id": "ffda1a14-6cdc-468c-931d-daa7a26dc66d",
   "metadata": {},
   "outputs": [],
   "source": [
    "#set\n",
    "a = set()"
   ]
  },
  {
   "cell_type": "code",
   "execution_count": 90,
   "id": "5c7abef1-9e50-4ae5-8067-702757874c29",
   "metadata": {},
   "outputs": [
    {
     "data": {
      "text/plain": [
       "set()"
      ]
     },
     "execution_count": 90,
     "metadata": {},
     "output_type": "execute_result"
    }
   ],
   "source": [
    "a "
   ]
  },
  {
   "cell_type": "code",
   "execution_count": 92,
   "id": "666ce71d-df5d-497b-b96b-31ab2e33cfd8",
   "metadata": {},
   "outputs": [],
   "source": [
    "b = {1,2,3}"
   ]
  },
  {
   "cell_type": "code",
   "execution_count": 94,
   "id": "c816b4da-619c-4fbf-ae42-41219c814664",
   "metadata": {},
   "outputs": [
    {
     "data": {
      "text/plain": [
       "{1, 2, 3}"
      ]
     },
     "execution_count": 94,
     "metadata": {},
     "output_type": "execute_result"
    }
   ],
   "source": [
    "b"
   ]
  },
  {
   "cell_type": "code",
   "execution_count": 96,
   "id": "ccfcbebc-75f6-4e87-8db0-39addf9de85c",
   "metadata": {},
   "outputs": [
    {
     "data": {
      "text/plain": [
       "set"
      ]
     },
     "execution_count": 96,
     "metadata": {},
     "output_type": "execute_result"
    }
   ],
   "source": [
    "type(b)"
   ]
  },
  {
   "cell_type": "code",
   "execution_count": 98,
   "id": "18ecc328-dec8-4c94-8741-11817d448039",
   "metadata": {},
   "outputs": [],
   "source": [
    "#dict\n",
    "a = dict()"
   ]
  },
  {
   "cell_type": "code",
   "execution_count": 100,
   "id": "aedaedee-e77a-4bfa-80f9-135669b10481",
   "metadata": {},
   "outputs": [
    {
     "data": {
      "text/plain": [
       "{}"
      ]
     },
     "execution_count": 100,
     "metadata": {},
     "output_type": "execute_result"
    }
   ],
   "source": [
    "a"
   ]
  },
  {
   "cell_type": "code",
   "execution_count": 102,
   "id": "b821d92a-f08f-4065-98fd-ad0d245eabf9",
   "metadata": {},
   "outputs": [],
   "source": [
    "b = {'name':'rahul'}"
   ]
  },
  {
   "cell_type": "code",
   "execution_count": 104,
   "id": "afd203cc-bc95-4ff1-9f7c-332e36cd952a",
   "metadata": {},
   "outputs": [
    {
     "data": {
      "text/plain": [
       "{'name': 'rahul'}"
      ]
     },
     "execution_count": 104,
     "metadata": {},
     "output_type": "execute_result"
    }
   ],
   "source": [
    "b"
   ]
  },
  {
   "cell_type": "code",
   "execution_count": 106,
   "id": "b39b7e88-754e-41d0-9d97-708bf2436b19",
   "metadata": {},
   "outputs": [
    {
     "data": {
      "text/plain": [
       "dict"
      ]
     },
     "execution_count": 106,
     "metadata": {},
     "output_type": "execute_result"
    }
   ],
   "source": [
    "type(b)"
   ]
  },
  {
   "cell_type": "code",
   "execution_count": 125,
   "id": "240f0506-a719-4994-879a-cc67aae255a1",
   "metadata": {},
   "outputs": [],
   "source": [
    "c={'name': 'Jatin'}"
   ]
  },
  {
   "cell_type": "code",
   "execution_count": 127,
   "id": "3c7fa3b2-11ae-4cc8-b974-bf2b7c4c67b4",
   "metadata": {},
   "outputs": [
    {
     "data": {
      "text/plain": [
       "{'name': 'Jatin'}"
      ]
     },
     "execution_count": 127,
     "metadata": {},
     "output_type": "execute_result"
    }
   ],
   "source": [
    "c\n"
   ]
  },
  {
   "cell_type": "code",
   "execution_count": 129,
   "id": "b83b36aa-6272-4649-a6aa-a0e2628eb752",
   "metadata": {},
   "outputs": [
    {
     "data": {
      "text/plain": [
       "dict"
      ]
     },
     "execution_count": 129,
     "metadata": {},
     "output_type": "execute_result"
    }
   ],
   "source": [
    "type(c)"
   ]
  },
  {
   "cell_type": "code",
   "execution_count": 132,
   "id": "c6489ef5-72fb-44e2-bea1-41b99271a936",
   "metadata": {},
   "outputs": [],
   "source": [
    "d={'AGE': 20}"
   ]
  },
  {
   "cell_type": "code",
   "execution_count": 136,
   "id": "a9d8fb93-204d-4215-bc21-36ba1f086581",
   "metadata": {},
   "outputs": [
    {
     "data": {
      "text/plain": [
       "{'AGE': '20'}"
      ]
     },
     "execution_count": 136,
     "metadata": {},
     "output_type": "execute_result"
    }
   ],
   "source": [
    "d"
   ]
  },
  {
   "cell_type": "code",
   "execution_count": 134,
   "id": "f362f9da-2f7e-4098-b717-28532fc9ac84",
   "metadata": {},
   "outputs": [
    {
     "data": {
      "text/plain": [
       "dict"
      ]
     },
     "execution_count": 134,
     "metadata": {},
     "output_type": "execute_result"
    }
   ],
   "source": [
    "type(d)"
   ]
  },
  {
   "cell_type": "code",
   "execution_count": 148,
   "id": "bb093f24-b514-47d7-bcbb-ca190476b4bb",
   "metadata": {},
   "outputs": [],
   "source": [
    "l1 = [1,2.0,True,1+2j,'ramesh']#list hetrogenous\n",
    "    \n",
    "    "
   ]
  },
  {
   "cell_type": "code",
   "execution_count": 150,
   "id": "b47cab27-74eb-40fc-b183-ced894ff5c43",
   "metadata": {},
   "outputs": [
    {
     "name": "stdout",
     "output_type": "stream",
     "text": [
      "[1, 2.0, True, (1+2j), 'ramesh']\n"
     ]
    }
   ],
   "source": [
    "print(l1)"
   ]
  },
  {
   "cell_type": "code",
   "execution_count": 152,
   "id": "95f48189-cd39-4907-95fd-ea4b515572da",
   "metadata": {},
   "outputs": [
    {
     "data": {
      "text/plain": [
       "list"
      ]
     },
     "execution_count": 152,
     "metadata": {},
     "output_type": "execute_result"
    }
   ],
   "source": [
    "type(l1)"
   ]
  },
  {
   "cell_type": "code",
   "execution_count": 154,
   "id": "a316a7e8-3c77-4bd2-a05e-0c963a505a95",
   "metadata": {},
   "outputs": [
    {
     "data": {
      "text/plain": [
       "5"
      ]
     },
     "execution_count": 154,
     "metadata": {},
     "output_type": "execute_result"
    }
   ],
   "source": [
    "len(l1)"
   ]
  },
  {
   "cell_type": "code",
   "execution_count": 156,
   "id": "3eb266a4-ba16-4372-8986-b489f9508c4d",
   "metadata": {},
   "outputs": [],
   "source": [
    "b = ('ramesh',2.0,1,True)#hetrogeneous"
   ]
  },
  {
   "cell_type": "code",
   "execution_count": 158,
   "id": "412756c8-2b8b-4d34-9113-89f520dd1cf5",
   "metadata": {},
   "outputs": [
    {
     "data": {
      "text/plain": [
       "('ramesh', 2.0, 1, True)"
      ]
     },
     "execution_count": 158,
     "metadata": {},
     "output_type": "execute_result"
    }
   ],
   "source": [
    "b"
   ]
  },
  {
   "cell_type": "code",
   "execution_count": 160,
   "id": "491f2772-8616-4f43-9f36-b51133859ac1",
   "metadata": {},
   "outputs": [
    {
     "data": {
      "text/plain": [
       "4"
      ]
     },
     "execution_count": 160,
     "metadata": {},
     "output_type": "execute_result"
    }
   ],
   "source": [
    "len(b)"
   ]
  },
  {
   "cell_type": "code",
   "execution_count": 162,
   "id": "dea9324d-f956-4e47-9dbf-359b3a96f143",
   "metadata": {},
   "outputs": [
    {
     "data": {
      "text/plain": [
       "tuple"
      ]
     },
     "execution_count": 162,
     "metadata": {},
     "output_type": "execute_result"
    }
   ],
   "source": [
    "type(b)"
   ]
  },
  {
   "cell_type": "code",
   "execution_count": 180,
   "id": "364faf94-b6a0-4a0b-8fb1-207aeb09023e",
   "metadata": {},
   "outputs": [],
   "source": [
    "#duplicated value\n",
    "c = {1,2,1,2.5,2,'ramesh',True}"
   ]
  },
  {
   "cell_type": "code",
   "execution_count": 172,
   "id": "cab29ee3-8c76-4420-964d-2f04eaad2f8e",
   "metadata": {},
   "outputs": [
    {
     "data": {
      "text/plain": [
       "{1, 2, 2.5, 'ramesh'}"
      ]
     },
     "execution_count": 172,
     "metadata": {},
     "output_type": "execute_result"
    }
   ],
   "source": [
    "c"
   ]
  },
  {
   "cell_type": "code",
   "execution_count": 178,
   "id": "45e57f53-4f90-45fa-b313-699ce12739d5",
   "metadata": {},
   "outputs": [
    {
     "data": {
      "text/plain": [
       "set"
      ]
     },
     "execution_count": 178,
     "metadata": {},
     "output_type": "execute_result"
    }
   ],
   "source": [
    "type(c)"
   ]
  },
  {
   "cell_type": "code",
   "execution_count": 174,
   "id": "c60e2a87-8349-4d94-92c8-6d6b1ebb3de8",
   "metadata": {},
   "outputs": [],
   "source": [
    "d = {'age':20}"
   ]
  },
  {
   "cell_type": "code",
   "execution_count": 176,
   "id": "7b081804-3fc6-4fa7-b9db-3046e45ebb66",
   "metadata": {},
   "outputs": [
    {
     "data": {
      "text/plain": [
       "{'age': 20}"
      ]
     },
     "execution_count": 176,
     "metadata": {},
     "output_type": "execute_result"
    }
   ],
   "source": [
    "d"
   ]
  },
  {
   "cell_type": "code",
   "execution_count": 182,
   "id": "6867b4ca-1f20-441c-b798-6f4741f2fe54",
   "metadata": {},
   "outputs": [],
   "source": [
    "e={200,400,200}"
   ]
  },
  {
   "cell_type": "code",
   "execution_count": 186,
   "id": "aef59c03-318a-4a40-922b-07fc5fd5a5af",
   "metadata": {},
   "outputs": [
    {
     "data": {
      "text/plain": [
       "set"
      ]
     },
     "execution_count": 186,
     "metadata": {},
     "output_type": "execute_result"
    }
   ],
   "source": [
    "type(e)"
   ]
  },
  {
   "cell_type": "code",
   "execution_count": 202,
   "id": "1bd27bb9-e154-43c1-b94f-021010b7422c",
   "metadata": {},
   "outputs": [
    {
     "name": "stdin",
     "output_type": "stream",
     "text": [
      "Enter Value 80\n"
     ]
    },
    {
     "name": "stdout",
     "output_type": "stream",
     "text": [
      "Fail\n"
     ]
    }
   ],
   "source": [
    "\n",
    "a = int(input('Enter Value'))\n",
    "if a>=90:\n",
    "    print('pass')\n",
    "else:\n",
    "    print('Fail')\n"
   ]
  },
  {
   "cell_type": "code",
   "execution_count": 204,
   "id": "0fd39ee9-0a28-45e2-9e19-19622dce13a1",
   "metadata": {},
   "outputs": [
    {
     "name": "stdin",
     "output_type": "stream",
     "text": [
      "Enter Age 18\n"
     ]
    },
    {
     "name": "stdout",
     "output_type": "stream",
     "text": [
      "Eligible to vote\n"
     ]
    }
   ],
   "source": [
    "age= int(input('Enter Age'))\n",
    "if age>=18:\n",
    "    print('Eligible to vote')\n",
    "else:\n",
    "    print('Not Eligible to vote')"
   ]
  },
  {
   "cell_type": "code",
   "execution_count": null,
   "id": "1c83eb6f-1ed3-42d4-ade4-62675461626e",
   "metadata": {},
   "outputs": [],
   "source": []
  }
 ],
 "metadata": {
  "kernelspec": {
   "display_name": "Python [conda env:base] *",
   "language": "python",
   "name": "conda-base-py"
  },
  "language_info": {
   "codemirror_mode": {
    "name": "ipython",
    "version": 3
   },
   "file_extension": ".py",
   "mimetype": "text/x-python",
   "name": "python",
   "nbconvert_exporter": "python",
   "pygments_lexer": "ipython3",
   "version": "3.12.7"
  }
 },
 "nbformat": 4,
 "nbformat_minor": 5
}

{
 "cells": [
  {
   "cell_type": "markdown",
   "id": "05ed37bf-69da-4e7e-88d5-1e51fec24848",
   "metadata": {},
   "source": [
    "User Input"
   ]
  },
  {
   "cell_type": "code",
   "execution_count": 2,
   "id": "2e1a67b0-7226-4929-8df6-43c3f0ce6c8f",
   "metadata": {},
   "outputs": [
    {
     "name": "stdin",
     "output_type": "stream",
     "text": [
      "enter your mail singhlejatin@gmail.com\n"
     ]
    },
    {
     "data": {
      "text/plain": [
       "'singhlejatin@gmail.com'"
      ]
     },
     "execution_count": 2,
     "metadata": {},
     "output_type": "execute_result"
    }
   ],
   "source": [
    "input('enter your mail')"
   ]
  },
  {
   "cell_type": "code",
   "execution_count": 4,
   "id": "773f0aa6-f76e-4ebe-a1fe-8957bb418597",
   "metadata": {},
   "outputs": [
    {
     "name": "stdin",
     "output_type": "stream",
     "text": [
      "Enter your Address Faridabad\n"
     ]
    },
    {
     "data": {
      "text/plain": [
       "'Faridabad'"
      ]
     },
     "execution_count": 4,
     "metadata": {},
     "output_type": "execute_result"
    }
   ],
   "source": [
    "input('Enter your Address')"
   ]
  },
  {
   "cell_type": "code",
   "execution_count": 6,
   "id": "2179804d-d64f-484e-ba74-b8876be2b8da",
   "metadata": {},
   "outputs": [
    {
     "name": "stdin",
     "output_type": "stream",
     "text": [
      "enter your password 12345678\n"
     ]
    },
    {
     "data": {
      "text/plain": [
       "'12345678'"
      ]
     },
     "execution_count": 6,
     "metadata": {},
     "output_type": "execute_result"
    }
   ],
   "source": [
    "input('enter your password')"
   ]
  },
  {
   "cell_type": "code",
   "execution_count": 22,
   "id": "c800d1a9-92a7-4fba-9c11-fdc8f237b758",
   "metadata": {},
   "outputs": [
    {
     "name": "stdin",
     "output_type": "stream",
     "text": [
      "Enter your name Jatin\n",
      "Enter your age 20\n",
      "Enter your mail singhlejatin@gmail.com\n",
      "Enter your mobile no 9540473033\n"
     ]
    }
   ],
   "source": [
    "name= input('Enter your name')\n",
    "age= input('Enter your age')\n",
    "mail= input('Enter your mail')\n",
    "mobile_no = input('Enter your mobile no')\n"
   ]
  },
  {
   "cell_type": "code",
   "execution_count": 24,
   "id": "199af17a-f89a-4028-955d-6c30554542bb",
   "metadata": {},
   "outputs": [],
   "source": [
    "a=10\n",
    "b=10\n",
    "c=30"
   ]
  },
  {
   "cell_type": "code",
   "execution_count": 26,
   "id": "617be800-4c43-4349-8770-a127c24db0dc",
   "metadata": {},
   "outputs": [
    {
     "name": "stdout",
     "output_type": "stream",
     "text": [
      "50\n"
     ]
    }
   ],
   "source": [
    "print(a+b+c)"
   ]
  },
  {
   "cell_type": "code",
   "execution_count": 28,
   "id": "87f148e0-b543-45bb-8242-335532e1f19e",
   "metadata": {},
   "outputs": [],
   "source": [
    "a=10\n",
    "b= a+10"
   ]
  },
  {
   "cell_type": "code",
   "execution_count": 30,
   "id": "f315fa65-f558-4562-9f61-e7d3e988a381",
   "metadata": {},
   "outputs": [
    {
     "name": "stdout",
     "output_type": "stream",
     "text": [
      "20\n"
     ]
    }
   ],
   "source": [
    "print(b)"
   ]
  },
  {
   "cell_type": "code",
   "execution_count": 32,
   "id": "1710978b-76b3-422c-831c-c04b2df8ec14",
   "metadata": {},
   "outputs": [],
   "source": [
    "a=10\n",
    "b=a+20\n",
    "c=a+b+30"
   ]
  },
  {
   "cell_type": "code",
   "execution_count": 34,
   "id": "78379a76-f9d8-4f29-a691-b9cc4fa6c338",
   "metadata": {},
   "outputs": [
    {
     "name": "stdout",
     "output_type": "stream",
     "text": [
      "70\n"
     ]
    }
   ],
   "source": [
    "print(c)"
   ]
  },
  {
   "cell_type": "code",
   "execution_count": 36,
   "id": "cad35723-4161-4622-a7dd-19d84a79a821",
   "metadata": {},
   "outputs": [],
   "source": [
    "my_first_value = 10\n",
    "mysecondvalue = 10"
   ]
  },
  {
   "cell_type": "code",
   "execution_count": 38,
   "id": "7fa6ec28-68fc-49b7-b526-b4d8c7925272",
   "metadata": {},
   "outputs": [
    {
     "name": "stdout",
     "output_type": "stream",
     "text": [
      "20\n"
     ]
    }
   ],
   "source": [
    "print(my_first_value+mysecondvalue)"
   ]
  },
  {
   "cell_type": "code",
   "execution_count": 42,
   "id": "1f22c9fe-4cc9-46c2-a34e-c3988acc11f7",
   "metadata": {},
   "outputs": [
    {
     "data": {
      "text/plain": [
       "1800"
      ]
     },
     "execution_count": 42,
     "metadata": {},
     "output_type": "execute_result"
    }
   ],
   "source": [
    "Jatin=500\n",
    "Rahul=300\n",
    "Rahul+Jatin+1000"
   ]
  },
  {
   "cell_type": "code",
   "execution_count": 52,
   "id": "02adf436-9bc5-49bc-aeb6-a4b3184820c2",
   "metadata": {},
   "outputs": [],
   "source": [
    "Jatin=50\n",
    "Rahul=Jatin+30"
   ]
  },
  {
   "cell_type": "code",
   "execution_count": 54,
   "id": "48d260c7-ebf2-4c63-8224-903f831e75d7",
   "metadata": {},
   "outputs": [
    {
     "name": "stdout",
     "output_type": "stream",
     "text": [
      "80\n"
     ]
    }
   ],
   "source": [
    "print(Rahul)"
   ]
  },
  {
   "cell_type": "code",
   "execution_count": null,
   "id": "23340ae4-39bb-471f-bab6-1665213b5f76",
   "metadata": {},
   "outputs": [],
   "source": []
  }
 ],
 "metadata": {
  "kernelspec": {
   "display_name": "Python [conda env:base] *",
   "language": "python",
   "name": "conda-base-py"
  },
  "language_info": {
   "codemirror_mode": {
    "name": "ipython",
    "version": 3
   },
   "file_extension": ".py",
   "mimetype": "text/x-python",
   "name": "python",
   "nbconvert_exporter": "python",
   "pygments_lexer": "ipython3",
   "version": "3.12.7"
  }
 },
 "nbformat": 4,
 "nbformat_minor": 5
}
